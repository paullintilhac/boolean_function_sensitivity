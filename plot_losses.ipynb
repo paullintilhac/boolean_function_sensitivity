{
 "cells": [
  {
   "cell_type": "code",
   "execution_count": 78,
   "id": "efd5999a-8c66-4a9c-9143-8df9bfbd35df",
   "metadata": {},
   "outputs": [
    {
     "name": "stdout",
     "output_type": "stream",
     "text": [
      "trying to load ./HYPERPARAM_TESTS2/model_69000.pt\n"
     ]
    },
    {
     "data": {
      "text/plain": [
       "Transformer(\n",
       "  (embeddings): Embedding(2, 60)\n",
       "  (transformer): Sequential(\n",
       "    (0): AttentionBlock(\n",
       "      (attn): CustomMHA(\n",
       "        (out_proj): NonDynamicallyQuantizableLinear(in_features=80, out_features=80, bias=False)\n",
       "      )\n",
       "      (linear): Sequential(\n",
       "        (0): Linear(in_features=80, out_features=128, bias=True)\n",
       "        (1): ReLU()\n",
       "        (2): Linear(in_features=128, out_features=80, bias=True)\n",
       "      )\n",
       "    )\n",
       "  )\n",
       ")"
      ]
     },
     "execution_count": 78,
     "metadata": {},
     "output_type": "execute_result"
    }
   ],
   "source": [
    "import os\n",
    "import torch\n",
    "import itertools\n",
    "from transformer import Transformer\n",
    "\n",
    "N=20\n",
    "dropout = .5\n",
    "h=1\n",
    "dim=120\n",
    "l=1\n",
    "f=128\n",
    "ln_eps=1e-5\n",
    "ln=False\n",
    "iter=69000\n",
    "i=1\n",
    "deg=5\n",
    "width=20\n",
    "folderName = \".\"\n",
    "dir_name = os.path.join(folderName,\"HYPERPARAM_TESTS2\")\n",
    "seedNum = int(str(i)+str(deg)+str(width))\n",
    "device = \"cuda:0\"\n",
    "rank=0\n",
    "\n",
    "def rboolf(N, width, deg,seed=None):\n",
    "    if seed:\n",
    "        torch.manual_seed(seed)\n",
    "    coefficients = torch.randn(width).to(device)\n",
    "    #print(\"coefficients initial shape: \" + str(coefficients.shape) + \", width: \" + str(width))\n",
    "    coefficients = (coefficients-coefficients.mean())/coefficients.pow(2).sum().sqrt()\n",
    "    \n",
    "    combs = torch.tensor(list(itertools.combinations(torch.arange(N), deg))).to(device)\n",
    "    combs = combs[torch.randperm(len(combs))][:width] # Shuffled\n",
    "    return (coefficients, combs)\n",
    "\n",
    "\n",
    "(coefs, combs) = rboolf(N, width, deg,seed=seedNum)\n",
    "model = Transformer(dropout,N, dim, h, l, f, ln_eps,rank,ln)\n",
    "# Load the state dictionary from a file\n",
    "#try:\n",
    "print(\"trying to load \" + str(dir_name+\"/model_\"+str(iter)+\".pt\"))\n",
    "state_dict = torch.load(dir_name+\"/model_\"+str(iter)+\".pt\")\n",
    "model.load_state_dict(state_dict)\n",
    "model.eval()\n"
   ]
  },
  {
   "cell_type": "code",
   "execution_count": 79,
   "id": "80b5ae4c-9540-429a-bad9-1c8231f26c52",
   "metadata": {},
   "outputs": [
    {
     "name": "stdout",
     "output_type": "stream",
     "text": [
      "top eigs: [13424.126953125]\n",
      "top eig Hessian: 13424.126953125, trace Hessian: 65365.505208333336\n",
      "weight norm: 52.92743861144146\n"
     ]
    }
   ],
   "source": [
    "import time \n",
    "import copy\n",
    "import random\n",
    "from pyhessian.hessian import hessian\n",
    "import numpy as np\n",
    "\n",
    "def makeBitTensor(x, N):\n",
    "    y = format(x, \"b\")\n",
    "    y = (\"0\"*(N-len(y))) + y\n",
    "    return [int(z) for z in list(y)]\n",
    "    \n",
    "def get_weight_norm(model):\n",
    "       total_norm = 0.0\n",
    "       for p in model.parameters():\n",
    "           if p.requires_grad:\n",
    "               param_norm = p.data.norm(2)\n",
    "               total_norm += param_norm.item() ** 2\n",
    "       return total_norm ** 0.5\n",
    "    \n",
    "def calc_hessian(model, loss_fn, num_samples):\n",
    "        model.eval().to(device)\n",
    "        inputs = torch.tensor([random.randint(0, 2**N-1) for _ in range(num_samples)]).to(device)\n",
    "        targets = func_batch(inputs).to(device)\n",
    "        data = (inputs, targets)        \n",
    "\n",
    "        # Estimate using PyHessian -- very good\n",
    "        hess_mod = hessian(model, loss_fn, data, device=0)\n",
    "        for param in model.parameters():\n",
    "            param.grad = None\n",
    "        top_eigs, top_eigVs = hess_mod.eigenvalues(maxIter = 200)\n",
    "        print(\"top eigs: \" + str(top_eigs))\n",
    "        top_eig = top_eigs[0] \n",
    "        \n",
    "        trace = hess_mod.trace()\n",
    "        return top_eig, np.mean(trace)\n",
    "    \n",
    "def func_batch(x):\n",
    "    binaryTensor = ((torch.tensor([makeBitTensor(y,N) for y in x])-.5)*2)\n",
    "    comps = []\n",
    "    #print(\"self.combs length: \" + str(len(self.combs)))\n",
    "    for elem in combs:\n",
    "        res = torch.tensor([1]*len(x))\n",
    "        for e in elem:\n",
    "            bitCol = binaryTensor[:,e]\n",
    "            res = torch.mul(res, bitCol)\n",
    "        comps.append(res)\n",
    "    comps = torch.transpose(torch.stack(comps),1,0).to(device)\n",
    "    return torch.matmul(comps, coefs).to(device)\n",
    "\n",
    "loss_fn = lambda result, targets: (result-targets).pow(2).mean()\n",
    "    \n",
    "start_time_hessian = time.time()\n",
    "\n",
    "top_eig, trace = calc_hessian(copy.deepcopy(model), loss_fn=loss_fn, num_samples= 1000)\n",
    "print(\"top eig Hessian: \" + str(top_eig)+\", trace Hessian: \" + str(trace))\n",
    "weight_norm = 0\n",
    "weight_norm = get_weight_norm(model)\n",
    "print(\"weight norm: \" + str(weight_norm))\n",
    "#weight_norm = torch.linalg.norm(self.model.weight)\n",
    "top_eig=0\n",
    "trace = 0\n",
    "end_time_hessian = time.time()\n",
    "elapsed_time_hessian = round((end_time_hessian - start_time_hessian)/60,3) "
   ]
  },
  {
   "cell_type": "code",
   "execution_count": 153,
   "id": "b15d1572-254e-4bcc-90d1-351275dd52f0",
   "metadata": {},
   "outputs": [
    {
     "name": "stdout",
     "output_type": "stream",
     "text": [
      "max data val: 20.551548\n",
      "t_max: 1.0792719737319065\n"
     ]
    },
    {
     "data": {
      "image/png": "[encoded data removed]",
      "text/plain": [
       "<Figure size 640x480 with 1 Axes>"
      ]
     },
     "metadata": {},
     "output_type": "display_data"
    },
    {
     "name": "stdout",
     "output_type": "stream",
     "text": [
      "sigma grid: [0.5   0.725 0.95  1.175 1.4   1.625 1.85  2.075 2.3   2.525 2.75  2.975\n",
      " 3.2   3.425 3.65  3.875 4.1   4.325 4.55  4.775 5.   ]\n",
      "all_greater: [0 0 0 0 0 0 0 0 0 0 0 0 0 0 0 0 0 0 0 1 1]\n",
      "lowestInd: (array([19, 20]),)\n",
      "lowest sigma that upper bounds MGF: 4.7749999999999995\n"
     ]
    },
    {
     "data": {
      "image/png": "[encoded data removed]",
      "text/plain": [
       "<Figure size 640x480 with 1 Axes>"
      ]
     },
     "metadata": {},
     "output_type": "display_data"
    },
    {
     "name": "stdout",
     "output_type": "stream",
     "text": [
      "val loss: None\n"
     ]
    }
   ],
   "source": [
    "import matplotlib.pyplot as plt\n",
    "\n",
    "\n",
    "def get_gaussian_mgf(t_arr,sigma):\n",
    "    result = []\n",
    "    for t in t_arr:\n",
    "        result.append(np.exp((sigma**2)*(t**2)/2))\n",
    "    return np.array(result)\n",
    "\n",
    "def empirical_mgf(t,data):\n",
    "    return np.mean(np.exp(t * data))\n",
    "\n",
    "def get_empirical_mgf_over_t(t_arr,data):\n",
    "    result=[]\n",
    "    for t in t_arr:\n",
    "        result.append(empirical_mgf(t,data))\n",
    "    return np.array(result)\n",
    "    \n",
    "def get_smallest_subgaussian_sigma(n_cells_t,data,min_sigma,max_sigma,n_cells_sigma):\n",
    "    max_data_val = np.max(data)\n",
    "    t_max = np.log(2**32-1)/max_data_val\n",
    "    t_min=-t_max\n",
    "    print(\"max data val: \" + str(max_data_val))\n",
    "    print(\"t_max: \" + str(t_max))\n",
    "    data = data-np.mean(data)\n",
    "    grid = np.array(range(n_cells_t+1),dtype=\"float\")\n",
    "    width = t_max-t_min\n",
    "    mult_factor =grid[-1]/float(width)\n",
    "    grid/=mult_factor\n",
    "    shift = t_max-grid[-1]\n",
    "    grid+=shift\n",
    "    mgf = get_empirical_mgf_over_t(grid,data)\n",
    "    sigma_grid = np.array(range(n_cells_sigma+1),dtype=\"float\")\n",
    "    sigma_width= max_sigma-min_sigma\n",
    "    mult_factor_sigma = sigma_grid[-1]/float(sigma_width)\n",
    "    sigma_grid/=mult_factor_sigma\n",
    "    sigma_shift = max_sigma-sigma_grid[-1]\n",
    "    sigma_grid+=sigma_shift\n",
    "    all_greater = [1]*len(sigma_grid)\n",
    "    plt.scatter(grid,mgf,ls=\"-\",lw=2)\n",
    "\n",
    "    for j,sigma in enumerate(sigma_grid):   \n",
    "        gaussian_mgf = get_gaussian_mgf(grid,sigma)\n",
    "        \n",
    "        plt.scatter(grid,gaussian_mgf, ls='dotted',lw=1)\n",
    "\n",
    "        for i in range(len(mgf)):\n",
    "            if mgf[i]>gaussian_mgf[i]:\n",
    "                all_greater[j]=0\n",
    "                break\n",
    "    plt.show()\n",
    "    all_greater=np.array(all_greater)\n",
    "    print(\"sigma grid: \" + str(sigma_grid))   \n",
    "    print(\"all_greater: \" + str(all_greater))  \n",
    "    lowestInd = np.nonzero(all_greater)\n",
    "    print(\"lowestInd: \" + str(lowestInd))\n",
    "    inds = lowestInd[0]\n",
    "    if (len(inds)>0):\n",
    "        lowestSigma =  sigma_grid[inds[0]]\n",
    "        print(\"lowest sigma that upper bounds MGF: \" + str(lowestSigma))\n",
    "        return lowestSigma\n",
    "    else:\n",
    "        return None\n",
    "    \n",
    "def validate( num_samples): \n",
    "    model.eval()\n",
    "    model.to(device)\n",
    "    inputs = torch.tensor([random.randint(0, 2**N-1) for _ in range(num_samples)]).to(device)\n",
    "    targets = func_batch(inputs).to(device)\n",
    "    result = model(inputs).to(device)\n",
    "    losses = np.array((result - targets).pow(2).detach().cpu())  \n",
    "\n",
    "    n_cells_t = 40\n",
    "    min_val_sigma = .5\n",
    "    max_val_sigma = 5\n",
    "    n_cells_sigma = 20\n",
    "    lowest_sigma = get_smallest_subgaussian_sigma(  n_cells_t,\n",
    "                                                    losses,\n",
    "                                                    min_val_sigma,\n",
    "                                                    max_val_sigma,\n",
    "                                                    n_cells_sigma)\n",
    "     \n",
    "    max_bin=10\n",
    "    n_bins=100\n",
    "    bins = max_bin*np.array(range(n_bins+1),dtype=\"float\")/n_bins\n",
    "    #print(\"bins: \" + str(bins))\n",
    "    hist =  np.histogram(losses, bins, density=True)\n",
    "    plt.hist(losses,bins, density=True)\n",
    "    plt.show()\n",
    "    loss = losses.mean()\n",
    "    return \n",
    "    \n",
    "val_loss = validate(10000) \n",
    "print(\"val loss: \" + str(val_loss))"
   ]
  },
  {
   "cell_type": "code",
   "execution_count": 82,
   "id": "1a93b473-4055-42f6-b98f-282257f02df6",
   "metadata": {},
   "outputs": [],
   "source": []
  }
 ],
 "metadata": {
  "kernelspec": {
   "display_name": "Python 3 (ipykernel)",
   "language": "python",
   "name": "python3"
  },
  "language_info": {
   "codemirror_mode": {
    "name": "ipython",
    "version": 3
   },
   "file_extension": ".py",
   "mimetype": "text/x-python",
   "name": "python",
   "nbconvert_exporter": "python",
   "pygments_lexer": "ipython3",
   "version": "3.10.12"
  }
 },
 "nbformat": 4,
 "nbformat_minor": 5
}

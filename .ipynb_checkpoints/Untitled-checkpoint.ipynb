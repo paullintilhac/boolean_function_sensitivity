{
 "cells": [
  {
   "cell_type": "code",
   "execution_count": 1,
   "id": "edf1a7f1-483f-46ad-b6fb-d98af52343db",
   "metadata": {},
   "outputs": [],
   "source": [
    "import torch\n",
    "from torch.utils.data import DataLoader\n",
    "import pandas as pd\n",
    "import random\n",
    "from transformer import Transformer\n",
    "import os\n",
    "\n",
    "device = 'cuda'\n",
    "def rboolf(N, width, deg):\n",
    "    coefficients = torch.randn(width).to(device)\n",
    "    coefficients = (coefficients-coefficients.mean())/coefficients.pow(2).sum().sqrt()\n",
    "    combs = torch.combinations(torch.arange(N+1), r=deg, with_replacement=True)\n",
    "    combs = combs[torch.randperm(combs.size()[0])][:width].to(device) # Shuffled\n",
    "    def func(x):\n",
    "        binary = f\"{x:0{N}b}\"+\"0\"\n",
    "        comps = []\n",
    "        for elem in combs:\n",
    "            res = 1\n",
    "            for e in elem:\n",
    "                bit = 1 if int(binary[e]) else -1\n",
    "                res *= bit\n",
    "            comps.append(res)\n",
    "        return torch.dot(coefficients, torch.tensor(comps, dtype=torch.float32).to(device))\n",
    "    return func, (coefficients, combs)\n",
    "\n",
    "def generate_dataset(num_samples, N, batch_size):\n",
    "    num_samples = 10000\n",
    "    inputs = torch.tensor([random.randint(0, 2**N-1) for _ in range(num_samples)]).to(device)\n",
    "    train_loader = DataLoader(inputs, shuffle=True, batch_size=batch_size)\n",
    "    return train_loader \n",
    "\n",
    "def validate(model, func, N, num_samples=1000):\n",
    "      model.eval()\n",
    "      inputs = torch.tensor([random.randint(0, 2**N-1) for _ in range(num_samples)]).to(device)\n",
    "      targets = torch.FloatTensor([float(func(x)) for x in inputs]).to(device)\n",
    "      result = model(inputs).to(device)\n",
    "      loss = (result - targets).pow(2).mean()\n",
    "      return loss.detach()\n",
    "\n",
    "def fitNetwork(function, loader, N, epochs, dir_name):\n",
    "    model = Transformer(N, 120, 1, 1, 128, 1e-5).to(device)\n",
    "    optimizer = torch.optim.AdamW(model.parameters(), lr=0.0000006, weight_decay=0.1)\n",
    "    # model.train()\n",
    "    \n",
    "    movAvg = 0\n",
    "    summary = pd.DataFrame(columns=[\"iter\", \"loss\"])\n",
    "    # dir_name = f\"{args.N}_{args.dim}_{args.l}_{args.h}_{args.f}\"\n",
    "\n",
    "    for epoch in range(epochs):    \n",
    "        for idx, inputs in enumerate(loader):\n",
    "          model.train()\n",
    "        \n",
    "          targets = torch.FloatTensor([float(function(x)) for x in inputs]).to(device)\n",
    "    \n",
    "          result = model(inputs)\n",
    "          \n",
    "          loss = (result - targets).pow(2).mean()\n",
    "          movAvg = 0.99 * movAvg + (1-0.99) * (float(loss.detach()))\n",
    "\n",
    "          (loss).backward()\n",
    "          optimizer.step()\n",
    "          optimizer.zero_grad()\n",
    "        \n",
    "          iteration = epoch*len(loader)+idx+1\n",
    "          if (iteration) % 10 == 0:\n",
    "            summary.loc[len(summary)] = {\"iter\":iteration, \"loss\":movAvg}\n",
    "            summary.to_csv(f\"{dir_name}/curr_func.csv\")\n",
    "\n",
    "          if (iteration) % 100 == 0:\n",
    "            val_loss = validate(model, function, N, num_samples=10000)\n",
    "            print(f\"Iteration: {iteration}, Loss: {loss.detach():.3f}, Validation Loss: {val_loss:.3f}\")\n",
    "            path = os.path.join(dir_name, f\"modelx_{iteration}.pt\")\n",
    "            torch.save(model.state_dict(), path)\n",
    "          \n",
    "          if movAvg < 0.01:\n",
    "            break\n",
    "    return model, summary"
   ]
  },
  {
   "cell_type": "code",
   "execution_count": 2,
   "id": "29ee9c1a-116e-4e63-879b-f9a4fbb87fbe",
   "metadata": {},
   "outputs": [
    {
     "name": "stdout",
     "output_type": "stream",
     "text": [
      "Iteration: 100, Loss: 0.949, Validation Loss: 1.103\n",
      "Iteration: 200, Loss: 1.068, Validation Loss: 1.090\n",
      "Iteration: 300, Loss: 1.362, Validation Loss: 1.076\n",
      "Iteration: 400, Loss: 0.895, Validation Loss: 1.059\n",
      "Iteration: 500, Loss: 1.033, Validation Loss: 1.054\n",
      "Iteration: 600, Loss: 1.105, Validation Loss: 1.069\n",
      "Iteration: 700, Loss: 0.981, Validation Loss: 1.035\n",
      "Iteration: 100, Validation Loss: 1.125\n",
      "Iteration: 200, Validation Loss: 1.103\n",
      "Iteration: 300, Validation Loss: 1.073\n",
      "Iteration: 400, Validation Loss: 1.062\n",
      "Iteration: 500, Validation Loss: 1.069\n",
      "Iteration: 600, Validation Loss: 1.041\n",
      "Iteration: 700, Validation Loss: 1.039\n"
     ]
    }
   ],
   "source": [
    "N           = 30\n",
    "width       = 5\n",
    "deg         = 2 \n",
    "num_samples = 10000\n",
    "batch_size  = 64\n",
    "epochs      = 5\n",
    "dir_name    = \"/dartfs/rc/lab/C/CybenkoG/bool_sens/test\"\n",
    "\n",
    "dataloader  = generate_dataset(num_samples, N, batch_size)\n",
    "function, _ = rboolf(N, width, deg)\n",
    "\n",
    "model, _    = fitNetwork(function, dataloader, N, epochs, dir_name)\n",
    "loss        = validate(model, function, N, num_samples=10000)\n",
    "\n",
    "iters = [100*i for i in range(1,8)]\n",
    "for iter in iters:\n",
    "    model = Transformer(N, 120, 1, 1, 128, 1e-5).to(device)\n",
    "    state_dict = torch.load(f\"{dir_name}/modelx_{iter}.pt\", weights_only=True)\n",
    "    model.load_state_dict(state_dict)\n",
    "    model.eval()\n",
    "    val_loss = validate(model, function, N, num_samples=10000)\n",
    "    print(f\"Iteration: {iter}, Validation Loss: {val_loss:.3f}\")\n",
    "\n"
   ]
  },
  {
   "cell_type": "code",
   "execution_count": 4,
   "id": "49dd77d5-df72-4964-9b39-bd9fd5c05bc4",
   "metadata": {},
   "outputs": [
    {
     "name": "stdout",
     "output_type": "stream",
     "text": [
      "tensor([[-0.2711],\n",
      "        [-0.6370],\n",
      "        [-0.3238],\n",
      "        [ 0.0585],\n",
      "        [-0.5553]], device='cuda:0', grad_fn=<MmBackward0>)\n",
      "tensor([[-0.2711],\n",
      "        [-0.6370],\n",
      "        [-0.3238],\n",
      "        [ 0.0585],\n",
      "        [-0.5553]], device='cuda:0', grad_fn=<MmBackward0>)\n"
     ]
    }
   ],
   "source": [
    "val = torch.tensor([random.randint(0, 2**N-1) for _ in range(5)]).to(device)\n",
    "\n",
    "print(model(val))\n",
    "print(model2(val))"
   ]
  },
  {
   "cell_type": "code",
   "execution_count": 45,
   "id": "5f3c7e5d-aad6-4cce-bbe1-dbeecab1e3a2",
   "metadata": {},
   "outputs": [],
   "source": [
    "import torch\n",
    "device = 'cpu'\n",
    "def rboolf(N, width, deg):\n",
    "    coefficients = torch.randn(width).to(device)\n",
    "    coefficients = (coefficients-coefficients.mean())/coefficients.pow(2).sum().sqrt()\n",
    "    combs = torch.combinations(torch.arange(N+1), r=deg, with_replacement=True)\n",
    "    combs = combs[torch.randperm(combs.size()[0])][:width].to(device) # Shuffled\n",
    "    def func(x):\n",
    "        binary = f\"{x:0{N}b}\"+\"0\"\n",
    "        comps = []\n",
    "        for elem in combs:\n",
    "            res = 1\n",
    "            for e in elem:\n",
    "                bit = 1 if int(binary[e]) else -1\n",
    "                res *= bit\n",
    "            comps.append(res)\n",
    "        return torch.dot(coefficients, torch.tensor(comps, dtype=torch.float32).to(device))\n",
    "    return func, (coefficients, combs)\n",
    "\n",
    "def reconstructboolf(N, coefficients, combs):\n",
    "    def func(x):\n",
    "        binary = f\"{x:0{N}b}\"+\"0\"\n",
    "        comps = []\n",
    "        for elem in combs:\n",
    "            res = 1\n",
    "            for e in elem:\n",
    "                bit = 1 if int(binary[e]) else -1\n",
    "                res *= bit\n",
    "            comps.append(res)\n",
    "        return torch.dot(coefficients, torch.tensor(comps, dtype=torch.float32).to(device))\n",
    "    return func, (coefficients, combs)"
   ]
  },
  {
   "cell_type": "code",
   "execution_count": null,
   "id": "8c846a24-e1b7-4a34-8dc7-dfd374c7db7a",
   "metadata": {},
   "outputs": [],
   "source": [
    "f, (coeffs, combs) = rboolf(30, 5, 3);\n",
    "\n",
    "torch.save(coeffs, f\"test_func_coeffs.pt\")\n",
    "torch.save(combs, f\"test_func_combs.pt\")\n",
    "\n",
    "combs = torch.load(f\"test_func_combs.pt\")\n",
    "coeffs = torch.load(f\"test_func_coeffs.pt\")\n",
    "\n",
    "f2, _ = reconstructboolf(30, coeffs, combs);\n",
    "\n",
    "for i in range(100):\n",
    "    print(f\"Results: {f(i)}, {f2(i)}\")\n",
    "\n",
    "\n",
    "\n",
    "\n"
   ]
  },
  {
   "cell_type": "code",
   "execution_count": 12,
   "id": "e5a3b7f4-e187-4340-be40-46edbfd7ba77",
   "metadata": {},
   "outputs": [],
   "source": [
    "import itertools\n",
    "import torch\n",
    "combs = list(itertools.combinations(torch.arange(30+1), 4))\n"
   ]
  },
  {
   "cell_type": "code",
   "execution_count": 23,
   "id": "47b38db6-5b9b-468d-bae5-d9cb4a4a8ec1",
   "metadata": {},
   "outputs": [
    {
     "name": "stdout",
     "output_type": "stream",
     "text": [
      "type 1: tensor([29298, 39940, 16059,  ...,  1298, 39736, 35384])\n",
      "type 2: tensor([1742023, 1240158, 1387333,  ...,  338269,  436147,  578599])\n"
     ]
    },
    {
     "ename": "TypeError",
     "evalue": "only integer tensors of a single element can be converted to an index",
     "output_type": "error",
     "traceback": [
      "\u001b[0;31m---------------------------------------------------------------------------\u001b[0m",
      "\u001b[0;31mTypeError\u001b[0m                                 Traceback (most recent call last)",
      "Cell \u001b[0;32mIn[23], line 8\u001b[0m\n\u001b[1;32m      5\u001b[0m combs \u001b[38;5;241m=\u001b[39m \u001b[38;5;28mlist\u001b[39m(itertools\u001b[38;5;241m.\u001b[39mcombinations(torch\u001b[38;5;241m.\u001b[39marange(\u001b[38;5;241m30\u001b[39m\u001b[38;5;241m+\u001b[39m\u001b[38;5;241m1\u001b[39m), \u001b[38;5;241m7\u001b[39m))\n\u001b[1;32m      6\u001b[0m \u001b[38;5;28mprint\u001b[39m(\u001b[38;5;124m\"\u001b[39m\u001b[38;5;124mtype 2: \u001b[39m\u001b[38;5;124m\"\u001b[39m \u001b[38;5;241m+\u001b[39m \u001b[38;5;28mstr\u001b[39m((torch\u001b[38;5;241m.\u001b[39mrandperm(\u001b[38;5;28mlen\u001b[39m(combs)))))\n\u001b[0;32m----> 8\u001b[0m combs \u001b[38;5;241m=\u001b[39m \u001b[43mcombs\u001b[49m\u001b[43m[\u001b[49m\u001b[43mtorch\u001b[49m\u001b[38;5;241;43m.\u001b[39;49m\u001b[43mrandperm\u001b[49m\u001b[43m(\u001b[49m\u001b[38;5;28;43mlen\u001b[39;49m\u001b[43m(\u001b[49m\u001b[43mcombs\u001b[49m\u001b[43m)\u001b[49m\u001b[43m)\u001b[49m\u001b[43m]\u001b[49m[:width]\u001b[38;5;241m.\u001b[39mcuda()\n\u001b[1;32m      9\u001b[0m \u001b[38;5;66;03m#combs = combs[torch.randperm(combs.size()[0])][:width].cuda()\u001b[39;00m\n",
      "\u001b[0;31mTypeError\u001b[0m: only integer tensors of a single element can be converted to an index"
     ]
    }
   ],
   "source": [
    "combs = torch.combinations(torch.arange(30+1), r=4, with_replacement=True)\n",
    "arr1 = torch.randperm(combs.size()[0])\n",
    "print(\"type 1: \" + str(type(arr1))+\", length 1: \" + str(len(arr1)\n",
    "width = 1\n",
    "\n",
    "combs = list(itertools.combinations(torch.arange(30+1), 7))\n",
    "arr2 = torch.randperm(len(combs))\n",
    "print(\"type 2: \" + str(type(arr2)) + \", length 1: \" + str(len(arr2)))\n",
    "\n",
    "combs = combs[torch.randperm(len(combs))][:width].cuda()\n",
    "#combs = combs[torch.randperm(combs.size()[0])][:width].cuda()"
   ]
  }
 ],
 "metadata": {
  "kernelspec": {
   "display_name": "Python 3 (ipykernel)",
   "language": "python",
   "name": "python3"
  },
  "language_info": {
   "codemirror_mode": {
    "name": "ipython",
    "version": 3
   },
   "file_extension": ".py",
   "mimetype": "text/x-python",
   "name": "python",
   "nbconvert_exporter": "python",
   "pygments_lexer": "ipython3",
   "version": "3.12.2"
  }
 },
 "nbformat": 4,
 "nbformat_minor": 5
}

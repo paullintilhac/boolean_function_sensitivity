{
 "cells": [
  {
   "cell_type": "code",
   "execution_count": 21,
   "id": "29ee9c1a-116e-4e63-879b-f9a4fbb87fbe",
   "metadata": {},
   "outputs": [],
   "source": [
    "import torch\n",
    "device = 'cpu'\n",
    "def rboolf(N, width, deg):\n",
    "    coefficients = torch.randn(width).to(device)\n",
    "    coefficients = (coefficients-coefficients.mean())/coefficients.pow(2).sum().sqrt()\n",
    "    combs = torch.combinations(torch.arange(N+1), r=deg, with_replacement=True)\n",
    "    combs = combs[torch.randperm(combs.size()[0])][:width].to(device) # Shuffled\n",
    "    print(combs)\n",
    "    print(combs.shape)\n",
    "    def func(x):\n",
    "        binary = f\"{x:0{N}b}\"+\"0\"\n",
    "        comps = []\n",
    "        for elem in combs:\n",
    "            print(elem)\n",
    "            res = 1\n",
    "            for e in elem:\n",
    "                bit = 1 if int(binary[e]) else -1\n",
    "                res *= bit\n",
    "            comps.append(res)\n",
    "        return torch.dot(coefficients, torch.tensor(comps, dtype=torch.float32).to(device))\n",
    "    return func, (coefficients, combs)"
   ]
  },
  {
   "cell_type": "code",
   "execution_count": 26,
   "id": "8c846a24-e1b7-4a34-8dc7-dfd374c7db7a",
   "metadata": {},
   "outputs": [
    {
     "name": "stdout",
     "output_type": "stream",
     "text": [
      "tensor([[10, 11],\n",
      "        [ 6, 20],\n",
      "        [19, 23],\n",
      "        [ 6, 30],\n",
      "        [12, 30]])\n",
      "torch.Size([5, 2])\n",
      "tensor([10, 11])\n",
      "tensor([ 6, 20])\n",
      "tensor([19, 23])\n",
      "tensor([ 6, 30])\n",
      "tensor([12, 30])\n"
     ]
    },
    {
     "data": {
      "text/plain": [
       "tensor(-5.2154e-08)"
      ]
     },
     "execution_count": 26,
     "metadata": {},
     "output_type": "execute_result"
    }
   ],
   "source": [
    "f, _ = rboolf(30, 5, 2)\n",
    "f(0)"
   ]
  },
  {
   "cell_type": "code",
   "execution_count": null,
   "id": "edf1a7f1-483f-46ad-b6fb-d98af52343db",
   "metadata": {},
   "outputs": [],
   "source": []
  }
 ],
 "metadata": {
  "kernelspec": {
   "display_name": "Python 3 (ipykernel)",
   "language": "python",
   "name": "python3"
  },
  "language_info": {
   "codemirror_mode": {
    "name": "ipython",
    "version": 3
   },
   "file_extension": ".py",
   "mimetype": "text/x-python",
   "name": "python",
   "nbconvert_exporter": "python",
   "pygments_lexer": "ipython3",
   "version": "3.12.2"
  }
 },
 "nbformat": 4,
 "nbformat_minor": 5
}

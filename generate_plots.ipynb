{
 "cells": [
  {
   "cell_type": "code",
   "execution_count": 1,
   "metadata": {},
   "outputs": [
    {
     "name": "stdout",
     "output_type": "stream",
     "text": [
      "Index(['deg', 'width', 'func', 'epoch', 'train_loss', 'val_loss', 'batch_size',\n",
      "       'lr', 'n_samples', 'func_val_test', 'time_elapsed', 'backend',\n",
      "       'top_eig', 'trace', 'stop_loss', 'ln_eps', 'ln', 'weight_norm', 'l',\n",
      "       'd', 'f', 'h', 'dropout', 'wd'],\n",
      "      dtype='object')\n"
     ]
    }
   ],
   "source": [
    "import pandas as pd\n",
    "import numpy as np\n",
    "\n",
    "data = pd.read_csv(\"small degs large widths.csv\")\n",
    "\n",
    "\n",
    "# Get the substring in quotes\n",
    "def get_substring_in_brackets(s):\n",
    "    start = s.find('(') + 1\n",
    "    end = s.rfind(')')\n",
    "    return float(s[start:end])\n",
    "\n",
    "data[\"val_loss\"] = data[\"val_loss\"].map(get_substring_in_brackets)\n",
    "data[\"train_loss\"] = data[\"train_loss\"].map(get_substring_in_brackets)\n",
    "\n",
    "print(data.columns)"
   ]
  },
  {
   "cell_type": "code",
   "execution_count": 2,
   "metadata": {},
   "outputs": [
    {
     "name": "stdout",
     "output_type": "stream",
     "text": [
      "(100, 24)\n"
     ]
    }
   ],
   "source": [
    "filtered_data = data.loc[data.groupby([\"deg\", \"width\", \"func\"])[\"epoch\"].idxmax()]\n",
    "print(filtered_data.shape)\n"
   ]
  },
  {
   "cell_type": "code",
   "execution_count": 3,
   "metadata": {},
   "outputs": [],
   "source": [
    "import math\n",
    "from math import sqrt\n",
    "\n",
    "def L(omega, D_f, T):\n",
    "    bound = 21 + 16*(D_f+1)*D_f**2 + 8 * (D_f+1) + 4 * math.log(T)**2 * (D_f*omega + (T+1-omega))\n",
    "    return sqrt(bound)\n",
    "\n",
    "def G_p(sigma, omega, D_f, T, d):\n",
    "    bound = 128 * sqrt(2) * sigma * D_f**2 * sqrt(omega) * math.log(T)\n",
    "    bound += 192 * sigma * sqrt(omega) * D_f**2\n",
    "    bound += 128 * sqrt(2) * D_f**2 * omega**2 * math.log(T)\n",
    "    bound += 64 * sqrt(2) * d * D_f**2 * omega**2 * math.log(T)\n",
    "    bound += 128 * sigma * d * omega**2 * math.log(T) * D_f * sqrt(D_f)\n",
    "    bound += 1024 * sigma * D_f**3 * sqrt(D_f) * omega * sqrt(omega) * math.log(T)\n",
    "    bound += 8 * sigma * sqrt(D_f) * sqrt(omega) * math.log(T) * d \n",
    "    bound += 256 * sigma * D_f**2 * sqrt(D_f) * omega**2 * d\n",
    "    bound += 32 * sigma * sqrt(D_f) * omega**2 * d ** 2\n",
    "    return bound\n",
    "\n",
    "def H_u(omega, D_f, T, d):\n",
    "    bound = 8*(D_f+1) + 6*(D_f+1)*math.sqrt(omega)\n",
    "    bound += 2*math.sqrt(3*T*(D_f+1)) + math.sqrt(48*T*(D_f+1)*D_f)\n",
    "    bound += math.sqrt(T)*math.sqrt(12*(D_f+1))*D_f\n",
    "    bound += 2 * math.sqrt(T) * math.sqrt(12*(D_f+1)) * D_f\n",
    "    bound += 8*math.sqrt(2)*math.sqrt(d*T)*D_f\n",
    "    bound += 2*math.sqrt(d*T)*D_f\n",
    "    bound += 8*math.sqrt(2)*d*D_f*math.sqrt(omega)\n",
    "    bound += 6 * math.sqrt(2)*d*math.sqrt(d)*D_f\n",
    "    return bound\n",
    "\n",
    "def H_p(sigma, omega, D_f, T, d):\n",
    "    bound = 768 * sqrt(2) * sigma * D_f**2 * omega * sqrt(omega) * d * math.log(T)\n",
    "    bound += 256 * sigma * omega * sqrt(omega) * d**2 * D_f * sqrt(D_f) * math.log(T)\n",
    "    bound += 1024 * sigma * D_f**3 * sqrt(D_f) * omega * sqrt(omega) * math.log(T)\n",
    "    bound += 512 * sigma * D_f**2 * sqrt(D_f) * omega * sqrt(omega) * d**2 * math.log(T)\n",
    "    bound += 1536 * sigma * D_f**3 * sqrt(D_f) * omega**2 * sqrt(omega) * sqrt(d) * math.log(T)**2\n",
    "    bound += 768 * sigma * D_f**2 * omega**2 * sqrt(omega) * d * math.log(T)**2\n",
    "    bound += 16 * sigma * omega**2 * d**2 * sqrt(d) * math.log(T)\n",
    "    return bound\n",
    "\n",
    "def G_u(omega, D_f):\n",
    "    bound = 4 + 4*omega*(2 + D_f + 32*D_f**2 + 32*D_f**3)\n",
    "    return bound\n",
    "\n",
    "def T_p(sigma, omega, D_f, T, d):\n",
    "    bound = 128 * sigma * D_f ** 2 * omega * math.log(T)\n",
    "    bound += sigma * math.sqrt(2 * d) + 32 * math.sqrt(omega) * sigma * D_f ** 2\n",
    "    return bound\n",
    "\n",
    "def Theta(D_f, d):\n",
    "    n = 3*(d+1)**2 + (d+1) + (8*d+6)*(D_f+1)\n",
    "    return n\n",
    "\n",
    "def P(sigma, omega, D_f, T, d): \n",
    "    pert_bound = 2*G_p(sigma, omega, D_f, T, d)*(2*math.sqrt(G_u(omega, D_f)) + G_p(sigma, omega, D_f, T, d))\n",
    "    pert_bound += T_p(sigma, omega, D_f, T, d)*(H_u(omega, D_f, T, d) + H_p(sigma, omega, D_f, T, d)) * Theta(D_f, d)\n",
    "    return pert_bound\n",
    "\n",
    "def perturbed_sharpness_term(sigma, omega, D_f, T, d):\n",
    "    trace_bound = G_u(omega, D_f) #+ P(sigma, omega, D_f, T, d)\n",
    "    return sigma**2 * trace_bound\n",
    "\n",
    "def parameter_norm_term(Sigma, m, omega, D_f, T, sigma, delta, d):\n",
    "    param_bound = 2 * sqrt( Sigma**2 / (2*m) * (L(omega, D_f, T)/(2*sigma**2) \n",
    "                                                + math.log(1/delta)))\n",
    "    return param_bound\n",
    "\n",
    "def theoretical_gen_gap(sigma, omega, D_f, T, Sigma, m, delta, d):\n",
    "    sharpness_term = perturbed_sharpness_term(sigma, omega, D_f, T, d)\n",
    "    param_norm_term = parameter_norm_term(Sigma, m, omega, D_f, T, sigma, delta, d)\n",
    "    return sharpness_term + param_norm_term\n",
    "\n",
    "actual_gen_gap = filtered_data[\"actual_gen_gap\"] = filtered_data[\"val_loss\"] - filtered_data[\"train_loss\"]\n"
   ]
  },
  {
   "cell_type": "code",
   "execution_count": 4,
   "metadata": {},
   "outputs": [
    {
     "name": "stdout",
     "output_type": "stream",
     "text": [
      "Mesh points: (385, 3)\n",
      "Mesh and Empirical points: (405, 3)\n"
     ]
    }
   ],
   "source": [
    "import numpy as np\n",
    "\n",
    "# Create a mesh over T, D_f, omega\n",
    "Ts = np.logspace(1, 7, num=10)\n",
    "D_fs = np.logspace(1, 7, num=10)\n",
    "omegas = np.logspace(1, 7, num=10) \n",
    "\n",
    "Ts, D_fs, omegas = np.meshgrid(Ts, D_fs, omegas, indexing='ij')\n",
    "mesh_points = np.stack([Ts.ravel(), D_fs.ravel(), omegas.ravel()], axis=-1)\n",
    "\n",
    "# Filter out points with D_f > T or omega > T\n",
    "mesh_points = mesh_points[(mesh_points[:, 0] >= mesh_points[:, 1]) & (mesh_points[:, 0] >= mesh_points[:, 2])]\n",
    "\n",
    "print(\"Mesh points:\", mesh_points.shape)\n",
    "\n",
    "\n",
    "# Add in points for out empirical construction\n",
    "emp_Ts = [20]\n",
    "emp_D_fs = [1, 2, 3, 4, 5]\n",
    "emp_omegas = [1, 7, 14, 20]\n",
    "Ts, D_fs, omegas = np.meshgrid(emp_Ts, emp_D_fs, emp_omegas, indexing='ij')\n",
    "\n",
    "emp_mesh_points = np.empty((20, 3))\n",
    "\n",
    "i = 0\n",
    "for T in emp_Ts:\n",
    "    for D_f in emp_D_fs:\n",
    "        for omega in emp_omegas:\n",
    "            emp_mesh_points[i] = [T, D_f, omega]\n",
    "            i += 1\n",
    "            \n",
    "mesh_points = np.concatenate([mesh_points, emp_mesh_points], axis=0)\n",
    "\n",
    "print(\"Mesh and Empirical points:\", mesh_points.shape)\n",
    "\n"
   ]
  },
  {
   "cell_type": "code",
   "execution_count": 9,
   "metadata": {},
   "outputs": [
    {
     "name": "stderr",
     "output_type": "stream",
     "text": [
      "  0%|          | 0/405 [00:00<?, ?it/s]/var/folders/4c/b9h5j0n54y3d2236vqx5sqv40000gn/T/ipykernel_37329/4244527444.py:64: DeprecationWarning: Conversion of an array with ndim > 0 to a scalar is deprecated, and will error in future. Ensure you extract a single element from your array before performing this operation. (Deprecated NumPy 1.25.)\n",
      "  param_bound = 2 * sqrt( Sigma**2 / (2*m) * (L(omega, D_f, T)/(2*sigma**2)\n",
      "  2%|▏         | 7/405 [00:00<00:05, 66.95it/s]"
     ]
    },
    {
     "name": "stdout",
     "output_type": "stream",
     "text": [
      "D_f: 10.0, omega: 10.0, T: 10.0, m: 151991.10829529332, sigma: 0.0004763362460485309, bound: 0.9587592144113549\n",
      "D_f: 10.0, omega: 10.0, T: 46.41588833612777, m: 1873817.422860383, sigma: 0.00032032110651277217, bound: 0.4335685912386013\n",
      "D_f: 10.0, omega: 46.41588833612777, T: 46.41588833612777, m: 1873817.422860383, sigma: 0.00020117595827219288, bound: 0.7938027822961009\n",
      "D_f: 46.41588833612777, omega: 10.0, T: 46.41588833612777, m: 284803586.8435793, sigma: 4.333169659575204e-05, bound: 0.7366950802795392\n",
      "D_f: 46.41588833612777, omega: 46.41588833612777, T: 46.41588833612777, m: 3511191734.2151275, sigma: 1.716914894102221e-05, bound: 0.5370210064806727\n",
      "D_f: 10.0, omega: 10.0, T: 215.44346900318823, m: 1873817.422860383, sigma: 0.0003401712271763542, bound: 0.48896873723686163\n",
      "D_f: 10.0, omega: 46.41588833612777, T: 215.44346900318823, m: 1873817.422860383, sigma: 0.00021327844352791607, bound: 0.8921806373596389\n",
      "D_f: 10.0, omega: 215.44346900318823, T: 215.44346900318823, m: 23101297.00083158, sigma: 9.201122952764167e-05, bound: 0.7707069584561386\n",
      "D_f: 46.41588833612777, omega: 10.0, T: 215.44346900318823, m: 284803586.8435793, sigma: 4.343420872997621e-05, bound: 0.7401857043216657\n",
      "D_f: 46.41588833612777, omega: 46.41588833612777, T: 215.44346900318823, m: 3511191734.2151275, sigma: 1.7279950975398846e-05, bound: 0.5439758682539906\n",
      "D_f: 46.41588833612777, omega: 215.44346900318823, T: 215.44346900318823, m: 3511191734.2151275, sigma: 1.0697278948394288e-05, bound: 0.9671109441050166\n",
      "D_f: 215.44346900318823, omega: 10.0, T: 215.44346900318823, m: 533669923120.6302, sigma: 6.7076109526884394e-06, bound: 0.80845827159192\n"
     ]
    },
    {
     "name": "stderr",
     "output_type": "stream",
     "text": [
      "  5%|▍         | 20/405 [00:00<00:08, 44.07it/s]"
     ]
    },
    {
     "name": "stdout",
     "output_type": "stream",
     "text": [
      "D_f: 10.0, omega: 10.0, T: 1000.0, m: 1873817.422860383, sigma: 0.00038380783358073407, bound: 0.6224584886559742\n",
      "D_f: 10.0, omega: 46.41588833612777, T: 1000.0, m: 23101297.00083158, sigma: 0.000154493347696872, bound: 0.4681515955485982\n",
      "D_f: 10.0, omega: 215.44346900318823, T: 1000.0, m: 23101297.00083158, sigma: 9.81497821776094e-05, bound: 0.877026628090685\n",
      "D_f: 10.0, omega: 1000.0, T: 1000.0, m: 284803586.8435793, sigma: 4.278996641873885e-05, bound: 0.7738099386058479\n",
      "D_f: 46.41588833612777, omega: 10.0, T: 1000.0, m: 284803586.8435793, sigma: 4.383641551353042e-05, bound: 0.7539604841213103\n",
      "D_f: 46.41588833612777, omega: 46.41588833612777, T: 1000.0, m: 3511191734.2151275, sigma: 1.7508463232974053e-05, bound: 0.5584594527761766\n",
      "D_f: 46.41588833612777, omega: 215.44346900318823, T: 1000.0, m: 43287612810.83061, sigma: 7.575503585951149e-06, bound: 0.4398118193794395\n",
      "D_f: 46.41588833612777, omega: 1000.0, T: 1000.0, m: 43287612810.83061, sigma: 6.271592294493639e-06, bound: 0.9505090129556728\n"
     ]
    },
    {
     "name": "stderr",
     "output_type": "stream",
     "text": [
      "  6%|▌         | 25/405 [00:00<00:10, 38.00it/s]"
     ]
    },
    {
     "name": "stdout",
     "output_type": "stream",
     "text": [
      "D_f: 215.44346900318823, omega: 10.0, T: 1000.0, m: 533669923120.6302, sigma: 6.708712304145987e-06, bound: 0.8087274253653298\n"
     ]
    },
    {
     "name": "stderr",
     "output_type": "stream",
     "text": [
      "  9%|▉         | 36/405 [00:00<00:09, 39.85it/s]"
     ]
    },
    {
     "name": "stdout",
     "output_type": "stream",
     "text": [
      "D_f: 10.0, omega: 10.0, T: 4641.588833612777, m: 1873817.422860383, sigma: 0.0004459261343526274, bound: 0.8402504664504173\n",
      "D_f: 10.0, omega: 46.41588833612777, T: 4641.588833612777, m: 23101297.00083158, sigma: 0.00017685135599584655, bound: 0.6134514769114918\n",
      "D_f: 10.0, omega: 215.44346900318823, T: 4641.588833612777, m: 284803586.8435793, sigma: 7.127888890542983e-05, bound: 0.4625812902701406\n",
      "D_f: 10.0, omega: 1000.0, T: 4641.588833612777, m: 284803586.8435793, sigma: 4.538690685231954e-05, bound: 0.8706032742822989\n",
      "D_f: 10.0, omega: 4641.588833612777, T: 4641.588833612777, m: 3511191734.2151275, sigma: 1.9820146029740654e-05, bound: 0.7705556807156186\n",
      "D_f: 46.41588833612777, omega: 10.0, T: 4641.588833612777, m: 284803586.8435793, sigma: 4.562170651935817e-05, bound: 0.8166300661422993\n",
      "D_f: 46.41588833612777, omega: 46.41588833612777, T: 4641.588833612777, m: 3511191734.2151275, sigma: 1.8210331650762195e-05, bound: 0.603805951966233\n",
      "D_f: 46.41588833612777, omega: 215.44346900318823, T: 4641.588833612777, m: 43287612810.83061, sigma: 7.797964292014473e-06, bound: 0.4731078704837486\n",
      "D_f: 46.41588833612777, omega: 1000.0, T: 4641.588833612777, m: 533669923120.6302, sigma: 6.669079347907871e-06, bound: 0.711202907454173\n"
     ]
    },
    {
     "name": "stderr",
     "output_type": "stream",
     "text": [
      " 11%|█         | 45/405 [00:01<00:10, 33.13it/s]"
     ]
    },
    {
     "name": "stdout",
     "output_type": "stream",
     "text": [
      "D_f: 215.44346900318823, omega: 10.0, T: 4641.588833612777, m: 533669923120.6302, sigma: 6.713174713738704e-06, bound: 0.8098185977590427\n"
     ]
    },
    {
     "name": "stderr",
     "output_type": "stream",
     "text": [
      " 16%|█▌        | 63/405 [00:01<00:09, 36.60it/s]"
     ]
    },
    {
     "name": "stdout",
     "output_type": "stream",
     "text": [
      "D_f: 10.0, omega: 10.0, T: 21544.346900318822, m: 23101297.00083158, sigma: 0.00034209197301364577, bound: 0.4945060794379633\n",
      "D_f: 10.0, omega: 46.41588833612777, T: 21544.346900318822, m: 23101297.00083158, sigma: 0.00020533558134308206, bound: 0.8269506291483897\n",
      "D_f: 10.0, omega: 215.44346900318823, T: 21544.346900318822, m: 284803586.8435793, sigma: 8.143711145825955e-05, bound: 0.603814279167926\n",
      "D_f: 10.0, omega: 1000.0, T: 21544.346900318822, m: 3511191734.2151275, sigma: 3.282770944769277e-05, bound: 0.4554968622413915\n",
      "D_f: 10.0, omega: 4641.588833612777, T: 21544.346900318822, m: 3511191734.2151275, sigma: 2.0910399291419964e-05, bound: 0.8578645029813132\n",
      "D_f: 10.0, omega: 21544.346900318822, T: 21544.346900318822, m: 43287612810.83061, sigma: 9.924253888671685e-06, bound: 0.7650018754615753\n",
      "D_f: 46.41588833612777, omega: 10.0, T: 21544.346900318822, m: 284803586.8435793, sigma: 5.047808934430021e-05, bound: 0.9997392519832622\n",
      "D_f: 46.41588833612777, omega: 46.41588833612777, T: 21544.346900318822, m: 3511191734.2151275, sigma: 2.0011904849156593e-05, bound: 0.7293213824240103\n",
      "D_f: 46.41588833612777, omega: 215.44346900318823, T: 21544.346900318822, m: 43287612810.83061, sigma: 9.404163449145267e-06, bound: 0.5623919470216179\n"
     ]
    },
    {
     "name": "stderr",
     "output_type": "stream",
     "text": [
      " 17%|█▋        | 67/405 [00:01<00:10, 33.55it/s]"
     ]
    },
    {
     "name": "stdout",
     "output_type": "stream",
     "text": [
      "D_f: 46.41588833612777, omega: 1000.0, T: 21544.346900318822, m: 533669923120.6302, sigma: 6.843622414857944e-06, bound: 0.7583056118465775\n",
      "D_f: 215.44346900318823, omega: 10.0, T: 21544.346900318822, m: 533669923120.6302, sigma: 6.737592956039285e-06, bound: 0.8158072865859043\n"
     ]
    },
    {
     "name": "stderr",
     "output_type": "stream",
     "text": [
      " 24%|██▍       | 98/405 [00:02<00:07, 41.11it/s]"
     ]
    },
    {
     "name": "stdout",
     "output_type": "stream",
     "text": [
      "D_f: 10.0, omega: 10.0, T: 100000.0, m: 23101297.00083158, sigma: 0.00039799319444141086, bound: 0.6693218364825382\n",
      "D_f: 10.0, omega: 46.41588833612777, T: 100000.0, m: 284803586.8435793, sigma: 0.00015701649751382083, bound: 0.4835674695787634\n",
      "D_f: 10.0, omega: 215.44346900318823, T: 100000.0, m: 284803586.8435793, sigma: 9.424821912057726e-05, bound: 0.8086622550539952\n",
      "D_f: 10.0, omega: 1000.0, T: 100000.0, m: 3511191734.2151275, sigma: 3.738168128712502e-05, bound: 0.5904717551039249\n",
      "D_f: 10.0, omega: 4641.588833612777, T: 100000.0, m: 43287612810.83061, sigma: 1.5070078191192053e-05, bound: 0.44545948113168465\n",
      "D_f: 10.0, omega: 21544.346900318822, T: 100000.0, m: 43287612810.83061, sigma: 9.605868029425977e-06, bound: 0.8390508333321631\n",
      "D_f: 10.0, omega: 100000.0, T: 100000.0, m: 6579332246575.655, sigma: 6.062538596120095e-06, bound: 0.6152592101270308\n",
      "D_f: 46.41588833612777, omega: 10.0, T: 100000.0, m: 3511191734.2151275, sigma: 3.815462378214068e-05, bound: 0.5710796028518399\n",
      "D_f: 46.41588833612777, omega: 46.41588833612777, T: 100000.0, m: 3511191734.2151275, sigma: 2.2898679503372708e-05, bound: 0.9551375946559131\n",
      "D_f: 46.41588833612777, omega: 215.44346900318823, T: 100000.0, m: 43287612810.83061, sigma: 9.895719987021689e-06, bound: 0.7030595818186252\n"
     ]
    },
    {
     "name": "stderr",
     "output_type": "stream",
     "text": [
      " 26%|██▋       | 107/405 [00:03<00:08, 35.51it/s]"
     ]
    },
    {
     "name": "stdout",
     "output_type": "stream",
     "text": [
      "D_f: 46.41588833612777, omega: 1000.0, T: 100000.0, m: 533669923120.6302, sigma: 7.131917538432019e-06, bound: 0.8458983869951011\n",
      "D_f: 215.44346900318823, omega: 10.0, T: 100000.0, m: 533669923120.6302, sigma: 6.864240654975625e-06, bound: 0.847359555777182\n"
     ]
    },
    {
     "name": "stderr",
     "output_type": "stream",
     "text": [
      " 36%|███▌      | 145/405 [00:04<00:05, 48.46it/s]"
     ]
    },
    {
     "name": "stdout",
     "output_type": "stream",
     "text": [
      "D_f: 10.0, omega: 10.0, T: 464158.8833612772, m: 23101297.00083158, sigma: 0.00046180167315417874, bound: 0.9011427249819339\n",
      "D_f: 10.0, omega: 46.41588833612777, T: 464158.8833612772, m: 284803586.8435793, sigma: 0.00018215191488083415, bound: 0.6507740038463028\n",
      "D_f: 10.0, omega: 215.44346900318823, T: 464158.8833612772, m: 3511191734.2151275, sigma: 7.186102916613447e-05, bound: 0.4701674946123313\n",
      "D_f: 10.0, omega: 1000.0, T: 464158.8833612772, m: 3511191734.2151275, sigma: 4.3132568227324656e-05, bound: 0.7862543468054317\n",
      "D_f: 10.0, omega: 4641.588833612777, T: 464158.8833612772, m: 43287612810.83061, sigma: 1.7104607696266163e-05, bound: 0.5741116618693831\n",
      "D_f: 10.0, omega: 21544.346900318822, T: 464158.8833612772, m: 533669923120.6302, sigma: 8.097463470338599e-06, bound: 0.4449315916760589\n",
      "D_f: 10.0, omega: 100000.0, T: 464158.8833612772, m: 533669923120.6302, sigma: 5.947206591743408e-06, bound: 0.9000113635465237\n",
      "D_f: 46.41588833612777, omega: 10.0, T: 464158.8833612772, m: 3511191734.2151275, sigma: 4.4165903252501875e-05, bound: 0.7653389938027216\n",
      "D_f: 46.41588833612777, omega: 46.41588833612777, T: 464158.8833612772, m: 43287612810.83061, sigma: 1.742208499746804e-05, bound: 0.5529624003990039\n"
     ]
    },
    {
     "name": "stderr",
     "output_type": "stream",
     "text": [
      " 39%|███▊      | 156/405 [00:04<00:06, 38.14it/s]"
     ]
    },
    {
     "name": "stdout",
     "output_type": "stream",
     "text": [
      "D_f: 46.41588833612777, omega: 215.44346900318823, T: 464158.8833612772, m: 43287612810.83061, sigma: 1.0456802689086353e-05, bound: 0.9248980193818718\n",
      "D_f: 46.41588833612777, omega: 1000.0, T: 464158.8833612772, m: 533669923120.6302, sigma: 7.091198710895166e-06, bound: 0.9213067957298493\n",
      "D_f: 215.44346900318823, omega: 10.0, T: 464158.8833612772, m: 533669923120.6302, sigma: 7.2995925702223024e-06, bound: 0.9625273665687397\n"
     ]
    },
    {
     "name": "stderr",
     "output_type": "stream",
     "text": [
      " 52%|█████▏    | 209/405 [00:05<00:03, 58.32it/s]"
     ]
    },
    {
     "name": "stdout",
     "output_type": "stream",
     "text": [
      "D_f: 10.0, omega: 10.0, T: 2154434.6900318824, m: 284803586.8435793, sigma: 0.00035175067640219636, bound: 0.5228238629776824\n",
      "D_f: 10.0, omega: 46.41588833612777, T: 2154434.6900318824, m: 284803586.8435793, sigma: 0.0002108700627800954, bound: 0.872144228591893\n",
      "D_f: 10.0, omega: 215.44346900318823, T: 2154434.6900318824, m: 3511191734.2151275, sigma: 8.31732781588123e-05, bound: 0.6298326669720402\n",
      "D_f: 10.0, omega: 1000.0, T: 2154434.6900318824, m: 43287612810.83061, sigma: 3.281116740356783e-05, bound: 0.4550379933579827\n",
      "D_f: 10.0, omega: 4641.588833612777, T: 2154434.6900318824, m: 43287612810.83061, sigma: 1.9696768287439546e-05, bound: 0.7609535907216791\n",
      "D_f: 10.0, omega: 21544.346900318822, T: 2154434.6900318824, m: 533669923120.6302, sigma: 8.083507601852087e-06, bound: 0.5562910499748674\n",
      "D_f: 10.0, omega: 100000.0, T: 2154434.6900318824, m: 6579332246575.655, sigma: 6.598370175089539e-06, bound: 0.746627557473313\n"
     ]
    },
    {
     "name": "stderr",
     "output_type": "stream",
     "text": [
      " 53%|█████▎    | 215/405 [00:05<00:04, 45.02it/s]"
     ]
    },
    {
     "name": "stdout",
     "output_type": "stream",
     "text": [
      "D_f: 46.41588833612777, omega: 10.0, T: 2154434.6900318824, m: 43287612810.83061, sigma: 3.3625672072715565e-05, bound: 0.4436760491029952\n",
      "D_f: 46.41588833612777, omega: 46.41588833612777, T: 2154434.6900318824, m: 43287612810.83061, sigma: 2.0160050926437194e-05, bound: 0.7401907982108867\n",
      "D_f: 46.41588833612777, omega: 215.44346900318823, T: 2154434.6900318824, m: 533669923120.6302, sigma: 9.370409455475829e-06, bound: 0.5500244604419031\n",
      "D_f: 46.41588833612777, omega: 1000.0, T: 2154434.6900318824, m: 533669923120.6302, sigma: 6.333626645213547e-06, bound: 0.9741575685279196\n"
     ]
    },
    {
     "name": "stderr",
     "output_type": "stream",
     "text": [
      " 56%|█████▌    | 226/405 [00:06<00:05, 34.70it/s]"
     ]
    },
    {
     "name": "stdout",
     "output_type": "stream",
     "text": [
      "D_f: 215.44346900318823, omega: 10.0, T: 2154434.6900318824, m: 533669923120.6302, sigma: 6.383825919255672e-06, bound: 0.9772552972751823\n"
     ]
    },
    {
     "name": "stderr",
     "output_type": "stream",
     "text": [
      " 70%|███████   | 285/405 [00:07<00:01, 78.32it/s]"
     ]
    },
    {
     "name": "stdout",
     "output_type": "stream",
     "text": [
      "D_f: 10.0, omega: 10.0, T: 10000000.0, m: 284803586.8435793, sigma: 0.00040647533397071735, bound: 0.6981554019423766\n",
      "D_f: 10.0, omega: 46.41588833612777, T: 10000000.0, m: 3511191734.2151275, sigma: 0.00016031975145561832, bound: 0.5041270614267157\n",
      "D_f: 10.0, omega: 215.44346900318823, T: 10000000.0, m: 3511191734.2151275, sigma: 9.61108417486033e-05, bound: 0.8409558060900111\n",
      "D_f: 10.0, omega: 1000.0, T: 10000000.0, m: 43287612810.83061, sigma: 3.791131330858046e-05, bound: 0.6073095324005682\n",
      "D_f: 10.0, omega: 4641.588833612777, T: 10000000.0, m: 533669923120.6302, sigma: 1.4957020774603647e-05, bound: 0.4387656099439767\n",
      "D_f: 10.0, omega: 21544.346900318822, T: 10000000.0, m: 533669923120.6302, sigma: 9.832533290522541e-06, bound: 0.7400071071818077\n",
      "D_f: 10.0, omega: 100000.0, T: 10000000.0, m: 6579332246575.655, sigma: 7.035704034132172e-06, bound: 0.8779851309290896\n"
     ]
    },
    {
     "name": "stderr",
     "output_type": "stream",
     "text": [
      " 74%|███████▍  | 301/405 [00:07<00:02, 44.81it/s]"
     ]
    },
    {
     "name": "stdout",
     "output_type": "stream",
     "text": [
      "D_f: 46.41588833612777, omega: 10.0, T: 10000000.0, m: 43287612810.83061, sigma: 3.885953992288249e-05, bound: 0.592380173029782\n",
      "D_f: 46.41588833612777, omega: 46.41588833612777, T: 10000000.0, m: 43287612810.83061, sigma: 2.3291387728345074e-05, bound: 0.9881769506822269\n",
      "D_f: 46.41588833612777, omega: 215.44346900318823, T: 10000000.0, m: 533669923120.6302, sigma: 9.957090168843822e-06, bound: 0.7183630508939467\n",
      "D_f: 46.41588833612777, omega: 1000.0, T: 10000000.0, m: 6579332246575.655, sigma: 7.095013139466842e-06, bound: 0.8338789659996768\n"
     ]
    },
    {
     "name": "stderr",
     "output_type": "stream",
     "text": [
      " 76%|███████▌  | 307/405 [00:08<00:02, 36.36it/s]"
     ]
    },
    {
     "name": "stdout",
     "output_type": "stream",
     "text": [
      "D_f: 215.44346900318823, omega: 10.0, T: 10000000.0, m: 6579332246575.655, sigma: 7.116077091888926e-06, bound: 0.8267846387135822\n"
     ]
    },
    {
     "name": "stderr",
     "output_type": "stream",
     "text": [
      "100%|██████████| 405/405 [00:09<00:00, 42.40it/s]"
     ]
    },
    {
     "name": "stdout",
     "output_type": "stream",
     "text": [
      "D_f: 1.0, omega: 1.0, T: 20.0, m: 1000.0, sigma: 0.014601873067464924, bound: 0.17398608687800318\n",
      "D_f: 1.0, omega: 7.0, T: 20.0, m: 1000.0, sigma: 0.007665609856237171, bound: 0.3314171613968262\n",
      "D_f: 1.0, omega: 14.0, T: 20.0, m: 1000.0, sigma: 0.00608635900843935, bound: 0.4174109955923031\n",
      "D_f: 1.0, omega: 20.0, T: 20.0, m: 1000.0, sigma: 0.005404678421307981, bound: 0.47005804122544925\n",
      "D_f: 2.0, omega: 1.0, T: 20.0, m: 1000.0, sigma: 0.00831651491269298, bound: 0.3228613975844267\n",
      "D_f: 2.0, omega: 7.0, T: 20.0, m: 1000.0, sigma: 0.004420323571650549, bound: 0.6370587350110812\n",
      "D_f: 2.0, omega: 14.0, T: 20.0, m: 1000.0, sigma: 0.0035629073046912645, bound: 0.8276210406559128\n",
      "D_f: 2.0, omega: 20.0, T: 20.0, m: 1000.0, sigma: 0.003199295710047311, bound: 0.9532554288000556\n",
      "D_f: 3.0, omega: 1.0, T: 20.0, m: 1000.0, sigma: 0.005951544392213206, bound: 0.4922103647902317\n",
      "D_f: 3.0, omega: 7.0, T: 20.0, m: 1000.0, sigma: 0.003179983679335681, bound: 0.9829187762917868\n",
      "D_f: 3.0, omega: 14.0, T: 20.0, m: 12328.467394420659, sigma: 0.001693661033333665, bound: 0.5576029542077008\n",
      "D_f: 3.0, omega: 20.0, T: 20.0, m: 12328.467394420659, sigma: 0.001524745315564915, bound: 0.6455958062851876\n",
      "D_f: 4.0, omega: 1.0, T: 20.0, m: 1000.0, sigma: 0.0047250297322517865, bound: 0.6877292823734819\n",
      "D_f: 4.0, omega: 7.0, T: 20.0, m: 12328.467394420659, sigma: 0.0016605381133752543, bound: 0.5943713168107538\n",
      "D_f: 4.0, omega: 14.0, T: 20.0, m: 12328.467394420659, sigma: 0.001344020187444203, bound: 0.7787373851541692\n",
      "D_f: 4.0, omega: 20.0, T: 20.0, m: 12328.467394420659, sigma: 0.0012098805408491111, bound: 0.9014983412204873\n",
      "D_f: 5.0, omega: 1.0, T: 20.0, m: 1000.0, sigma: 0.003971112303455062, bound: 0.909853296531973\n",
      "D_f: 5.0, omega: 7.0, T: 20.0, m: 12328.467394420659, sigma: 0.0013921021537854545, bound: 0.7825419912903224\n",
      "D_f: 5.0, omega: 14.0, T: 20.0, m: 151991.10829529332, sigma: 0.0007399881265398446, bound: 0.4422266770096795\n",
      "D_f: 5.0, omega: 20.0, T: 20.0, m: 151991.10829529332, sigma: 0.0006654375703429727, bound: 0.5108692788308795\n"
     ]
    },
    {
     "name": "stderr",
     "output_type": "stream",
     "text": [
      "\n"
     ]
    }
   ],
   "source": [
    "from scipy.optimize import minimize\n",
    "from tqdm import tqdm\n",
    "\n",
    "delta = 0.2\n",
    "Sigma = 0.01\n",
    "\n",
    "records = []\n",
    "for row in tqdm(mesh_points): \n",
    "    for m in np.logspace(3, 15, num=12):\n",
    "        T, D_f, omega = row\n",
    "        eps = 0.01\n",
    "        d = 8*math.log(T)/eps**2\n",
    "        # Mimimize over sigma\n",
    "        minimal_bound = minimize(theoretical_gen_gap, x0=0.001, args=(omega, D_f, T, Sigma, int(m), delta, d), bounds=[(-0.0000000001, None)])\n",
    "        records.append({\n",
    "            \"T\": T,\n",
    "            \"D_f\": D_f,\n",
    "            \"omega\": omega,\n",
    "            \"m\": m,\n",
    "            \"d\": d,\n",
    "            \"delta\": delta,\n",
    "            \"Sigma\": Sigma,\n",
    "            \"sigma\": minimal_bound.x[0],\n",
    "            \"bound\": minimal_bound.fun\n",
    "        })\n",
    "        if minimal_bound.fun <= 1:\n",
    "            print(f\"D_f: {D_f}, omega: {omega}, T: {T}, m: {m}, sigma: {minimal_bound.x[0]}, bound: {minimal_bound.fun}\")\n",
    "            break\n",
    "sigma_data = pd.DataFrame(records)\n"
   ]
  },
  {
   "cell_type": "code",
   "execution_count": null,
   "metadata": {},
   "outputs": [
    {
     "name": "stdout",
     "output_type": "stream",
     "text": [
      "(4218, 9)\n",
      "(110, 9)\n"
     ]
    }
   ],
   "source": [
    "# Extract out unique rows\n",
    "sigma_data = sigma_data.drop_duplicates(subset=[\"T\", \"D_f\", \"omega\", \"m\", \"d\", \"delta\", \"Sigma\", \"sigma\"])\n",
    "non_vacous = sigma_data[sigma_data[\"bound\"] <= 1 & (sigma_data[\"sigma\"] > 0)]\n",
    "\n",
    "print(sigma_data.shape)\n",
    "print(non_vacous.shape)\n",
    "sigma_data.to_csv(\"optimized_sigma.csv\", index=False)\n",
    "non_vacous.to_csv((\"non_vacous.csv\"), index=False)"
   ]
  },
  {
   "cell_type": "code",
   "execution_count": 13,
   "metadata": {},
   "outputs": [
    {
     "data": {
      "application/vnd.plotly.v1+json": {
       "config": {
        "plotlyServerURL": "https://plot.ly"
       },
       "data": [
        {
         "line": {
          "color": "red"
         },
         "mode": "lines+markers",
         "showlegend": false,
         "type": "scatter",
         "x": [
          1,
          1,
          1,
          1,
          1,
          2,
          2,
          2,
          2,
          2,
          3,
          3,
          3,
          3,
          3,
          4,
          4,
          4,
          4,
          4,
          5,
          5,
          5,
          5,
          5
         ],
         "xaxis": "x",
         "y": [
          0.0946741903805352,
          0.0946741903805352,
          0.0946741903805352,
          0.0946741903805352,
          0.0946741903805352,
          0.17568519552493753,
          0.17568519552493753,
          0.17568519552493753,
          0.17568519552493753,
          0.17568519552493753,
          0.26783676572777787,
          0.26783676572777787,
          0.26783676572777787,
          0.26783676572777787,
          0.26783676572777787,
          0.37422868427505174,
          0.37422868427505174,
          0.37422868427505174,
          0.37422868427505174,
          0.37422868427505174,
          0.4950977141831996,
          0.4950977141831996,
          0.4950977141831996,
          0.4950977141831996,
          0.4950977141831996
         ],
         "yaxis": "y"
        },
        {
         "line": {
          "color": "brown"
         },
         "mode": "lines+markers",
         "showlegend": false,
         "type": "scatter",
         "x": [
          1,
          1,
          1,
          1,
          1,
          2,
          2,
          2,
          2,
          2,
          3,
          3,
          3,
          3,
          3,
          4,
          4,
          4,
          4,
          4,
          5,
          5,
          5,
          5,
          5
         ],
         "xaxis": "x",
         "y": [
          0.1803408306953545,
          0.1803408306953545,
          0.1803408306953545,
          0.1803408306953545,
          0.1803408306953545,
          0.3466565289564229,
          0.3466565289564229,
          0.3466565289564229,
          0.3466565289564229,
          0.3466565289564229,
          0.5348562473946936,
          0.5348562473946936,
          0.5348562473946936,
          0.5348562473946936,
          0.5348562473946936,
          0.638083473438552,
          0.638083473438552,
          0.638083473438552,
          0.638083473438552,
          0.638083473438552,
          0.8400928210177554,
          0.8400928210177554,
          0.8400928210177554,
          0.8400928210177554,
          0.8400928210177554
         ],
         "yaxis": "y"
        },
        {
         "line": {
          "color": "green"
         },
         "mode": "lines+markers",
         "showlegend": false,
         "type": "scatter",
         "x": [
          1,
          1,
          1,
          1,
          1,
          2,
          2,
          2,
          2,
          2,
          3,
          3,
          3,
          3,
          3,
          4,
          4,
          4,
          4,
          4,
          5,
          5,
          5,
          5,
          5
         ],
         "xaxis": "x",
         "y": [
          0.22713454346008718,
          0.22713454346008718,
          0.22713454346008718,
          0.22713454346008718,
          0.22713454346008718,
          0.4503508530272484,
          0.4503508530272484,
          0.4503508530272484,
          0.4503508530272484,
          0.4503508530272484,
          0.5986111585537846,
          0.5986111585537846,
          0.5986111585537846,
          0.5986111585537846,
          0.5986111585537846,
          0.836008562186459,
          0.836008562186459,
          0.836008562186459,
          0.836008562186459,
          0.836008562186459,
          1.2967916774163293,
          1.2967916774163293,
          1.2967916774163293,
          1.2967916774163293,
          1.2967916774163293
         ],
         "yaxis": "y"
        },
        {
         "line": {
          "color": "purple"
         },
         "mode": "lines+markers",
         "showlegend": false,
         "type": "scatter",
         "x": [
          1,
          1,
          1,
          1,
          1,
          2,
          2,
          2,
          2,
          2,
          3,
          3,
          3,
          3,
          3,
          4,
          4,
          4,
          4,
          4,
          5,
          5,
          5,
          5,
          5
         ],
         "xaxis": "x",
         "y": [
          0.2557825193017124,
          0.2557825193017124,
          0.2557825193017124,
          0.2557825193017124,
          0.2557825193017124,
          0.5187149037195282,
          0.5187149037195282,
          0.5187149037195282,
          0.5187149037195282,
          0.5187149037195282,
          0.6930753388072639,
          0.6930753388072639,
          0.6930753388072639,
          0.6930753388072639,
          0.6930753388072639,
          0.9677979710160769,
          0.9677979710160769,
          0.9677979710160769,
          0.9677979710160769,
          0.9677979710160769,
          1.4980798524129262,
          1.4980798524129262,
          1.4980798524129262,
          1.4980798524129262,
          1.4980798524129262
         ],
         "yaxis": "y"
        },
        {
         "line": {
          "color": "red"
         },
         "mode": "lines+markers",
         "name": "Width=1",
         "type": "scatter",
         "x": [
          1,
          2,
          3,
          4,
          5
         ],
         "xaxis": "x2",
         "y": [
          0.00024000000000000028,
          -0.0001400000000000001,
          0.0001400000000000001,
          0.0006000000000000002,
          0.0004400000000000001
         ],
         "yaxis": "y2"
        },
        {
         "line": {
          "color": "brown"
         },
         "mode": "lines+markers",
         "name": "Width=7",
         "type": "scatter",
         "x": [
          1,
          2,
          3,
          4,
          5
         ],
         "xaxis": "x2",
         "y": [
          0.00010000000000000009,
          -0.0003999999999999999,
          -0.00009999999999999991,
          0.0021400000000000004,
          0.00784
         ],
         "yaxis": "y2"
        },
        {
         "line": {
          "color": "green"
         },
         "mode": "lines+markers",
         "name": "Width=14",
         "type": "scatter",
         "x": [
          1,
          2,
          3,
          4,
          5
         ],
         "xaxis": "x2",
         "y": [
          0.00124,
          0.00033999999999999986,
          0.001,
          0.0050799999999999994,
          0.02536
         ],
         "yaxis": "y2"
        },
        {
         "line": {
          "color": "purple"
         },
         "mode": "lines+markers",
         "name": "Width=20",
         "type": "scatter",
         "x": [
          1,
          2,
          3,
          4,
          5
         ],
         "xaxis": "x2",
         "y": [
          0.0025199999999999997,
          0.0005400000000000002,
          0.00146,
          0.00622,
          0.02306
         ],
         "yaxis": "y2"
        }
       ],
       "layout": {
        "annotations": [
         {
          "font": {
           "size": 16
          },
          "showarrow": false,
          "text": "Theoretical",
          "x": 0.225,
          "xanchor": "center",
          "xref": "paper",
          "y": 1,
          "yanchor": "bottom",
          "yref": "paper"
         },
         {
          "font": {
           "size": 16
          },
          "showarrow": false,
          "text": "Empirical",
          "x": 0.775,
          "xanchor": "center",
          "xref": "paper",
          "y": 1,
          "yanchor": "bottom",
          "yref": "paper"
         }
        ],
        "height": 750,
        "margin": {
         "b": 50,
         "l": 50,
         "r": 50,
         "t": 50
        },
        "template": {
         "data": {
          "bar": [
           {
            "error_x": {
             "color": "#2a3f5f"
            },
            "error_y": {
             "color": "#2a3f5f"
            },
            "marker": {
             "line": {
              "color": "#E5ECF6",
              "width": 0.5
             },
             "pattern": {
              "fillmode": "overlay",
              "size": 10,
              "solidity": 0.2
             }
            },
            "type": "bar"
           }
          ],
          "barpolar": [
           {
            "marker": {
             "line": {
              "color": "#E5ECF6",
              "width": 0.5
             },
             "pattern": {
              "fillmode": "overlay",
              "size": 10,
              "solidity": 0.2
             }
            },
            "type": "barpolar"
           }
          ],
          "carpet": [
           {
            "aaxis": {
             "endlinecolor": "#2a3f5f",
             "gridcolor": "white",
             "linecolor": "white",
             "minorgridcolor": "white",
             "startlinecolor": "#2a3f5f"
            },
            "baxis": {
             "endlinecolor": "#2a3f5f",
             "gridcolor": "white",
             "linecolor": "white",
             "minorgridcolor": "white",
             "startlinecolor": "#2a3f5f"
            },
            "type": "carpet"
           }
          ],
          "choropleth": [
           {
            "colorbar": {
             "outlinewidth": 0,
             "ticks": ""
            },
            "type": "choropleth"
           }
          ],
          "contour": [
           {
            "colorbar": {
             "outlinewidth": 0,
             "ticks": ""
            },
            "colorscale": [
             [
              0,
              "#0d0887"
             ],
             [
              0.1111111111111111,
              "#46039f"
             ],
             [
              0.2222222222222222,
              "#7201a8"
             ],
             [
              0.3333333333333333,
              "#9c179e"
             ],
             [
              0.4444444444444444,
              "#bd3786"
             ],
             [
              0.5555555555555556,
              "#d8576b"
             ],
             [
              0.6666666666666666,
              "#ed7953"
             ],
             [
              0.7777777777777778,
              "#fb9f3a"
             ],
             [
              0.8888888888888888,
              "#fdca26"
             ],
             [
              1,
              "#f0f921"
             ]
            ],
            "type": "contour"
           }
          ],
          "contourcarpet": [
           {
            "colorbar": {
             "outlinewidth": 0,
             "ticks": ""
            },
            "type": "contourcarpet"
           }
          ],
          "heatmap": [
           {
            "colorbar": {
             "outlinewidth": 0,
             "ticks": ""
            },
            "colorscale": [
             [
              0,
              "#0d0887"
             ],
             [
              0.1111111111111111,
              "#46039f"
             ],
             [
              0.2222222222222222,
              "#7201a8"
             ],
             [
              0.3333333333333333,
              "#9c179e"
             ],
             [
              0.4444444444444444,
              "#bd3786"
             ],
             [
              0.5555555555555556,
              "#d8576b"
             ],
             [
              0.6666666666666666,
              "#ed7953"
             ],
             [
              0.7777777777777778,
              "#fb9f3a"
             ],
             [
              0.8888888888888888,
              "#fdca26"
             ],
             [
              1,
              "#f0f921"
             ]
            ],
            "type": "heatmap"
           }
          ],
          "heatmapgl": [
           {
            "colorbar": {
             "outlinewidth": 0,
             "ticks": ""
            },
            "colorscale": [
             [
              0,
              "#0d0887"
             ],
             [
              0.1111111111111111,
              "#46039f"
             ],
             [
              0.2222222222222222,
              "#7201a8"
             ],
             [
              0.3333333333333333,
              "#9c179e"
             ],
             [
              0.4444444444444444,
              "#bd3786"
             ],
             [
              0.5555555555555556,
              "#d8576b"
             ],
             [
              0.6666666666666666,
              "#ed7953"
             ],
             [
              0.7777777777777778,
              "#fb9f3a"
             ],
             [
              0.8888888888888888,
              "#fdca26"
             ],
             [
              1,
              "#f0f921"
             ]
            ],
            "type": "heatmapgl"
           }
          ],
          "histogram": [
           {
            "marker": {
             "pattern": {
              "fillmode": "overlay",
              "size": 10,
              "solidity": 0.2
             }
            },
            "type": "histogram"
           }
          ],
          "histogram2d": [
           {
            "colorbar": {
             "outlinewidth": 0,
             "ticks": ""
            },
            "colorscale": [
             [
              0,
              "#0d0887"
             ],
             [
              0.1111111111111111,
              "#46039f"
             ],
             [
              0.2222222222222222,
              "#7201a8"
             ],
             [
              0.3333333333333333,
              "#9c179e"
             ],
             [
              0.4444444444444444,
              "#bd3786"
             ],
             [
              0.5555555555555556,
              "#d8576b"
             ],
             [
              0.6666666666666666,
              "#ed7953"
             ],
             [
              0.7777777777777778,
              "#fb9f3a"
             ],
             [
              0.8888888888888888,
              "#fdca26"
             ],
             [
              1,
              "#f0f921"
             ]
            ],
            "type": "histogram2d"
           }
          ],
          "histogram2dcontour": [
           {
            "colorbar": {
             "outlinewidth": 0,
             "ticks": ""
            },
            "colorscale": [
             [
              0,
              "#0d0887"
             ],
             [
              0.1111111111111111,
              "#46039f"
             ],
             [
              0.2222222222222222,
              "#7201a8"
             ],
             [
              0.3333333333333333,
              "#9c179e"
             ],
             [
              0.4444444444444444,
              "#bd3786"
             ],
             [
              0.5555555555555556,
              "#d8576b"
             ],
             [
              0.6666666666666666,
              "#ed7953"
             ],
             [
              0.7777777777777778,
              "#fb9f3a"
             ],
             [
              0.8888888888888888,
              "#fdca26"
             ],
             [
              1,
              "#f0f921"
             ]
            ],
            "type": "histogram2dcontour"
           }
          ],
          "mesh3d": [
           {
            "colorbar": {
             "outlinewidth": 0,
             "ticks": ""
            },
            "type": "mesh3d"
           }
          ],
          "parcoords": [
           {
            "line": {
             "colorbar": {
              "outlinewidth": 0,
              "ticks": ""
             }
            },
            "type": "parcoords"
           }
          ],
          "pie": [
           {
            "automargin": true,
            "type": "pie"
           }
          ],
          "scatter": [
           {
            "fillpattern": {
             "fillmode": "overlay",
             "size": 10,
             "solidity": 0.2
            },
            "type": "scatter"
           }
          ],
          "scatter3d": [
           {
            "line": {
             "colorbar": {
              "outlinewidth": 0,
              "ticks": ""
             }
            },
            "marker": {
             "colorbar": {
              "outlinewidth": 0,
              "ticks": ""
             }
            },
            "type": "scatter3d"
           }
          ],
          "scattercarpet": [
           {
            "marker": {
             "colorbar": {
              "outlinewidth": 0,
              "ticks": ""
             }
            },
            "type": "scattercarpet"
           }
          ],
          "scattergeo": [
           {
            "marker": {
             "colorbar": {
              "outlinewidth": 0,
              "ticks": ""
             }
            },
            "type": "scattergeo"
           }
          ],
          "scattergl": [
           {
            "marker": {
             "colorbar": {
              "outlinewidth": 0,
              "ticks": ""
             }
            },
            "type": "scattergl"
           }
          ],
          "scattermapbox": [
           {
            "marker": {
             "colorbar": {
              "outlinewidth": 0,
              "ticks": ""
             }
            },
            "type": "scattermapbox"
           }
          ],
          "scatterpolar": [
           {
            "marker": {
             "colorbar": {
              "outlinewidth": 0,
              "ticks": ""
             }
            },
            "type": "scatterpolar"
           }
          ],
          "scatterpolargl": [
           {
            "marker": {
             "colorbar": {
              "outlinewidth": 0,
              "ticks": ""
             }
            },
            "type": "scatterpolargl"
           }
          ],
          "scatterternary": [
           {
            "marker": {
             "colorbar": {
              "outlinewidth": 0,
              "ticks": ""
             }
            },
            "type": "scatterternary"
           }
          ],
          "surface": [
           {
            "colorbar": {
             "outlinewidth": 0,
             "ticks": ""
            },
            "colorscale": [
             [
              0,
              "#0d0887"
             ],
             [
              0.1111111111111111,
              "#46039f"
             ],
             [
              0.2222222222222222,
              "#7201a8"
             ],
             [
              0.3333333333333333,
              "#9c179e"
             ],
             [
              0.4444444444444444,
              "#bd3786"
             ],
             [
              0.5555555555555556,
              "#d8576b"
             ],
             [
              0.6666666666666666,
              "#ed7953"
             ],
             [
              0.7777777777777778,
              "#fb9f3a"
             ],
             [
              0.8888888888888888,
              "#fdca26"
             ],
             [
              1,
              "#f0f921"
             ]
            ],
            "type": "surface"
           }
          ],
          "table": [
           {
            "cells": {
             "fill": {
              "color": "#EBF0F8"
             },
             "line": {
              "color": "white"
             }
            },
            "header": {
             "fill": {
              "color": "#C8D4E3"
             },
             "line": {
              "color": "white"
             }
            },
            "type": "table"
           }
          ]
         },
         "layout": {
          "annotationdefaults": {
           "arrowcolor": "#2a3f5f",
           "arrowhead": 0,
           "arrowwidth": 1
          },
          "autotypenumbers": "strict",
          "coloraxis": {
           "colorbar": {
            "outlinewidth": 0,
            "ticks": ""
           }
          },
          "colorscale": {
           "diverging": [
            [
             0,
             "#8e0152"
            ],
            [
             0.1,
             "#c51b7d"
            ],
            [
             0.2,
             "#de77ae"
            ],
            [
             0.3,
             "#f1b6da"
            ],
            [
             0.4,
             "#fde0ef"
            ],
            [
             0.5,
             "#f7f7f7"
            ],
            [
             0.6,
             "#e6f5d0"
            ],
            [
             0.7,
             "#b8e186"
            ],
            [
             0.8,
             "#7fbc41"
            ],
            [
             0.9,
             "#4d9221"
            ],
            [
             1,
             "#276419"
            ]
           ],
           "sequential": [
            [
             0,
             "#0d0887"
            ],
            [
             0.1111111111111111,
             "#46039f"
            ],
            [
             0.2222222222222222,
             "#7201a8"
            ],
            [
             0.3333333333333333,
             "#9c179e"
            ],
            [
             0.4444444444444444,
             "#bd3786"
            ],
            [
             0.5555555555555556,
             "#d8576b"
            ],
            [
             0.6666666666666666,
             "#ed7953"
            ],
            [
             0.7777777777777778,
             "#fb9f3a"
            ],
            [
             0.8888888888888888,
             "#fdca26"
            ],
            [
             1,
             "#f0f921"
            ]
           ],
           "sequentialminus": [
            [
             0,
             "#0d0887"
            ],
            [
             0.1111111111111111,
             "#46039f"
            ],
            [
             0.2222222222222222,
             "#7201a8"
            ],
            [
             0.3333333333333333,
             "#9c179e"
            ],
            [
             0.4444444444444444,
             "#bd3786"
            ],
            [
             0.5555555555555556,
             "#d8576b"
            ],
            [
             0.6666666666666666,
             "#ed7953"
            ],
            [
             0.7777777777777778,
             "#fb9f3a"
            ],
            [
             0.8888888888888888,
             "#fdca26"
            ],
            [
             1,
             "#f0f921"
            ]
           ]
          },
          "colorway": [
           "#636efa",
           "#EF553B",
           "#00cc96",
           "#ab63fa",
           "#FFA15A",
           "#19d3f3",
           "#FF6692",
           "#B6E880",
           "#FF97FF",
           "#FECB52"
          ],
          "font": {
           "color": "#2a3f5f"
          },
          "geo": {
           "bgcolor": "white",
           "lakecolor": "white",
           "landcolor": "#E5ECF6",
           "showlakes": true,
           "showland": true,
           "subunitcolor": "white"
          },
          "hoverlabel": {
           "align": "left"
          },
          "hovermode": "closest",
          "mapbox": {
           "style": "light"
          },
          "paper_bgcolor": "white",
          "plot_bgcolor": "#E5ECF6",
          "polar": {
           "angularaxis": {
            "gridcolor": "white",
            "linecolor": "white",
            "ticks": ""
           },
           "bgcolor": "#E5ECF6",
           "radialaxis": {
            "gridcolor": "white",
            "linecolor": "white",
            "ticks": ""
           }
          },
          "scene": {
           "xaxis": {
            "backgroundcolor": "#E5ECF6",
            "gridcolor": "white",
            "gridwidth": 2,
            "linecolor": "white",
            "showbackground": true,
            "ticks": "",
            "zerolinecolor": "white"
           },
           "yaxis": {
            "backgroundcolor": "#E5ECF6",
            "gridcolor": "white",
            "gridwidth": 2,
            "linecolor": "white",
            "showbackground": true,
            "ticks": "",
            "zerolinecolor": "white"
           },
           "zaxis": {
            "backgroundcolor": "#E5ECF6",
            "gridcolor": "white",
            "gridwidth": 2,
            "linecolor": "white",
            "showbackground": true,
            "ticks": "",
            "zerolinecolor": "white"
           }
          },
          "shapedefaults": {
           "line": {
            "color": "#2a3f5f"
           }
          },
          "ternary": {
           "aaxis": {
            "gridcolor": "white",
            "linecolor": "white",
            "ticks": ""
           },
           "baxis": {
            "gridcolor": "white",
            "linecolor": "white",
            "ticks": ""
           },
           "bgcolor": "#E5ECF6",
           "caxis": {
            "gridcolor": "white",
            "linecolor": "white",
            "ticks": ""
           }
          },
          "title": {
           "x": 0.05
          },
          "xaxis": {
           "automargin": true,
           "gridcolor": "white",
           "linecolor": "white",
           "ticks": "",
           "title": {
            "standoff": 15
           },
           "zerolinecolor": "white",
           "zerolinewidth": 2
          },
          "yaxis": {
           "automargin": true,
           "gridcolor": "white",
           "linecolor": "white",
           "ticks": "",
           "title": {
            "standoff": 15
           },
           "zerolinecolor": "white",
           "zerolinewidth": 2
          }
         }
        },
        "title": {
         "text": "Comparison of Empirical and Theoretical Generalization Gap by Degree, Width"
        },
        "width": 1200,
        "xaxis": {
         "anchor": "y",
         "domain": [
          0,
          0.45
         ]
        },
        "xaxis2": {
         "anchor": "y2",
         "domain": [
          0.55,
          1
         ]
        },
        "yaxis": {
         "anchor": "x",
         "domain": [
          0,
          1
         ],
         "title": {
          "text": "Generalzation Gap"
         }
        },
        "yaxis2": {
         "anchor": "x2",
         "domain": [
          0,
          1
         ]
        }
       }
      }
     },
     "metadata": {},
     "output_type": "display_data"
    }
   ],
   "source": [
    "import plotly.express as px\n",
    "import plotly.graph_objects as go\n",
    "from plotly.subplots import make_subplots\n",
    "\n",
    "fig = make_subplots(\n",
    "    rows=1, cols=2,\n",
    "    specs=[\n",
    "        [{\"type\": \"xy\"}, {\"type\": \"xy\"}]\n",
    "    ],\n",
    "    horizontal_spacing=0.10,\n",
    "    vertical_spacing=0.10,\n",
    "    subplot_titles=(\"Theoretical\", \"Empirical\")\n",
    ")\n",
    "\n",
    "# Get unique widths\n",
    "unique_widths = filtered_data[\"width\"].unique()\n",
    "colors = [\"red\", \"brown\", \"green\", \"purple\"]\n",
    "\n",
    "T = 20\n",
    "delta = 0.2\n",
    "Sigma = 0.01\n",
    "d = T + 2\n",
    "m = 10000\n",
    "# eps = 0.01\n",
    "# d = 8*math.log(T)/eps**2\n",
    "\n",
    "\n",
    "def fetch_optimal_sigma(row):\n",
    "    # Fetch optimal sigma for each width\n",
    "    return sigma_data[(sigma_data[\"T\"] == T) & \n",
    "                      (sigma_data[\"omega\"] == row[\"width\"]) & \n",
    "                      (sigma_data[\"D_f\"] == row[\"deg\"])][\"sigma\"].values[-1]\n",
    "\n",
    "# Fetch optimal theo_gen_gap for each width\n",
    "filtered_data[\"theo_gen_gap\"] = filtered_data.apply(\n",
    "    lambda row: theoretical_gen_gap(\n",
    "        sigma=fetch_optimal_sigma(row),\n",
    "        omega=row[\"width\"],\n",
    "        D_f=row[\"deg\"],\n",
    "        T=T,\n",
    "        Sigma=Sigma,\n",
    "        m = 10000,\n",
    "        delta=delta,\n",
    "        d = T + 2\n",
    "    ), axis=1)\n",
    "\n",
    "# Plot theo_gen_gap for each width\n",
    "for k, width in enumerate(unique_widths):\n",
    "    subset = filtered_data[filtered_data[\"width\"] == width]\n",
    "    fig.add_trace(\n",
    "        go.Scatter(x=subset[\"deg\"], y=subset[\"theo_gen_gap\"], mode='lines+markers', line=dict(color=colors[k]), showlegend=False),\n",
    "        row=1, col=1\n",
    "    )\n",
    "\n",
    "# Plot actual_gen_gap for each width, averaging over func\n",
    "for k, width in enumerate(unique_widths):\n",
    "    subset = filtered_data[filtered_data[\"width\"] == width]\n",
    "    avg_actual_gen_gap = subset.groupby(\"deg\")[\"actual_gen_gap\"].mean()\n",
    "    fig.add_trace(\n",
    "        go.Scatter(x=avg_actual_gen_gap.index, y=avg_actual_gen_gap.values, mode='lines+markers', line=dict(color=colors[k]), name=f\"Width={width}\"),\n",
    "        row=1, col=2\n",
    "    )\n",
    "\n",
    "fig.update_layout(\n",
    "    title=\"Comparison of Empirical and Theoretical Generalization Gap by Degree, Width\",\n",
    "    height=750,\n",
    "    width=1200,\n",
    "    margin=dict(t=50, b=50, l=50, r=50)\n",
    ")\n",
    "fig.update_xaxes(title_text=\"Degree\", row=1, col=3)\n",
    "fig.update_xaxes(title_text=\"Degree\", row=2, col=1)\n",
    "fig.update_xaxes(title_text=\"Degree\", row=2, col=2)\n",
    "fig.update_yaxes(title_text=\"Generalzation Gap\", row=1, col=1)\n",
    "fig.update_yaxes(title_text=\"Generalzation Gap\", row=1, col=3)\n",
    "fig.update_yaxes(title_text=\"Generalzation Gap\", row=2, col=1)\n",
    "fig.show()\n",
    "fig.write_image(\"plots/unpretrubed vary over sigma.png\", width=1200, height=750)"
   ]
  },
  {
   "cell_type": "code",
   "execution_count": null,
   "metadata": {},
   "outputs": [],
   "source": [
    "import plotly.express as px\n",
    "import plotly.graph_objects as go\n",
    "from plotly.subplots import make_subplots\n",
    "\n",
    "sigmas = [ 0.00003, 0.0001, 0.005,  0.1]\n",
    "pos = [(1, 1), (1, 2), (2, 1), (2, 2)]\n",
    "fig = make_subplots(\n",
    "    rows=2, cols=3,\n",
    "    specs=[\n",
    "        [{\"type\": \"xy\"}, {\"type\": \"xy\"}, {\"rowspan\": 2, \"colspan\": 1}],  # First row\n",
    "        [{\"type\": \"xy\"}, {\"type\": \"xy\"}, None]                           # Second row\n",
    "    ],\n",
    "    column_widths=[0.25, 0.25, 0.5],  # Left half = 0.25+0.25, Right = 0.5\n",
    "    row_heights=[0.5, 0.5],\n",
    "    horizontal_spacing=0.10,\n",
    "    vertical_spacing=0.10,\n",
    "    subplot_titles=(f\"σ = {sigmas[0]}\", f\"σ = {sigmas[1]}\", \"Empirical Generalization Gap\", f\"σ = {sigmas[2]}\", f\"σ = {sigmas[3]}\")\n",
    ")\n",
    "\n",
    "# Get unique widths\n",
    "unique_widths = filtered_data[\"width\"].unique()\n",
    "colors = [\"red\", \"brown\", \"green\", \"purple\"]\n",
    "\n",
    "T = 20\n",
    "delta = 0.2\n",
    "Sigma = 0.01\n",
    "d = T + 2\n",
    "# eps = 0.01\n",
    "# d = 8*math.log(T)/eps**2\n",
    "\n",
    "# T, D_f, m, omega \n",
    "\n",
    "for i, sigma in enumerate(sigmas): \n",
    "    # Plot theo_gen_gap for each width\n",
    "    filtered_data[\"theo_gen_gap\"] = filtered_data.apply(\n",
    "    lambda row: theoretical_gen_gap(\n",
    "        sigma=sigma,\n",
    "        omega=row[\"width\"],\n",
    "        D_f=row[\"deg\"],\n",
    "        T=T,\n",
    "        Sigma=Sigma,\n",
    "        m=m,\n",
    "        delta=delta,\n",
    "        d=d\n",
    "    ),\n",
    "    axis=1)\n",
    "    for k, width in enumerate(unique_widths):\n",
    "        subset = filtered_data[filtered_data[\"width\"] == width]\n",
    "        fig.add_trace(\n",
    "            go.Scatter(x=subset[\"deg\"], y=subset[\"theo_gen_gap\"], mode='lines+markers', line=dict(color=colors[k]), showlegend=False),\n",
    "            row=pos[i][0], col=pos[i][1]\n",
    "        )\n",
    "\n",
    "# Plot actual_gen_gap for each width, averaging over func\n",
    "for k, width in enumerate(unique_widths):\n",
    "    subset = filtered_data[filtered_data[\"width\"] == width]\n",
    "    avg_actual_gen_gap = subset.groupby(\"deg\")[\"actual_gen_gap\"].mean()\n",
    "    fig.add_trace(\n",
    "        go.Scatter(x=avg_actual_gen_gap.index, y=avg_actual_gen_gap.values, mode='lines+markers', line=dict(color=colors[k]), name=f\"Width={width}\"),\n",
    "        row=1, col=3\n",
    "    )\n",
    "\n",
    "fig.update_layout(\n",
    "    title=\"Comparison of Empirical and Theoretical Generalization Gap by Degree, Width\",\n",
    "    height=750,\n",
    "    width=1200,\n",
    "    margin=dict(t=50, b=50, l=50, r=50)\n",
    ")\n",
    "fig.update_xaxes(title_text=\"Degree\", row=1, col=3)\n",
    "fig.update_xaxes(title_text=\"Degree\", row=2, col=1)\n",
    "fig.update_xaxes(title_text=\"Degree\", row=2, col=2)\n",
    "fig.update_yaxes(title_text=\"Generalzation Gap\", row=1, col=1)\n",
    "fig.update_yaxes(title_text=\"Generalzation Gap\", row=1, col=3)\n",
    "fig.update_yaxes(title_text=\"Generalzation Gap\", row=2, col=1)\n",
    "fig.show()\n",
    "fig.write_image(\"plots/unpretrubed vary over sigma.png\", width=1200, height=750)\n",
    "\n"
   ]
  }
 ],
 "metadata": {
  "kernelspec": {
   "display_name": "clam",
   "language": "python",
   "name": "python3"
  },
  "language_info": {
   "codemirror_mode": {
    "name": "ipython",
    "version": 3
   },
   "file_extension": ".py",
   "mimetype": "text/x-python",
   "name": "python",
   "nbconvert_exporter": "python",
   "pygments_lexer": "ipython3",
   "version": "3.11.8"
  }
 },
 "nbformat": 4,
 "nbformat_minor": 2
}

{
 "cells": [
  {
   "cell_type": "code",
   "execution_count": 1,
   "metadata": {},
   "outputs": [
    {
     "name": "stdout",
     "output_type": "stream",
     "text": [
      "Index(['deg', 'width', 'func', 'epoch', 'train_loss', 'val_loss', 'batch_size',\n",
      "       'lr', 'n_samples', 'func_val_test', 'time_elapsed', 'backend',\n",
      "       'top_eig', 'trace', 'stop_loss', 'ln_eps', 'ln', 'weight_norm', 'l',\n",
      "       'd', 'f', 'h', 'dropout', 'wd'],\n",
      "      dtype='object')\n"
     ]
    }
   ],
   "source": [
    "import pandas as pd\n",
    "import numpy as np\n",
    "\n",
    "data = pd.read_csv(\"small degs large widths.csv\")\n",
    "#data = pd.read_csv(\"summary (48).csv\")\n",
    "\n",
    "\n",
    "# Get the substring in quotes\n",
    "def get_substring_in_brackets(s):\n",
    "    start = s.find('(') + 1\n",
    "    end = s.rfind(')')\n",
    "    return float(s[start:end])\n",
    "\n",
    "data[\"val_loss\"] = data[\"val_loss\"].map(get_substring_in_brackets)\n",
    "data[\"train_loss\"] = data[\"train_loss\"].map(get_substring_in_brackets)\n",
    "\n",
    "print(data.columns)"
   ]
  },
  {
   "cell_type": "code",
   "execution_count": 2,
   "metadata": {},
   "outputs": [
    {
     "name": "stdout",
     "output_type": "stream",
     "text": [
      "(100, 24)\n"
     ]
    }
   ],
   "source": [
    "filtered_data = data.loc[data.groupby([\"deg\", \"width\", \"func\"])[\"epoch\"].idxmax()]\n",
    "print(filtered_data.shape)\n"
   ]
  },
  {
   "cell_type": "code",
   "execution_count": 3,
   "metadata": {},
   "outputs": [],
   "source": [
    "import math\n",
    "from math import sqrt\n",
    "\n",
    "perturbation_term = True\n",
    "def L(omega, D_f, T):\n",
    "    #bound = 21 + 16*(D_f+1)*D_f**2 + 8 * (D_f+1) + 4 * math.log(T)**2 * (D_f*omega + (T+1-omega))\n",
    "    bound = 21 + 16*(D_f+1)*D_f**2 + 8 * (D_f+1) + 4 * math.log(T)**2 * (D_f*omega + (T))\n",
    "\n",
    "    return sqrt(bound)\n",
    "\n",
    "def G_p(sigma, omega, D_f, T, d):\n",
    "    bound = 128 * sqrt(2) * sigma * D_f**2 * sqrt(omega) * math.log(T)\n",
    "    bound += 192 * sigma * sqrt(omega) * D_f**2\n",
    "    bound += 128 * sqrt(2) * D_f**2 * omega**2 * math.log(T)\n",
    "    bound += 64 * sqrt(2) * d * D_f**2 * omega**2 * math.log(T)\n",
    "    bound += 128 * sigma * d * omega**2 * math.log(T) * D_f * sqrt(D_f)\n",
    "    bound += 1024 * sigma * D_f**3 * sqrt(D_f) * omega * sqrt(omega) * math.log(T)\n",
    "    bound += 8 * sigma * sqrt(D_f) * sqrt(omega) * math.log(T) * d \n",
    "    bound += 256 * sigma * D_f**2 * sqrt(D_f) * omega**2 * d\n",
    "    bound += 32 * sigma * sqrt(D_f) * omega**2 * d ** 2\n",
    "    return bound\n",
    "\n",
    "def H_u(omega, D_f, T, d):\n",
    "    bound = 8*(D_f+1) + 6*(D_f+1)*math.sqrt(omega)\n",
    "    bound += 2*math.sqrt(3*T*(D_f+1)) + math.sqrt(48*T*(D_f+1)*D_f)\n",
    "    bound += math.sqrt(T)*math.sqrt(12*(D_f+1))*D_f\n",
    "    bound += 2 * math.sqrt(T) * math.sqrt(12*(D_f+1)) * D_f\n",
    "    bound += 8*math.sqrt(2)*math.sqrt(d*T)*D_f\n",
    "    bound += 2*math.sqrt(d*T)*D_f\n",
    "    bound += 8*math.sqrt(2)*d*D_f*math.sqrt(omega)\n",
    "    bound += 6 * math.sqrt(2)*d*math.sqrt(d)*D_f\n",
    "    return bound\n",
    "\n",
    "def H_p(sigma, omega, D_f, T, d):\n",
    "    bound = 768 * sqrt(2) * sigma * D_f**2 * omega * sqrt(omega) * d * math.log(T)\n",
    "    bound += 256 * sigma * omega * sqrt(omega) * d**2 * D_f * sqrt(D_f) * math.log(T)\n",
    "    bound += 1024 * sigma * D_f**3 * sqrt(D_f) * omega * sqrt(omega) * math.log(T)\n",
    "    bound += 512 * sigma * D_f**2 * sqrt(D_f) * omega * sqrt(omega) * d**2 * math.log(T)\n",
    "    bound += 1536 * sigma * D_f**3 * sqrt(D_f) * omega**2 * sqrt(omega) * sqrt(d) * math.log(T)**2\n",
    "    bound += 768 * sigma * D_f**2 * omega**2 * sqrt(omega) * d * math.log(T)**2\n",
    "    bound += 16 * sigma * omega**2 * d**2 * sqrt(d) * math.log(T)\n",
    "    return bound\n",
    "\n",
    "def G_u(omega, D_f):\n",
    "    bound = 4 + 4*omega*(2 + D_f + 32*D_f**2 + 32*D_f**3)\n",
    "    return bound\n",
    "\n",
    "def T_p(sigma, omega, D_f, T, d):\n",
    "    bound = 128 * sigma * D_f ** 2 * omega * math.log(T)\n",
    "    bound += sigma * math.sqrt(2 * d) + 32 * math.sqrt(omega) * sigma * D_f ** 2\n",
    "    return bound\n",
    "\n",
    "def Theta(D_f, d):\n",
    "    n = 3*(d+1)**2 + (d+1) + (8*d+6)*(D_f+1)\n",
    "    return n\n",
    "\n",
    "def P(sigma, omega, D_f, T, d): \n",
    "    pert_bound = 2*G_p(sigma, omega, D_f, T, d)*(2*math.sqrt(G_u(omega, D_f)) + G_p(sigma, omega, D_f, T, d))\n",
    "    pert_bound += T_p(sigma, omega, D_f, T, d)*(H_u(omega, D_f, T, d) + H_p(sigma, omega, D_f, T, d)) * Theta(D_f, d)\n",
    "    return pert_bound\n",
    "\n",
    "def perturbed_sharpness_term(sigma, omega, D_f, T, d):\n",
    "    if perturbation_term:\n",
    "        trace_bound = G_u(omega, D_f) + P(sigma, omega, D_f, T, d)\n",
    "    else:\n",
    "        trace_bound = G_u(omega, D_f)\n",
    "\n",
    "        \n",
    "    return sigma**2 * trace_bound\n",
    "\n",
    "def parameter_norm_term(Sigma, m, omega, D_f, T, sigma, delta, d):\n",
    "    param_bound = 2 * sqrt( Sigma**2 / (2*m) * (L(omega, D_f, T)/(2*sigma**2) \n",
    "                                                + math.log(1/delta)))\n",
    "    return param_bound\n",
    "\n",
    "def theoretical_gen_gap(sigma, omega, D_f, T, Sigma, m, delta, d):\n",
    "    #print(\"omega: \" + str(omega) + \", D_f: \" + str(D_f) + \", T: \" + str(T))\n",
    "    sharpness_term = perturbed_sharpness_term(sigma, omega, D_f, T, d)\n",
    "    param_norm_term = parameter_norm_term(Sigma, m, omega, D_f, T, sigma, delta, d)\n",
    "    return sharpness_term + param_norm_term\n",
    "\n",
    "actual_gen_gap = filtered_data[\"actual_gen_gap\"] = filtered_data[\"val_loss\"] - filtered_data[\"train_loss\"]\n"
   ]
  },
  {
   "cell_type": "code",
   "execution_count": 4,
   "metadata": {},
   "outputs": [
    {
     "name": "stdout",
     "output_type": "stream",
     "text": [
      "omegas: [ 2.  2.  3.  4.  6.  8. 12. 16. 23. 32.]\n",
      "Mesh points: (460, 3)\n",
      "Mesh and Empirical points: (480, 3)\n"
     ]
    }
   ],
   "source": [
    "import numpy as np\n",
    "\n",
    "# Create a mesh over T, D_f, omega\n",
    "Ts = np.round(np.logspace(1, 4, num=5))\n",
    "D_fs = np.round(np.logspace(.2, 1, num=10))\n",
    "omegas = np.round(np.logspace(.2, 1.5, num=10))\n",
    "\n",
    "print(\"omegas: \" + str(omegas))\n",
    "\n",
    "Ts, D_fs, omegas = np.meshgrid(Ts, D_fs, omegas, indexing='ij')\n",
    "mesh_points = np.stack([Ts.ravel(), D_fs.ravel(), omegas.ravel()], axis=-1)\n",
    "\n",
    "# Filter out points with D_f > T or omega > T\n",
    "mesh_points = mesh_points[(mesh_points[:, 0] >= mesh_points[:, 1]) & (mesh_points[:, 0] >= mesh_points[:, 2])]\n",
    "\n",
    "print(\"Mesh points:\", mesh_points.shape)\n",
    "\n",
    "\n",
    "# Add in points for out empirical construction\n",
    "emp_Ts = [20]\n",
    "emp_D_fs = [1, 2, 3, 4, 5]\n",
    "#emp_D_fs = [1,1.5, 2,2.5, 3,3.5, 4,4.5, 5]\n",
    "emp_omegas = [1,7,14,20]\n",
    "#emp_omegas = range(1,20)\n",
    "Ts, D_fs, omegas = np.meshgrid(emp_Ts, emp_D_fs, emp_omegas, indexing='ij')\n",
    "\n",
    "emp_mesh_points = np.empty((20, 3))\n",
    "\n",
    "i = 0\n",
    "for T in emp_Ts:\n",
    "    for D_f in emp_D_fs:\n",
    "        for omega in emp_omegas:\n",
    "            emp_mesh_points[i] = [T, D_f, omega]\n",
    "            i += 1\n",
    "            \n",
    "mesh_points = np.concatenate([mesh_points, emp_mesh_points], axis=0)\n",
    "\n",
    "print(\"Mesh and Empirical points:\", mesh_points.shape)\n",
    "\n"
   ]
  },
  {
   "cell_type": "code",
   "execution_count": 5,
   "metadata": {},
   "outputs": [
    {
     "data": {
      "text/plain": [
       "array([[10.,  2.,  2.],\n",
       "       [10.,  2.,  2.],\n",
       "       [10.,  2.,  3.],\n",
       "       ...,\n",
       "       [20.,  5.,  7.],\n",
       "       [20.,  5., 14.],\n",
       "       [20.,  5., 20.]])"
      ]
     },
     "execution_count": 5,
     "metadata": {},
     "output_type": "execute_result"
    }
   ],
   "source": [
    "mesh_points"
   ]
  },
  {
   "cell_type": "code",
   "execution_count": 6,
   "metadata": {},
   "outputs": [
    {
     "name": "stderr",
     "output_type": "stream",
     "text": [
      "  0%|          | 0/480 [00:00<?, ?it/s]/var/folders/4c/b9h5j0n54y3d2236vqx5sqv40000gn/T/ipykernel_93520/1115832779.py:72: DeprecationWarning: Conversion of an array with ndim > 0 to a scalar is deprecated, and will error in future. Ensure you extract a single element from your array before performing this operation. (Deprecated NumPy 1.25.)\n",
      "  param_bound = 2 * sqrt( Sigma**2 / (2*m) * (L(omega, D_f, T)/(2*sigma**2)\n",
      "100%|██████████| 480/480 [00:21<00:00, 21.93it/s]"
     ]
    },
    {
     "name": "stdout",
     "output_type": "stream",
     "text": [
      "(3070, 9)\n",
      "(306, 9)\n"
     ]
    },
    {
     "name": "stderr",
     "output_type": "stream",
     "text": [
      "\n"
     ]
    }
   ],
   "source": [
    "from scipy.optimize import minimize, differential_evolution, curve_fit\n",
    "from tqdm import tqdm\n",
    "if perturbation_term:\n",
    "    file_suffix = \"_with_perturbation\"\n",
    "    startLogM = 6\n",
    "    endLogM = 40\n",
    "else:\n",
    "    file_suffix = \"_without_perturbation\"\n",
    "    startLogM = 1\n",
    "    endLogM=7\n",
    "delta = 0.2\n",
    "Sigma = 0.01\n",
    "load = False\n",
    "\n",
    "if not load:\n",
    "    records = []\n",
    "    for row in tqdm(mesh_points): \n",
    "        for m in np.logspace(startLogM,endLogM, num=10):\n",
    "            m=round(m)\n",
    "            T, D_f, omega = row\n",
    "            eps = 0.1\n",
    "            #print(\"T: \" + str(T))\n",
    "            d = min(T,8*math.log(T)/(eps**2))\n",
    "            # Mimimize over sigma\n",
    "            minimal_bound = minimize(theoretical_gen_gap,\n",
    "                                     x0=.001,\n",
    "                                     args=(omega, D_f, T, Sigma, float(m), delta, d),\n",
    "                                     bounds=[(1e-20, None)],\n",
    "                                     options={'eps': 1e-10})\n",
    "            #the below optimization gave a qualitatively similar result --  a choppy landscape for sigma -- but was way slower\n",
    "            #minimal_bound = differential_evolution(theoretical_gen_gap, x0=0.1, args=(omega, D_f, T, Sigma, int(m), delta, d), bounds=[(0, 1)])\n",
    " \n",
    "            records.append({\n",
    "                \"T\": T,\n",
    "                \"D_f\": D_f,\n",
    "                \"omega\": omega,\n",
    "                \"m\": m,\n",
    "                \"d\": d,\n",
    "                \"delta\": delta,\n",
    "                \"Sigma\": Sigma,\n",
    "                \"sigma\": minimal_bound.x[0],\n",
    "                \"bound\": minimal_bound.fun\n",
    "            })\n",
    "            # if minimal_bound.fun <= 1:\n",
    "            #     print(f\"D_f: {D_f}, omega: {omega}, T: {T}, m: {m}, sigma: {minimal_bound.x[0]}, bound: {minimal_bound.fun}\")\n",
    "            #     #break ##for now, we calculate it for all ms we use\n",
    "    sigma_data = pd.DataFrame(records)\n",
    "    # Extract out unique rows\n",
    "    sigma_data = sigma_data.drop_duplicates(subset=[\"T\", \"D_f\", \"omega\", \"m\", \"d\", \"delta\", \"Sigma\", \"sigma\"])\n",
    "    sigma_data_filtered = sigma_data[sigma_data[\"bound\"] <= 1 & (sigma_data[\"sigma\"] > 0)]\n",
    "    # Group by D_f, omega, and T, then select the row with the minimal m\n",
    "    non_vacuous = sigma_data_filtered.groupby(\n",
    "        [\"D_f\", \"omega\", \"T\"], as_index=False\n",
    "    ).agg({\"m\": \"min\"})\n",
    "\n",
    "    # Merge the minimal m values back into the filtered DataFrame\n",
    "    non_vacuous = sigma_data_filtered.merge(non_vacuous, \n",
    "                                         how=\"left\",\n",
    "                                         on=[\"D_f\", \"omega\", \"T\"],\n",
    "                                         suffixes=('_orig', '_min'))\n",
    "\n",
    "    non_vacuous = non_vacuous[non_vacuous['m_min'] == non_vacuous['m_orig']]\n",
    "    \n",
    "    non_vacuous = non_vacuous.drop(columns=['m_orig'], axis=1)\n",
    "    # Remove duplicate columns if necessary\n",
    "    non_vacuous = non_vacuous.drop_duplicates(subset=['D_f', 'omega', 'T'], keep='first')\n",
    "\n",
    "    print(sigma_data.shape)\n",
    "    print(non_vacuous.shape)\n",
    "    sigma_data.to_csv(\"optimized_sigma\"+file_suffix+\".csv\", index=False)\n",
    "    non_vacuous.to_csv((\"non_vacous\"+file_suffix+\".csv\"), index=False)\n",
    "else:\n",
    "    sigma_data=pd.read_csv(\"optimized_sigma\"+file_suffix+\".csv\")\n",
    "    non_vacuous=pd.read_csv((\"non_vacous\"+file_suffix+\".csv\"))"
   ]
  },
  {
   "cell_type": "code",
   "execution_count": null,
   "metadata": {},
   "outputs": [],
   "source": []
  },
  {
   "cell_type": "code",
   "execution_count": 7,
   "metadata": {},
   "outputs": [
    {
     "name": "stdout",
     "output_type": "stream",
     "text": [
      "max_m: 10000000000000000303786028427003666890752\n"
     ]
    },
    {
     "data": {
      "text/plain": [
       "array([   10.,    56.,   316.,  1778., 10000.,    20.])"
      ]
     },
     "execution_count": 7,
     "metadata": {},
     "output_type": "execute_result"
    }
   ],
   "source": [
    "\n",
    "#non_vacuous = non_vacuous[non_vacuous[\"T\"]==20]\n",
    "# compute the maximum of these ms, to use in our theoretical bound plot\n",
    "max_m = non_vacuous[\"m_min\"].max()\n",
    "print(\"max_m: \" + str(max_m))\n",
    "sigma_data[\"T\"].unique()\n"
   ]
  },
  {
   "cell_type": "code",
   "execution_count": 8,
   "metadata": {},
   "outputs": [
    {
     "data": {
      "application/vnd.microsoft.datawrangler.viewer.v0+json": {
       "columns": [
        {
         "name": "index",
         "rawType": "int64",
         "type": "integer"
        },
        {
         "name": "T",
         "rawType": "float64",
         "type": "float"
        },
        {
         "name": "D_f",
         "rawType": "float64",
         "type": "float"
        },
        {
         "name": "omega",
         "rawType": "float64",
         "type": "float"
        },
        {
         "name": "m",
         "rawType": "object",
         "type": "unknown"
        },
        {
         "name": "d",
         "rawType": "float64",
         "type": "float"
        },
        {
         "name": "delta",
         "rawType": "float64",
         "type": "float"
        },
        {
         "name": "Sigma",
         "rawType": "float64",
         "type": "float"
        },
        {
         "name": "sigma",
         "rawType": "float64",
         "type": "float"
        },
        {
         "name": "bound",
         "rawType": "float64",
         "type": "float"
        }
       ],
       "conversionMethod": "pd.DataFrame",
       "ref": "d4b53969-e152-4be5-9061-23b6bb0cab40",
       "rows": [
        [
         "1609",
         "316.0",
         "2.0",
         "2.0",
         "10000000000000000303786028427003666890752",
         "316.0",
         "0.2",
         "0.01",
         "5.7940641808075054e-08",
         "0.04717397881214462"
        ],
        [
         "1628",
         "316.0",
         "2.0",
         "3.0",
         "1668100537200055593339245812959412224",
         "316.0",
         "0.2",
         "0.01",
         "3.358918057670562e-08",
         "0.08025847961687525"
        ],
        [
         "1629",
         "316.0",
         "2.0",
         "3.0",
         "10000000000000000303786028427003666890752",
         "316.0",
         "0.2",
         "0.01",
         "1.513045149660676e-08",
         "0.0162852980247745"
        ],
        [
         "1638",
         "316.0",
         "2.0",
         "4.0",
         "1668100537200055593339245812959412224",
         "316.0",
         "0.2",
         "0.01",
         "4.2624148698498354e-08",
         "0.40846518290526673"
        ],
        [
         "1639",
         "316.0",
         "2.0",
         "4.0",
         "10000000000000000303786028427003666890752",
         "316.0",
         "0.2",
         "0.01",
         "1.6540954311037424e-08",
         "0.06151266100371082"
        ],
        [
         "1649",
         "316.0",
         "2.0",
         "6.0",
         "10000000000000000303786028427003666890752",
         "316.0",
         "0.2",
         "0.01",
         "3.8233484800883e-09",
         "0.016637694436170525"
        ],
        [
         "1659",
         "316.0",
         "2.0",
         "8.0",
         "10000000000000000303786028427003666890752",
         "316.0",
         "0.2",
         "0.01",
         "3.9040666946166154e-09",
         "0.05482688191718024"
        ],
        [
         "1669",
         "316.0",
         "2.0",
         "12.0",
         "10000000000000000303786028427003666890752",
         "316.0",
         "0.2",
         "0.01",
         "2.5548106629319775e-09",
         "0.11886131125318093"
        ],
        [
         "1679",
         "316.0",
         "2.0",
         "16.0",
         "10000000000000000303786028427003666890752",
         "316.0",
         "0.2",
         "0.01",
         "8.805207670747446e-10",
         "0.04462279628452736"
        ],
        [
         "1689",
         "316.0",
         "2.0",
         "23.0",
         "10000000000000000303786028427003666890752",
         "316.0",
         "0.2",
         "0.01",
         "6.807879779929889e-10",
         "0.11390227657176721"
        ],
        [
         "1699",
         "316.0",
         "2.0",
         "32.0",
         "10000000000000000303786028427003666890752",
         "316.0",
         "0.2",
         "0.01",
         "2.1353350903573618e-10",
         "0.04198837868421306"
        ],
        [
         "1908",
         "316.0",
         "3.0",
         "2.0",
         "1668100537200055593339245812959412224",
         "316.0",
         "0.2",
         "0.01",
         "7.945904067518016e-08",
         "0.4491415569584494"
        ],
        [
         "1909",
         "316.0",
         "3.0",
         "2.0",
         "10000000000000000303786028427003666890752",
         "316.0",
         "0.2",
         "0.01",
         "3.3673318887807084e-08",
         "0.08066182137788364"
        ],
        [
         "1929",
         "316.0",
         "3.0",
         "3.0",
         "10000000000000000303786028427003666890752",
         "316.0",
         "0.2",
         "0.01",
         "8.883272643953168e-09",
         "0.028418460805757842"
        ],
        [
         "1938",
         "316.0",
         "3.0",
         "4.0",
         "1668100537200055593339245812959412224",
         "316.0",
         "0.2",
         "0.01",
         "2.7135459555566053e-08",
         "0.8380719281637256"
        ],
        [
         "1939",
         "316.0",
         "3.0",
         "4.0",
         "10000000000000000303786028427003666890752",
         "316.0",
         "0.2",
         "0.01",
         "9.825210248392044e-09",
         "0.10987288917411302"
        ],
        [
         "1949",
         "316.0",
         "3.0",
         "6.0",
         "10000000000000000303786028427003666890752",
         "316.0",
         "0.2",
         "0.01",
         "2.317482328313893e-09",
         "0.03094585166671223"
        ],
        [
         "1959",
         "316.0",
         "3.0",
         "8.0",
         "10000000000000000303786028427003666890752",
         "316.0",
         "0.2",
         "0.01",
         "2.409163654165495e-09",
         "0.10569542361591992"
        ],
        [
         "1969",
         "316.0",
         "3.0",
         "12.0",
         "10000000000000000303786028427003666890752",
         "316.0",
         "0.2",
         "0.01",
         "5.666757880667305e-10",
         "0.029604458539048546"
        ],
        [
         "1979",
         "316.0",
         "3.0",
         "16.0",
         "10000000000000000303786028427003666890752",
         "316.0",
         "0.2",
         "0.01",
         "5.695431868038213e-10",
         "0.09451391257285133"
        ],
        [
         "1989",
         "316.0",
         "3.0",
         "23.0",
         "10000000000000000303786028427003666890752",
         "316.0",
         "0.2",
         "0.01",
         "1.7181063973838253e-10",
         "0.03672600437375342"
        ],
        [
         "1999",
         "316.0",
         "3.0",
         "32.0",
         "10000000000000000303786028427003666890752",
         "316.0",
         "0.2",
         "0.01",
         "4.514220772668992e-11",
         "0.009500087190502614"
        ],
        [
         "2009",
         "316.0",
         "4.0",
         "2.0",
         "10000000000000000303786028427003666890752",
         "316.0",
         "0.2",
         "0.01",
         "1.025990341024425e-08",
         "0.023666560891713435"
        ],
        [
         "2028",
         "316.0",
         "4.0",
         "3.0",
         "1668100537200055593339245812959412224",
         "316.0",
         "0.2",
         "0.01",
         "2.2817603322697148e-08",
         "0.5925818994932404"
        ],
        [
         "2029",
         "316.0",
         "4.0",
         "3.0",
         "10000000000000000303786028427003666890752",
         "316.0",
         "0.2",
         "0.01",
         "8.229327054768329e-09",
         "0.07707914818094296"
        ],
        [
         "2039",
         "316.0",
         "4.0",
         "4.0",
         "10000000000000000303786028427003666890752",
         "316.0",
         "0.2",
         "0.01",
         "3.103788592619091e-09",
         "0.03465334859157746"
        ],
        [
         "2049",
         "316.0",
         "4.0",
         "6.0",
         "10000000000000000303786028427003666890752",
         "316.0",
         "0.2",
         "0.01",
         "2.2209409128206025e-09",
         "0.08982517909782714"
        ],
        [
         "2059",
         "316.0",
         "4.0",
         "8.0",
         "10000000000000000303786028427003666890752",
         "316.0",
         "0.2",
         "0.01",
         "8.073468857952584e-10",
         "0.03751444976386507"
        ],
        [
         "2069",
         "316.0",
         "4.0",
         "12.0",
         "10000000000000000303786028427003666890752",
         "316.0",
         "0.2",
         "0.01",
         "5.516011786446137e-10",
         "0.0886529046947072"
        ],
        [
         "2079",
         "316.0",
         "4.0",
         "16.0",
         "10000000000000000303786028427003666890752",
         "316.0",
         "0.2",
         "0.01",
         "2.0927028610534865e-10",
         "0.040328530762512554"
        ],
        [
         "2089",
         "316.0",
         "4.0",
         "23.0",
         "10000000000000000303786028427003666890752",
         "316.0",
         "0.2",
         "0.01",
         "5.869392175504051e-11",
         "0.013546113729581243"
        ],
        [
         "2099",
         "316.0",
         "4.0",
         "32.0",
         "10000000000000000303786028427003666890752",
         "316.0",
         "0.2",
         "0.01",
         "2.909229070139827e-14",
         "6.630711531575851e-08"
        ],
        [
         "2208",
         "316.0",
         "5.0",
         "2.0",
         "1668100537200055593339245812959412224",
         "316.0",
         "0.2",
         "0.01",
         "3.3446127278255655e-08",
         "0.6140150382927507"
        ],
        [
         "2209",
         "316.0",
         "5.0",
         "2.0",
         "10000000000000000303786028427003666890752",
         "316.0",
         "0.2",
         "0.01",
         "1.2102212624113774e-08",
         "0.08039272707204917"
        ],
        [
         "2229",
         "316.0",
         "5.0",
         "3.0",
         "10000000000000000303786028427003666890752",
         "316.0",
         "0.2",
         "0.01",
         "3.322573073204079e-09",
         "0.030675848013754413"
        ],
        [
         "2238",
         "316.0",
         "5.0",
         "4.0",
         "1668100537200055593339245812959412224",
         "316.0",
         "0.2",
         "0.01",
         "1.0363302287571843e-08",
         "0.9431848920064552"
        ],
        [
         "2239",
         "316.0",
         "5.0",
         "4.0",
         "10000000000000000303786028427003666890752",
         "316.0",
         "0.2",
         "0.01",
         "3.77722379661827e-09",
         "0.1252985121395518"
        ],
        [
         "2249",
         "316.0",
         "5.0",
         "6.0",
         "10000000000000000303786028427003666890752",
         "316.0",
         "0.2",
         "0.01",
         "9.420290583016947e-10",
         "0.03945412791069418"
        ],
        [
         "2259",
         "316.0",
         "5.0",
         "8.0",
         "10000000000000000303786028427003666890752",
         "316.0",
         "0.2",
         "0.01",
         "1.0168824207754327e-09",
         "0.14529798165722627"
        ],
        [
         "2269",
         "316.0",
         "5.0",
         "12.0",
         "10000000000000000303786028427003666890752",
         "316.0",
         "0.2",
         "0.01",
         "2.49886615744063e-10",
         "0.04441897587975056"
        ],
        [
         "2279",
         "316.0",
         "5.0",
         "16.0",
         "10000000000000000303786028427003666890752",
         "316.0",
         "0.2",
         "0.01",
         "1.2367490687892066e-10",
         "0.03438748670945174"
        ],
        [
         "2289",
         "316.0",
         "5.0",
         "23.0",
         "10000000000000000303786028427003666890752",
         "316.0",
         "0.2",
         "0.01",
         "3.6943657521851446e-14",
         "5.5392553542370256e-08"
        ],
        [
         "2299",
         "316.0",
         "5.0",
         "32.0",
         "10000000000000000303786028427003666890752",
         "316.0",
         "0.2",
         "0.01",
         "1e-20",
         "0.16000597762479613"
        ],
        [
         "2309",
         "316.0",
         "7.0",
         "2.0",
         "10000000000000000303786028427003666890752",
         "316.0",
         "0.2",
         "0.01",
         "3.0000957227452817e-09",
         "0.01897875444990183"
        ],
        [
         "2329",
         "316.0",
         "7.0",
         "3.0",
         "10000000000000000303786028427003666890752",
         "316.0",
         "0.2",
         "0.01",
         "2.5160339543520756e-09",
         "0.06757587004256138"
        ],
        [
         "2339",
         "316.0",
         "7.0",
         "4.0",
         "10000000000000000303786028427003666890752",
         "316.0",
         "0.2",
         "0.01",
         "1.0038660012074357e-09",
         "0.03399879038313297"
        ],
        [
         "2349",
         "316.0",
         "7.0",
         "6.0",
         "10000000000000000303786028427003666890752",
         "316.0",
         "0.2",
         "0.01",
         "7.586682842078595e-10",
         "0.09830588146120207"
        ],
        [
         "2359",
         "316.0",
         "7.0",
         "8.0",
         "10000000000000000303786028427003666890752",
         "316.0",
         "0.2",
         "0.01",
         "2.9278644614862994e-10",
         "0.04627345780288437"
        ],
        [
         "2369",
         "316.0",
         "7.0",
         "12.0",
         "10000000000000000303786028427003666890752",
         "316.0",
         "0.2",
         "0.01",
         "9.364699042388399e-11",
         "0.02396526412608444"
        ],
        [
         "2379",
         "316.0",
         "7.0",
         "16.0",
         "10000000000000000303786028427003666890752",
         "316.0",
         "0.2",
         "0.01",
         "4.545089966526434e-14",
         "5.270894053337979e-08"
        ]
       ],
       "shape": {
        "columns": 9,
        "rows": 71
       }
      },
      "text/html": [
       "<div>\n",
       "<style scoped>\n",
       "    .dataframe tbody tr th:only-of-type {\n",
       "        vertical-align: middle;\n",
       "    }\n",
       "\n",
       "    .dataframe tbody tr th {\n",
       "        vertical-align: top;\n",
       "    }\n",
       "\n",
       "    .dataframe thead th {\n",
       "        text-align: right;\n",
       "    }\n",
       "</style>\n",
       "<table border=\"1\" class=\"dataframe\">\n",
       "  <thead>\n",
       "    <tr style=\"text-align: right;\">\n",
       "      <th></th>\n",
       "      <th>T</th>\n",
       "      <th>D_f</th>\n",
       "      <th>omega</th>\n",
       "      <th>m</th>\n",
       "      <th>d</th>\n",
       "      <th>delta</th>\n",
       "      <th>Sigma</th>\n",
       "      <th>sigma</th>\n",
       "      <th>bound</th>\n",
       "    </tr>\n",
       "  </thead>\n",
       "  <tbody>\n",
       "    <tr>\n",
       "      <th>1609</th>\n",
       "      <td>316.0</td>\n",
       "      <td>2.0</td>\n",
       "      <td>2.0</td>\n",
       "      <td>10000000000000000303786028427003666890752</td>\n",
       "      <td>316.0</td>\n",
       "      <td>0.2</td>\n",
       "      <td>0.01</td>\n",
       "      <td>5.794064e-08</td>\n",
       "      <td>4.717398e-02</td>\n",
       "    </tr>\n",
       "    <tr>\n",
       "      <th>1628</th>\n",
       "      <td>316.0</td>\n",
       "      <td>2.0</td>\n",
       "      <td>3.0</td>\n",
       "      <td>1668100537200055593339245812959412224</td>\n",
       "      <td>316.0</td>\n",
       "      <td>0.2</td>\n",
       "      <td>0.01</td>\n",
       "      <td>3.358918e-08</td>\n",
       "      <td>8.025848e-02</td>\n",
       "    </tr>\n",
       "    <tr>\n",
       "      <th>1629</th>\n",
       "      <td>316.0</td>\n",
       "      <td>2.0</td>\n",
       "      <td>3.0</td>\n",
       "      <td>10000000000000000303786028427003666890752</td>\n",
       "      <td>316.0</td>\n",
       "      <td>0.2</td>\n",
       "      <td>0.01</td>\n",
       "      <td>1.513045e-08</td>\n",
       "      <td>1.628530e-02</td>\n",
       "    </tr>\n",
       "    <tr>\n",
       "      <th>1638</th>\n",
       "      <td>316.0</td>\n",
       "      <td>2.0</td>\n",
       "      <td>4.0</td>\n",
       "      <td>1668100537200055593339245812959412224</td>\n",
       "      <td>316.0</td>\n",
       "      <td>0.2</td>\n",
       "      <td>0.01</td>\n",
       "      <td>4.262415e-08</td>\n",
       "      <td>4.084652e-01</td>\n",
       "    </tr>\n",
       "    <tr>\n",
       "      <th>1639</th>\n",
       "      <td>316.0</td>\n",
       "      <td>2.0</td>\n",
       "      <td>4.0</td>\n",
       "      <td>10000000000000000303786028427003666890752</td>\n",
       "      <td>316.0</td>\n",
       "      <td>0.2</td>\n",
       "      <td>0.01</td>\n",
       "      <td>1.654095e-08</td>\n",
       "      <td>6.151266e-02</td>\n",
       "    </tr>\n",
       "    <tr>\n",
       "      <th>...</th>\n",
       "      <td>...</td>\n",
       "      <td>...</td>\n",
       "      <td>...</td>\n",
       "      <td>...</td>\n",
       "      <td>...</td>\n",
       "      <td>...</td>\n",
       "      <td>...</td>\n",
       "      <td>...</td>\n",
       "      <td>...</td>\n",
       "    </tr>\n",
       "    <tr>\n",
       "      <th>2569</th>\n",
       "      <td>316.0</td>\n",
       "      <td>10.0</td>\n",
       "      <td>12.0</td>\n",
       "      <td>10000000000000000303786028427003666890752</td>\n",
       "      <td>316.0</td>\n",
       "      <td>0.2</td>\n",
       "      <td>0.01</td>\n",
       "      <td>4.283815e-14</td>\n",
       "      <td>5.957962e-08</td>\n",
       "    </tr>\n",
       "    <tr>\n",
       "      <th>2579</th>\n",
       "      <td>316.0</td>\n",
       "      <td>10.0</td>\n",
       "      <td>16.0</td>\n",
       "      <td>10000000000000000303786028427003666890752</td>\n",
       "      <td>316.0</td>\n",
       "      <td>0.2</td>\n",
       "      <td>0.01</td>\n",
       "      <td>1.000000e-20</td>\n",
       "      <td>1.685908e-01</td>\n",
       "    </tr>\n",
       "    <tr>\n",
       "      <th>2589</th>\n",
       "      <td>316.0</td>\n",
       "      <td>10.0</td>\n",
       "      <td>23.0</td>\n",
       "      <td>10000000000000000303786028427003666890752</td>\n",
       "      <td>316.0</td>\n",
       "      <td>0.2</td>\n",
       "      <td>0.01</td>\n",
       "      <td>1.000000e-20</td>\n",
       "      <td>1.732348e-01</td>\n",
       "    </tr>\n",
       "    <tr>\n",
       "      <th>2598</th>\n",
       "      <td>316.0</td>\n",
       "      <td>10.0</td>\n",
       "      <td>32.0</td>\n",
       "      <td>1668100537200055593339245812959412224</td>\n",
       "      <td>316.0</td>\n",
       "      <td>0.2</td>\n",
       "      <td>0.01</td>\n",
       "      <td>8.205647e-12</td>\n",
       "      <td>3.875276e-02</td>\n",
       "    </tr>\n",
       "    <tr>\n",
       "      <th>2599</th>\n",
       "      <td>316.0</td>\n",
       "      <td>10.0</td>\n",
       "      <td>32.0</td>\n",
       "      <td>10000000000000000303786028427003666890752</td>\n",
       "      <td>316.0</td>\n",
       "      <td>0.2</td>\n",
       "      <td>0.01</td>\n",
       "      <td>1.000000e-20</td>\n",
       "      <td>1.787053e-01</td>\n",
       "    </tr>\n",
       "  </tbody>\n",
       "</table>\n",
       "<p>71 rows × 9 columns</p>\n",
       "</div>"
      ],
      "text/plain": [
       "          T   D_f  omega                                          m      d  \\\n",
       "1609  316.0   2.0    2.0  10000000000000000303786028427003666890752  316.0   \n",
       "1628  316.0   2.0    3.0      1668100537200055593339245812959412224  316.0   \n",
       "1629  316.0   2.0    3.0  10000000000000000303786028427003666890752  316.0   \n",
       "1638  316.0   2.0    4.0      1668100537200055593339245812959412224  316.0   \n",
       "1639  316.0   2.0    4.0  10000000000000000303786028427003666890752  316.0   \n",
       "...     ...   ...    ...                                        ...    ...   \n",
       "2569  316.0  10.0   12.0  10000000000000000303786028427003666890752  316.0   \n",
       "2579  316.0  10.0   16.0  10000000000000000303786028427003666890752  316.0   \n",
       "2589  316.0  10.0   23.0  10000000000000000303786028427003666890752  316.0   \n",
       "2598  316.0  10.0   32.0      1668100537200055593339245812959412224  316.0   \n",
       "2599  316.0  10.0   32.0  10000000000000000303786028427003666890752  316.0   \n",
       "\n",
       "      delta  Sigma         sigma         bound  \n",
       "1609    0.2   0.01  5.794064e-08  4.717398e-02  \n",
       "1628    0.2   0.01  3.358918e-08  8.025848e-02  \n",
       "1629    0.2   0.01  1.513045e-08  1.628530e-02  \n",
       "1638    0.2   0.01  4.262415e-08  4.084652e-01  \n",
       "1639    0.2   0.01  1.654095e-08  6.151266e-02  \n",
       "...     ...    ...           ...           ...  \n",
       "2569    0.2   0.01  4.283815e-14  5.957962e-08  \n",
       "2579    0.2   0.01  1.000000e-20  1.685908e-01  \n",
       "2589    0.2   0.01  1.000000e-20  1.732348e-01  \n",
       "2598    0.2   0.01  8.205647e-12  3.875276e-02  \n",
       "2599    0.2   0.01  1.000000e-20  1.787053e-01  \n",
       "\n",
       "[71 rows x 9 columns]"
      ]
     },
     "execution_count": 8,
     "metadata": {},
     "output_type": "execute_result"
    }
   ],
   "source": [
    "test = sigma_data[sigma_data[\"T\"]==316]\n",
    "# min_sigma = sigma_data[\"sigma\"].min()\n",
    "# test[test[\"sigma\"]==min_sigma]\n",
    "test[test[\"bound\"]<1]"
   ]
  },
  {
   "cell_type": "code",
   "execution_count": 9,
   "metadata": {},
   "outputs": [
    {
     "data": {
      "text/plain": [
       "array([   10.,    56.,   316.,  1778., 10000.,    20.])"
      ]
     },
     "execution_count": 9,
     "metadata": {},
     "output_type": "execute_result"
    }
   ],
   "source": [
    "unique_T_all = non_vacuous[\"T\"].unique()\n",
    "num_Ts = len(unique_T_all)\n",
    "num_rows =num_Ts // 2+1\n",
    "unique_T_all\n"
   ]
  },
  {
   "cell_type": "code",
   "execution_count": 10,
   "metadata": {},
   "outputs": [
    {
     "name": "stdout",
     "output_type": "stream",
     "text": [
      "index: 0, row: 1, col: 1, T: 10.0\n",
      "index: 1, row: 1, col: 2, T: 56.0\n",
      "index: 2, row: 2, col: 1, T: 316.0\n",
      "index: 3, row: 2, col: 2, T: 1778.0\n",
      "index: 4, row: 3, col: 1, T: 10000.0\n",
      "index: 5, row: 3, col: 2, T: 20.0\n"
     ]
    },
    {
     "data": {
      "application/vnd.plotly.v1+json": {
       "config": {
        "plotlyServerURL": "https://plot.ly"
       },
       "data": [
        {
         "mode": "lines+markers",
         "showlegend": true,
         "type": "scatter",
         "x": [
          2,
          3,
          4,
          5,
          7,
          8,
          10
         ],
         "xaxis": "x",
         "y": [
          22.51416535368796,
          31.212820149474833,
          22.51416535368796,
          22.51416535368796,
          66.00743933249598,
          92.10340371976183,
          92.10340371976183
         ],
         "yaxis": "y"
        },
        {
         "mode": "lines+markers",
         "showlegend": true,
         "type": "scatter",
         "x": [
          2,
          3,
          4,
          5,
          7,
          8,
          10
         ],
         "xaxis": "x",
         "y": [
          22.51416535368796,
          31.212820149474833,
          31.212820149474833,
          31.212820149474833,
          57.308784536740696,
          92.10340371976183,
          92.10340371976183
         ],
         "yaxis": "y"
        },
        {
         "mode": "lines+markers",
         "showlegend": true,
         "type": "scatter",
         "x": [
          2,
          3,
          4,
          5,
          7,
          8,
          10
         ],
         "xaxis": "x",
         "y": [
          31.212820149474833,
          31.212820149474833,
          31.212820149474833,
          31.212820149474833,
          92.10340371976183,
          92.10340371976183,
          92.10340371976183
         ],
         "yaxis": "y"
        },
        {
         "mode": "lines+markers",
         "showlegend": true,
         "type": "scatter",
         "x": [
          2,
          3,
          4,
          5,
          7,
          8,
          10
         ],
         "xaxis": "x",
         "y": [
          92.10340371976183,
          31.212820149474833,
          31.212820149474833,
          57.308784536740696,
          83.40474892400654,
          83.40474892400654,
          92.10340371976183
         ],
         "yaxis": "y"
        },
        {
         "mode": "lines+markers",
         "showlegend": true,
         "type": "scatter",
         "x": [
          3,
          4,
          5,
          7,
          8,
          10
         ],
         "xaxis": "x",
         "y": [
          31.212820149474833,
          31.212820149474833,
          57.308784536740696,
          83.40474892400654,
          83.40474892400654,
          83.40474892400654
         ],
         "yaxis": "y"
        },
        {
         "mode": "lines+markers",
         "showlegend": true,
         "type": "scatter",
         "x": [],
         "xaxis": "x",
         "y": [],
         "yaxis": "y"
        },
        {
         "mode": "lines+markers",
         "showlegend": true,
         "type": "scatter",
         "x": [],
         "xaxis": "x",
         "y": [],
         "yaxis": "y"
        },
        {
         "mode": "lines+markers",
         "showlegend": true,
         "type": "scatter",
         "x": [],
         "xaxis": "x",
         "y": [],
         "yaxis": "y"
        },
        {
         "mode": "lines+markers",
         "showlegend": true,
         "type": "scatter",
         "x": [],
         "xaxis": "x",
         "y": [],
         "yaxis": "y"
        },
        {
         "mode": "lines+markers",
         "showlegend": true,
         "type": "scatter",
         "x": [],
         "xaxis": "x",
         "y": [],
         "yaxis": "y"
        },
        {
         "mode": "lines+markers",
         "showlegend": true,
         "type": "scatter",
         "x": [],
         "xaxis": "x",
         "y": [],
         "yaxis": "y"
        },
        {
         "mode": "lines+markers",
         "showlegend": true,
         "type": "scatter",
         "x": [],
         "xaxis": "x",
         "y": [],
         "yaxis": "y"
        },
        {
         "mode": "lines+markers",
         "showlegend": true,
         "type": "scatter",
         "x": [],
         "xaxis": "x",
         "y": [],
         "yaxis": "y"
        },
        {
         "mode": "lines+markers",
         "showlegend": true,
         "type": "scatter",
         "x": [
          2,
          3,
          4,
          5,
          7,
          8,
          10
         ],
         "xaxis": "x2",
         "y": [
          66.00743933249598,
          92.10340371976183,
          83.40474892400654,
          83.40474892400654,
          31.212820149474833,
          31.212820149474833,
          83.40474892400654
         ],
         "yaxis": "y2"
        },
        {
         "mode": "lines+markers",
         "showlegend": true,
         "type": "scatter",
         "x": [
          2,
          3,
          4,
          5,
          7,
          8,
          10
         ],
         "xaxis": "x2",
         "y": [
          57.308784536740696,
          92.10340371976183,
          92.10340371976183,
          83.40474892400654,
          83.40474892400654,
          83.40474892400654,
          92.10340371976183
         ],
         "yaxis": "y2"
        },
        {
         "mode": "lines+markers",
         "showlegend": true,
         "type": "scatter",
         "x": [
          2,
          3,
          4,
          5,
          7,
          8,
          10
         ],
         "xaxis": "x2",
         "y": [
          57.308784536740696,
          92.10340371976183,
          83.40474892400654,
          83.40474892400654,
          92.10340371976183,
          92.10340371976183,
          83.40474892400654
         ],
         "yaxis": "y2"
        },
        {
         "mode": "lines+markers",
         "showlegend": true,
         "type": "scatter",
         "x": [
          2,
          3,
          4,
          5,
          7,
          8,
          10
         ],
         "xaxis": "x2",
         "y": [
          74.70609412825125,
          83.40474892400654,
          83.40474892400654,
          92.10340371976183,
          92.10340371976183,
          92.10340371976183,
          92.10340371976183
         ],
         "yaxis": "y2"
        },
        {
         "mode": "lines+markers",
         "showlegend": true,
         "type": "scatter",
         "x": [
          2,
          3,
          4,
          5,
          7,
          8,
          10
         ],
         "xaxis": "x2",
         "y": [
          57.308784536740696,
          83.40474892400654,
          83.40474892400654,
          92.10340371976183,
          92.10340371976183,
          92.10340371976183,
          92.10340371976183
         ],
         "yaxis": "y2"
        },
        {
         "mode": "lines+markers",
         "showlegend": true,
         "type": "scatter",
         "x": [
          2,
          3,
          4,
          5,
          7,
          8,
          10
         ],
         "xaxis": "x2",
         "y": [
          83.40474892400654,
          83.40474892400654,
          92.10340371976183,
          83.40474892400654,
          92.10340371976183,
          92.10340371976183,
          92.10340371976183
         ],
         "yaxis": "y2"
        },
        {
         "mode": "lines+markers",
         "showlegend": true,
         "type": "scatter",
         "x": [
          2,
          3,
          4,
          5,
          7,
          8,
          10
         ],
         "xaxis": "x2",
         "y": [
          83.40474892400654,
          92.10340371976183,
          92.10340371976183,
          92.10340371976183,
          92.10340371976183,
          92.10340371976183,
          92.10340371976183
         ],
         "yaxis": "y2"
        },
        {
         "mode": "lines+markers",
         "showlegend": true,
         "type": "scatter",
         "x": [
          2,
          3,
          4,
          5,
          7,
          8,
          10
         ],
         "xaxis": "x2",
         "y": [
          92.10340371976183,
          92.10340371976183,
          92.10340371976183,
          92.10340371976183,
          92.10340371976183,
          92.10340371976183,
          92.10340371976183
         ],
         "yaxis": "y2"
        },
        {
         "mode": "lines+markers",
         "showlegend": true,
         "type": "scatter",
         "x": [
          2,
          3,
          4,
          5,
          7,
          8,
          10
         ],
         "xaxis": "x2",
         "y": [
          92.10340371976183,
          92.10340371976183,
          92.10340371976183,
          92.10340371976183,
          92.10340371976183,
          92.10340371976183,
          92.10340371976183
         ],
         "yaxis": "y2"
        },
        {
         "mode": "lines+markers",
         "showlegend": true,
         "type": "scatter",
         "x": [],
         "xaxis": "x2",
         "y": [],
         "yaxis": "y2"
        },
        {
         "mode": "lines+markers",
         "showlegend": true,
         "type": "scatter",
         "x": [],
         "xaxis": "x2",
         "y": [],
         "yaxis": "y2"
        },
        {
         "mode": "lines+markers",
         "showlegend": true,
         "type": "scatter",
         "x": [],
         "xaxis": "x2",
         "y": [],
         "yaxis": "y2"
        },
        {
         "mode": "lines+markers",
         "showlegend": true,
         "type": "scatter",
         "x": [],
         "xaxis": "x2",
         "y": [],
         "yaxis": "y2"
        },
        {
         "mode": "lines+markers",
         "showlegend": true,
         "type": "scatter",
         "x": [
          2,
          3,
          4,
          5,
          7,
          8,
          10
         ],
         "xaxis": "x3",
         "y": [
          92.10340371976183,
          83.40474892400654,
          92.10340371976183,
          83.40474892400654,
          92.10340371976183,
          92.10340371976183,
          92.10340371976183
         ],
         "yaxis": "y3"
        },
        {
         "mode": "lines+markers",
         "showlegend": true,
         "type": "scatter",
         "x": [
          2,
          3,
          4,
          5,
          7,
          8,
          10
         ],
         "xaxis": "x3",
         "y": [
          83.40474892400654,
          92.10340371976183,
          83.40474892400654,
          92.10340371976183,
          92.10340371976183,
          92.10340371976183,
          92.10340371976183
         ],
         "yaxis": "y3"
        },
        {
         "mode": "lines+markers",
         "showlegend": true,
         "type": "scatter",
         "x": [
          2,
          3,
          4,
          5,
          7,
          8,
          10
         ],
         "xaxis": "x3",
         "y": [
          83.40474892400654,
          83.40474892400654,
          92.10340371976183,
          83.40474892400654,
          92.10340371976183,
          92.10340371976183,
          92.10340371976183
         ],
         "yaxis": "y3"
        },
        {
         "mode": "lines+markers",
         "showlegend": true,
         "type": "scatter",
         "x": [
          2,
          3,
          4,
          5,
          7,
          8,
          10
         ],
         "xaxis": "x3",
         "y": [
          92.10340371976183,
          92.10340371976183,
          92.10340371976183,
          92.10340371976183,
          92.10340371976183,
          92.10340371976183,
          92.10340371976183
         ],
         "yaxis": "y3"
        },
        {
         "mode": "lines+markers",
         "showlegend": true,
         "type": "scatter",
         "x": [
          2,
          3,
          4,
          5,
          7,
          8,
          10
         ],
         "xaxis": "x3",
         "y": [
          92.10340371976183,
          92.10340371976183,
          92.10340371976183,
          92.10340371976183,
          92.10340371976183,
          92.10340371976183,
          92.10340371976183
         ],
         "yaxis": "y3"
        },
        {
         "mode": "lines+markers",
         "showlegend": true,
         "type": "scatter",
         "x": [
          2,
          3,
          4,
          5,
          7,
          8,
          10
         ],
         "xaxis": "x3",
         "y": [
          92.10340371976183,
          92.10340371976183,
          92.10340371976183,
          92.10340371976183,
          92.10340371976183,
          92.10340371976183,
          92.10340371976183
         ],
         "yaxis": "y3"
        },
        {
         "mode": "lines+markers",
         "showlegend": true,
         "type": "scatter",
         "x": [
          2,
          3,
          4,
          5,
          7,
          8,
          10
         ],
         "xaxis": "x3",
         "y": [
          92.10340371976183,
          92.10340371976183,
          92.10340371976183,
          92.10340371976183,
          92.10340371976183,
          92.10340371976183,
          92.10340371976183
         ],
         "yaxis": "y3"
        },
        {
         "mode": "lines+markers",
         "showlegend": true,
         "type": "scatter",
         "x": [
          2,
          3,
          4,
          5,
          7,
          8,
          10
         ],
         "xaxis": "x3",
         "y": [
          92.10340371976183,
          92.10340371976183,
          92.10340371976183,
          92.10340371976183,
          92.10340371976183,
          92.10340371976183,
          92.10340371976183
         ],
         "yaxis": "y3"
        },
        {
         "mode": "lines+markers",
         "showlegend": true,
         "type": "scatter",
         "x": [
          2,
          3,
          4,
          5,
          7,
          8,
          10
         ],
         "xaxis": "x3",
         "y": [
          92.10340371976183,
          92.10340371976183,
          92.10340371976183,
          92.10340371976183,
          92.10340371976183,
          92.10340371976183,
          83.40474892400654
         ],
         "yaxis": "y3"
        },
        {
         "mode": "lines+markers",
         "showlegend": true,
         "type": "scatter",
         "x": [],
         "xaxis": "x3",
         "y": [],
         "yaxis": "y3"
        },
        {
         "mode": "lines+markers",
         "showlegend": true,
         "type": "scatter",
         "x": [],
         "xaxis": "x3",
         "y": [],
         "yaxis": "y3"
        },
        {
         "mode": "lines+markers",
         "showlegend": true,
         "type": "scatter",
         "x": [],
         "xaxis": "x3",
         "y": [],
         "yaxis": "y3"
        },
        {
         "mode": "lines+markers",
         "showlegend": true,
         "type": "scatter",
         "x": [],
         "xaxis": "x3",
         "y": [],
         "yaxis": "y3"
        },
        {
         "mode": "lines+markers",
         "showlegend": true,
         "type": "scatter",
         "x": [
          2,
          3,
          4,
          5,
          7,
          8,
          10
         ],
         "xaxis": "x4",
         "y": [
          92.10340371976183,
          92.10340371976183,
          92.10340371976183,
          92.10340371976183,
          92.10340371976183,
          92.10340371976183,
          92.10340371976183
         ],
         "yaxis": "y4"
        },
        {
         "mode": "lines+markers",
         "showlegend": true,
         "type": "scatter",
         "x": [
          2,
          3,
          4,
          5,
          7,
          8,
          10
         ],
         "xaxis": "x4",
         "y": [
          92.10340371976183,
          92.10340371976183,
          92.10340371976183,
          92.10340371976183,
          92.10340371976183,
          92.10340371976183,
          92.10340371976183
         ],
         "yaxis": "y4"
        },
        {
         "mode": "lines+markers",
         "showlegend": true,
         "type": "scatter",
         "x": [
          2,
          3,
          4,
          5,
          7,
          8,
          10
         ],
         "xaxis": "x4",
         "y": [
          92.10340371976183,
          92.10340371976183,
          92.10340371976183,
          92.10340371976183,
          92.10340371976183,
          92.10340371976183,
          92.10340371976183
         ],
         "yaxis": "y4"
        },
        {
         "mode": "lines+markers",
         "showlegend": true,
         "type": "scatter",
         "x": [
          2,
          3,
          4,
          5,
          7,
          8,
          10
         ],
         "xaxis": "x4",
         "y": [
          92.10340371976183,
          92.10340371976183,
          92.10340371976183,
          92.10340371976183,
          92.10340371976183,
          92.10340371976183,
          83.40474892400654
         ],
         "yaxis": "y4"
        },
        {
         "mode": "lines+markers",
         "showlegend": true,
         "type": "scatter",
         "x": [
          2,
          3,
          4,
          5,
          7,
          8,
          10
         ],
         "xaxis": "x4",
         "y": [
          92.10340371976183,
          92.10340371976183,
          92.10340371976183,
          92.10340371976183,
          92.10340371976183,
          92.10340371976183,
          83.40474892400654
         ],
         "yaxis": "y4"
        },
        {
         "mode": "lines+markers",
         "showlegend": true,
         "type": "scatter",
         "x": [
          2,
          3,
          4,
          5,
          7,
          8,
          10
         ],
         "xaxis": "x4",
         "y": [
          92.10340371976183,
          92.10340371976183,
          92.10340371976183,
          92.10340371976183,
          92.10340371976183,
          83.40474892400654,
          83.40474892400654
         ],
         "yaxis": "y4"
        },
        {
         "mode": "lines+markers",
         "showlegend": true,
         "type": "scatter",
         "x": [
          2,
          3,
          4,
          5,
          7,
          8,
          10
         ],
         "xaxis": "x4",
         "y": [
          92.10340371976183,
          92.10340371976183,
          92.10340371976183,
          92.10340371976183,
          83.40474892400654,
          83.40474892400654,
          83.40474892400654
         ],
         "yaxis": "y4"
        },
        {
         "mode": "lines+markers",
         "showlegend": true,
         "type": "scatter",
         "x": [
          2,
          3,
          4,
          5,
          7,
          8,
          10
         ],
         "xaxis": "x4",
         "y": [
          92.10340371976183,
          92.10340371976183,
          92.10340371976183,
          92.10340371976183,
          83.40474892400654,
          92.10340371976183,
          92.10340371976183
         ],
         "yaxis": "y4"
        },
        {
         "mode": "lines+markers",
         "showlegend": true,
         "type": "scatter",
         "x": [
          2,
          3,
          4,
          5,
          7,
          8,
          10
         ],
         "xaxis": "x4",
         "y": [
          92.10340371976183,
          92.10340371976183,
          83.40474892400654,
          83.40474892400654,
          92.10340371976183,
          92.10340371976183,
          92.10340371976183
         ],
         "yaxis": "y4"
        },
        {
         "mode": "lines+markers",
         "showlegend": true,
         "type": "scatter",
         "x": [],
         "xaxis": "x4",
         "y": [],
         "yaxis": "y4"
        },
        {
         "mode": "lines+markers",
         "showlegend": true,
         "type": "scatter",
         "x": [],
         "xaxis": "x4",
         "y": [],
         "yaxis": "y4"
        },
        {
         "mode": "lines+markers",
         "showlegend": true,
         "type": "scatter",
         "x": [],
         "xaxis": "x4",
         "y": [],
         "yaxis": "y4"
        },
        {
         "mode": "lines+markers",
         "showlegend": true,
         "type": "scatter",
         "x": [],
         "xaxis": "x4",
         "y": [],
         "yaxis": "y4"
        },
        {
         "mode": "lines+markers",
         "showlegend": true,
         "type": "scatter",
         "x": [
          2,
          3,
          4,
          5,
          7,
          8,
          10
         ],
         "xaxis": "x5",
         "y": [
          83.40474892400654,
          83.40474892400654,
          83.40474892400654,
          83.40474892400654,
          83.40474892400654,
          83.40474892400654,
          83.40474892400654
         ],
         "yaxis": "y5"
        },
        {
         "mode": "lines+markers",
         "showlegend": true,
         "type": "scatter",
         "x": [
          2,
          3,
          4,
          5,
          7,
          8,
          10
         ],
         "xaxis": "x5",
         "y": [
          83.40474892400654,
          83.40474892400654,
          83.40474892400654,
          83.40474892400654,
          83.40474892400654,
          83.40474892400654,
          83.40474892400654
         ],
         "yaxis": "y5"
        },
        {
         "mode": "lines+markers",
         "showlegend": true,
         "type": "scatter",
         "x": [
          2,
          3,
          4,
          5,
          7,
          8,
          10
         ],
         "xaxis": "x5",
         "y": [
          83.40474892400654,
          83.40474892400654,
          83.40474892400654,
          83.40474892400654,
          83.40474892400654,
          83.40474892400654,
          83.40474892400654
         ],
         "yaxis": "y5"
        },
        {
         "mode": "lines+markers",
         "showlegend": true,
         "type": "scatter",
         "x": [
          2,
          3,
          4,
          5,
          7,
          8,
          10
         ],
         "xaxis": "x5",
         "y": [
          83.40474892400654,
          83.40474892400654,
          83.40474892400654,
          83.40474892400654,
          83.40474892400654,
          83.40474892400654,
          83.40474892400654
         ],
         "yaxis": "y5"
        },
        {
         "mode": "lines+markers",
         "showlegend": true,
         "type": "scatter",
         "x": [
          2,
          3,
          4,
          5,
          7,
          8,
          10
         ],
         "xaxis": "x5",
         "y": [
          83.40474892400654,
          83.40474892400654,
          83.40474892400654,
          83.40474892400654,
          83.40474892400654,
          83.40474892400654,
          83.40474892400654
         ],
         "yaxis": "y5"
        },
        {
         "mode": "lines+markers",
         "showlegend": true,
         "type": "scatter",
         "x": [
          2,
          3,
          4,
          5,
          7,
          8,
          10
         ],
         "xaxis": "x5",
         "y": [
          83.40474892400654,
          83.40474892400654,
          83.40474892400654,
          83.40474892400654,
          92.10340371976183,
          92.10340371976183,
          74.70609412825125
         ],
         "yaxis": "y5"
        },
        {
         "mode": "lines+markers",
         "showlegend": true,
         "type": "scatter",
         "x": [
          2,
          3,
          4,
          5,
          7,
          8,
          10
         ],
         "xaxis": "x5",
         "y": [
          83.40474892400654,
          83.40474892400654,
          83.40474892400654,
          83.40474892400654,
          92.10340371976183,
          92.10340371976183,
          74.70609412825125
         ],
         "yaxis": "y5"
        },
        {
         "mode": "lines+markers",
         "showlegend": true,
         "type": "scatter",
         "x": [
          2,
          3,
          4,
          5,
          7,
          8,
          10
         ],
         "xaxis": "x5",
         "y": [
          83.40474892400654,
          83.40474892400654,
          92.10340371976183,
          92.10340371976183,
          92.10340371976183,
          74.70609412825125,
          74.70609412825125
         ],
         "yaxis": "y5"
        },
        {
         "mode": "lines+markers",
         "showlegend": true,
         "type": "scatter",
         "x": [
          2,
          3,
          4,
          5,
          7,
          8,
          10
         ],
         "xaxis": "x5",
         "y": [
          83.40474892400654,
          92.10340371976183,
          92.10340371976183,
          92.10340371976183,
          74.70609412825125,
          92.10340371976183,
          92.10340371976183
         ],
         "yaxis": "y5"
        },
        {
         "mode": "lines+markers",
         "showlegend": true,
         "type": "scatter",
         "x": [],
         "xaxis": "x5",
         "y": [],
         "yaxis": "y5"
        },
        {
         "mode": "lines+markers",
         "showlegend": true,
         "type": "scatter",
         "x": [],
         "xaxis": "x5",
         "y": [],
         "yaxis": "y5"
        },
        {
         "mode": "lines+markers",
         "showlegend": true,
         "type": "scatter",
         "x": [],
         "xaxis": "x5",
         "y": [],
         "yaxis": "y5"
        },
        {
         "mode": "lines+markers",
         "showlegend": true,
         "type": "scatter",
         "x": [],
         "xaxis": "x5",
         "y": [],
         "yaxis": "y5"
        },
        {
         "mode": "lines+markers",
         "showlegend": true,
         "type": "scatter",
         "x": [],
         "xaxis": "x6",
         "y": [],
         "yaxis": "y6"
        },
        {
         "mode": "lines+markers",
         "showlegend": true,
         "type": "scatter",
         "x": [],
         "xaxis": "x6",
         "y": [],
         "yaxis": "y6"
        },
        {
         "mode": "lines+markers",
         "showlegend": true,
         "type": "scatter",
         "x": [],
         "xaxis": "x6",
         "y": [],
         "yaxis": "y6"
        },
        {
         "mode": "lines+markers",
         "showlegend": true,
         "type": "scatter",
         "x": [],
         "xaxis": "x6",
         "y": [],
         "yaxis": "y6"
        },
        {
         "mode": "lines+markers",
         "showlegend": true,
         "type": "scatter",
         "x": [],
         "xaxis": "x6",
         "y": [],
         "yaxis": "y6"
        },
        {
         "mode": "lines+markers",
         "showlegend": true,
         "type": "scatter",
         "x": [],
         "xaxis": "x6",
         "y": [],
         "yaxis": "y6"
        },
        {
         "mode": "lines+markers",
         "showlegend": true,
         "type": "scatter",
         "x": [],
         "xaxis": "x6",
         "y": [],
         "yaxis": "y6"
        },
        {
         "mode": "lines+markers",
         "showlegend": true,
         "type": "scatter",
         "x": [],
         "xaxis": "x6",
         "y": [],
         "yaxis": "y6"
        },
        {
         "mode": "lines+markers",
         "showlegend": true,
         "type": "scatter",
         "x": [],
         "xaxis": "x6",
         "y": [],
         "yaxis": "y6"
        },
        {
         "mode": "lines+markers",
         "showlegend": true,
         "type": "scatter",
         "x": [
          1,
          2,
          3,
          4,
          5
         ],
         "xaxis": "x6",
         "y": [
          22.51416535368796,
          22.51416535368796,
          22.51416535368796,
          22.51416535368796,
          22.51416535368796
         ],
         "yaxis": "y6"
        },
        {
         "mode": "lines+markers",
         "showlegend": true,
         "type": "scatter",
         "x": [
          1,
          2,
          3,
          4,
          5
         ],
         "xaxis": "x6",
         "y": [
          31.212820149474833,
          31.212820149474833,
          31.212820149474833,
          48.61012974098541,
          83.40474892400654
         ],
         "yaxis": "y6"
        },
        {
         "mode": "lines+markers",
         "showlegend": true,
         "type": "scatter",
         "x": [
          1,
          2,
          3,
          4,
          5
         ],
         "xaxis": "x6",
         "y": [
          31.212820149474833,
          83.40474892400654,
          83.40474892400654,
          83.40474892400654,
          83.40474892400654
         ],
         "yaxis": "y6"
        },
        {
         "mode": "lines+markers",
         "showlegend": true,
         "type": "scatter",
         "x": [
          1,
          2,
          3,
          4,
          5
         ],
         "xaxis": "x6",
         "y": [
          92.10340371976183,
          83.40474892400654,
          83.40474892400654,
          92.10340371976183,
          92.10340371976183
         ],
         "yaxis": "y6"
        }
       ],
       "layout": {
        "annotations": [
         {
          "font": {
           "size": 16
          },
          "showarrow": false,
          "text": "10.0",
          "x": 0.225,
          "xanchor": "center",
          "xref": "paper",
          "y": 1,
          "yanchor": "bottom",
          "yref": "paper"
         },
         {
          "font": {
           "size": 16
          },
          "showarrow": false,
          "text": "56.0",
          "x": 0.775,
          "xanchor": "center",
          "xref": "paper",
          "y": 1,
          "yanchor": "bottom",
          "yref": "paper"
         },
         {
          "font": {
           "size": 16
          },
          "showarrow": false,
          "text": "316.0",
          "x": 0.225,
          "xanchor": "center",
          "xref": "paper",
          "y": 0.7250000000000001,
          "yanchor": "bottom",
          "yref": "paper"
         },
         {
          "font": {
           "size": 16
          },
          "showarrow": false,
          "text": "1778.0",
          "x": 0.775,
          "xanchor": "center",
          "xref": "paper",
          "y": 0.7250000000000001,
          "yanchor": "bottom",
          "yref": "paper"
         },
         {
          "font": {
           "size": 16
          },
          "showarrow": false,
          "text": "10000.0",
          "x": 0.225,
          "xanchor": "center",
          "xref": "paper",
          "y": 0.45,
          "yanchor": "bottom",
          "yref": "paper"
         },
         {
          "font": {
           "size": 16
          },
          "showarrow": false,
          "text": "20.0",
          "x": 0.775,
          "xanchor": "center",
          "xref": "paper",
          "y": 0.45,
          "yanchor": "bottom",
          "yref": "paper"
         }
        ],
        "height": 750,
        "margin": {
         "b": 50,
         "l": 50,
         "r": 50,
         "t": 50
        },
        "template": {
         "data": {
          "bar": [
           {
            "error_x": {
             "color": "#2a3f5f"
            },
            "error_y": {
             "color": "#2a3f5f"
            },
            "marker": {
             "line": {
              "color": "#E5ECF6",
              "width": 0.5
             },
             "pattern": {
              "fillmode": "overlay",
              "size": 10,
              "solidity": 0.2
             }
            },
            "type": "bar"
           }
          ],
          "barpolar": [
           {
            "marker": {
             "line": {
              "color": "#E5ECF6",
              "width": 0.5
             },
             "pattern": {
              "fillmode": "overlay",
              "size": 10,
              "solidity": 0.2
             }
            },
            "type": "barpolar"
           }
          ],
          "carpet": [
           {
            "aaxis": {
             "endlinecolor": "#2a3f5f",
             "gridcolor": "white",
             "linecolor": "white",
             "minorgridcolor": "white",
             "startlinecolor": "#2a3f5f"
            },
            "baxis": {
             "endlinecolor": "#2a3f5f",
             "gridcolor": "white",
             "linecolor": "white",
             "minorgridcolor": "white",
             "startlinecolor": "#2a3f5f"
            },
            "type": "carpet"
           }
          ],
          "choropleth": [
           {
            "colorbar": {
             "outlinewidth": 0,
             "ticks": ""
            },
            "type": "choropleth"
           }
          ],
          "contour": [
           {
            "colorbar": {
             "outlinewidth": 0,
             "ticks": ""
            },
            "colorscale": [
             [
              0,
              "#0d0887"
             ],
             [
              0.1111111111111111,
              "#46039f"
             ],
             [
              0.2222222222222222,
              "#7201a8"
             ],
             [
              0.3333333333333333,
              "#9c179e"
             ],
             [
              0.4444444444444444,
              "#bd3786"
             ],
             [
              0.5555555555555556,
              "#d8576b"
             ],
             [
              0.6666666666666666,
              "#ed7953"
             ],
             [
              0.7777777777777778,
              "#fb9f3a"
             ],
             [
              0.8888888888888888,
              "#fdca26"
             ],
             [
              1,
              "#f0f921"
             ]
            ],
            "type": "contour"
           }
          ],
          "contourcarpet": [
           {
            "colorbar": {
             "outlinewidth": 0,
             "ticks": ""
            },
            "type": "contourcarpet"
           }
          ],
          "heatmap": [
           {
            "colorbar": {
             "outlinewidth": 0,
             "ticks": ""
            },
            "colorscale": [
             [
              0,
              "#0d0887"
             ],
             [
              0.1111111111111111,
              "#46039f"
             ],
             [
              0.2222222222222222,
              "#7201a8"
             ],
             [
              0.3333333333333333,
              "#9c179e"
             ],
             [
              0.4444444444444444,
              "#bd3786"
             ],
             [
              0.5555555555555556,
              "#d8576b"
             ],
             [
              0.6666666666666666,
              "#ed7953"
             ],
             [
              0.7777777777777778,
              "#fb9f3a"
             ],
             [
              0.8888888888888888,
              "#fdca26"
             ],
             [
              1,
              "#f0f921"
             ]
            ],
            "type": "heatmap"
           }
          ],
          "heatmapgl": [
           {
            "colorbar": {
             "outlinewidth": 0,
             "ticks": ""
            },
            "colorscale": [
             [
              0,
              "#0d0887"
             ],
             [
              0.1111111111111111,
              "#46039f"
             ],
             [
              0.2222222222222222,
              "#7201a8"
             ],
             [
              0.3333333333333333,
              "#9c179e"
             ],
             [
              0.4444444444444444,
              "#bd3786"
             ],
             [
              0.5555555555555556,
              "#d8576b"
             ],
             [
              0.6666666666666666,
              "#ed7953"
             ],
             [
              0.7777777777777778,
              "#fb9f3a"
             ],
             [
              0.8888888888888888,
              "#fdca26"
             ],
             [
              1,
              "#f0f921"
             ]
            ],
            "type": "heatmapgl"
           }
          ],
          "histogram": [
           {
            "marker": {
             "pattern": {
              "fillmode": "overlay",
              "size": 10,
              "solidity": 0.2
             }
            },
            "type": "histogram"
           }
          ],
          "histogram2d": [
           {
            "colorbar": {
             "outlinewidth": 0,
             "ticks": ""
            },
            "colorscale": [
             [
              0,
              "#0d0887"
             ],
             [
              0.1111111111111111,
              "#46039f"
             ],
             [
              0.2222222222222222,
              "#7201a8"
             ],
             [
              0.3333333333333333,
              "#9c179e"
             ],
             [
              0.4444444444444444,
              "#bd3786"
             ],
             [
              0.5555555555555556,
              "#d8576b"
             ],
             [
              0.6666666666666666,
              "#ed7953"
             ],
             [
              0.7777777777777778,
              "#fb9f3a"
             ],
             [
              0.8888888888888888,
              "#fdca26"
             ],
             [
              1,
              "#f0f921"
             ]
            ],
            "type": "histogram2d"
           }
          ],
          "histogram2dcontour": [
           {
            "colorbar": {
             "outlinewidth": 0,
             "ticks": ""
            },
            "colorscale": [
             [
              0,
              "#0d0887"
             ],
             [
              0.1111111111111111,
              "#46039f"
             ],
             [
              0.2222222222222222,
              "#7201a8"
             ],
             [
              0.3333333333333333,
              "#9c179e"
             ],
             [
              0.4444444444444444,
              "#bd3786"
             ],
             [
              0.5555555555555556,
              "#d8576b"
             ],
             [
              0.6666666666666666,
              "#ed7953"
             ],
             [
              0.7777777777777778,
              "#fb9f3a"
             ],
             [
              0.8888888888888888,
              "#fdca26"
             ],
             [
              1,
              "#f0f921"
             ]
            ],
            "type": "histogram2dcontour"
           }
          ],
          "mesh3d": [
           {
            "colorbar": {
             "outlinewidth": 0,
             "ticks": ""
            },
            "type": "mesh3d"
           }
          ],
          "parcoords": [
           {
            "line": {
             "colorbar": {
              "outlinewidth": 0,
              "ticks": ""
             }
            },
            "type": "parcoords"
           }
          ],
          "pie": [
           {
            "automargin": true,
            "type": "pie"
           }
          ],
          "scatter": [
           {
            "fillpattern": {
             "fillmode": "overlay",
             "size": 10,
             "solidity": 0.2
            },
            "type": "scatter"
           }
          ],
          "scatter3d": [
           {
            "line": {
             "colorbar": {
              "outlinewidth": 0,
              "ticks": ""
             }
            },
            "marker": {
             "colorbar": {
              "outlinewidth": 0,
              "ticks": ""
             }
            },
            "type": "scatter3d"
           }
          ],
          "scattercarpet": [
           {
            "marker": {
             "colorbar": {
              "outlinewidth": 0,
              "ticks": ""
             }
            },
            "type": "scattercarpet"
           }
          ],
          "scattergeo": [
           {
            "marker": {
             "colorbar": {
              "outlinewidth": 0,
              "ticks": ""
             }
            },
            "type": "scattergeo"
           }
          ],
          "scattergl": [
           {
            "marker": {
             "colorbar": {
              "outlinewidth": 0,
              "ticks": ""
             }
            },
            "type": "scattergl"
           }
          ],
          "scattermapbox": [
           {
            "marker": {
             "colorbar": {
              "outlinewidth": 0,
              "ticks": ""
             }
            },
            "type": "scattermapbox"
           }
          ],
          "scatterpolar": [
           {
            "marker": {
             "colorbar": {
              "outlinewidth": 0,
              "ticks": ""
             }
            },
            "type": "scatterpolar"
           }
          ],
          "scatterpolargl": [
           {
            "marker": {
             "colorbar": {
              "outlinewidth": 0,
              "ticks": ""
             }
            },
            "type": "scatterpolargl"
           }
          ],
          "scatterternary": [
           {
            "marker": {
             "colorbar": {
              "outlinewidth": 0,
              "ticks": ""
             }
            },
            "type": "scatterternary"
           }
          ],
          "surface": [
           {
            "colorbar": {
             "outlinewidth": 0,
             "ticks": ""
            },
            "colorscale": [
             [
              0,
              "#0d0887"
             ],
             [
              0.1111111111111111,
              "#46039f"
             ],
             [
              0.2222222222222222,
              "#7201a8"
             ],
             [
              0.3333333333333333,
              "#9c179e"
             ],
             [
              0.4444444444444444,
              "#bd3786"
             ],
             [
              0.5555555555555556,
              "#d8576b"
             ],
             [
              0.6666666666666666,
              "#ed7953"
             ],
             [
              0.7777777777777778,
              "#fb9f3a"
             ],
             [
              0.8888888888888888,
              "#fdca26"
             ],
             [
              1,
              "#f0f921"
             ]
            ],
            "type": "surface"
           }
          ],
          "table": [
           {
            "cells": {
             "fill": {
              "color": "#EBF0F8"
             },
             "line": {
              "color": "white"
             }
            },
            "header": {
             "fill": {
              "color": "#C8D4E3"
             },
             "line": {
              "color": "white"
             }
            },
            "type": "table"
           }
          ]
         },
         "layout": {
          "annotationdefaults": {
           "arrowcolor": "#2a3f5f",
           "arrowhead": 0,
           "arrowwidth": 1
          },
          "autotypenumbers": "strict",
          "coloraxis": {
           "colorbar": {
            "outlinewidth": 0,
            "ticks": ""
           }
          },
          "colorscale": {
           "diverging": [
            [
             0,
             "#8e0152"
            ],
            [
             0.1,
             "#c51b7d"
            ],
            [
             0.2,
             "#de77ae"
            ],
            [
             0.3,
             "#f1b6da"
            ],
            [
             0.4,
             "#fde0ef"
            ],
            [
             0.5,
             "#f7f7f7"
            ],
            [
             0.6,
             "#e6f5d0"
            ],
            [
             0.7,
             "#b8e186"
            ],
            [
             0.8,
             "#7fbc41"
            ],
            [
             0.9,
             "#4d9221"
            ],
            [
             1,
             "#276419"
            ]
           ],
           "sequential": [
            [
             0,
             "#0d0887"
            ],
            [
             0.1111111111111111,
             "#46039f"
            ],
            [
             0.2222222222222222,
             "#7201a8"
            ],
            [
             0.3333333333333333,
             "#9c179e"
            ],
            [
             0.4444444444444444,
             "#bd3786"
            ],
            [
             0.5555555555555556,
             "#d8576b"
            ],
            [
             0.6666666666666666,
             "#ed7953"
            ],
            [
             0.7777777777777778,
             "#fb9f3a"
            ],
            [
             0.8888888888888888,
             "#fdca26"
            ],
            [
             1,
             "#f0f921"
            ]
           ],
           "sequentialminus": [
            [
             0,
             "#0d0887"
            ],
            [
             0.1111111111111111,
             "#46039f"
            ],
            [
             0.2222222222222222,
             "#7201a8"
            ],
            [
             0.3333333333333333,
             "#9c179e"
            ],
            [
             0.4444444444444444,
             "#bd3786"
            ],
            [
             0.5555555555555556,
             "#d8576b"
            ],
            [
             0.6666666666666666,
             "#ed7953"
            ],
            [
             0.7777777777777778,
             "#fb9f3a"
            ],
            [
             0.8888888888888888,
             "#fdca26"
            ],
            [
             1,
             "#f0f921"
            ]
           ]
          },
          "colorway": [
           "#636efa",
           "#EF553B",
           "#00cc96",
           "#ab63fa",
           "#FFA15A",
           "#19d3f3",
           "#FF6692",
           "#B6E880",
           "#FF97FF",
           "#FECB52"
          ],
          "font": {
           "color": "#2a3f5f"
          },
          "geo": {
           "bgcolor": "white",
           "lakecolor": "white",
           "landcolor": "#E5ECF6",
           "showlakes": true,
           "showland": true,
           "subunitcolor": "white"
          },
          "hoverlabel": {
           "align": "left"
          },
          "hovermode": "closest",
          "mapbox": {
           "style": "light"
          },
          "paper_bgcolor": "white",
          "plot_bgcolor": "#E5ECF6",
          "polar": {
           "angularaxis": {
            "gridcolor": "white",
            "linecolor": "white",
            "ticks": ""
           },
           "bgcolor": "#E5ECF6",
           "radialaxis": {
            "gridcolor": "white",
            "linecolor": "white",
            "ticks": ""
           }
          },
          "scene": {
           "xaxis": {
            "backgroundcolor": "#E5ECF6",
            "gridcolor": "white",
            "gridwidth": 2,
            "linecolor": "white",
            "showbackground": true,
            "ticks": "",
            "zerolinecolor": "white"
           },
           "yaxis": {
            "backgroundcolor": "#E5ECF6",
            "gridcolor": "white",
            "gridwidth": 2,
            "linecolor": "white",
            "showbackground": true,
            "ticks": "",
            "zerolinecolor": "white"
           },
           "zaxis": {
            "backgroundcolor": "#E5ECF6",
            "gridcolor": "white",
            "gridwidth": 2,
            "linecolor": "white",
            "showbackground": true,
            "ticks": "",
            "zerolinecolor": "white"
           }
          },
          "shapedefaults": {
           "line": {
            "color": "#2a3f5f"
           }
          },
          "ternary": {
           "aaxis": {
            "gridcolor": "white",
            "linecolor": "white",
            "ticks": ""
           },
           "baxis": {
            "gridcolor": "white",
            "linecolor": "white",
            "ticks": ""
           },
           "bgcolor": "#E5ECF6",
           "caxis": {
            "gridcolor": "white",
            "linecolor": "white",
            "ticks": ""
           }
          },
          "title": {
           "x": 0.05
          },
          "xaxis": {
           "automargin": true,
           "gridcolor": "white",
           "linecolor": "white",
           "ticks": "",
           "title": {
            "standoff": 15
           },
           "zerolinecolor": "white",
           "zerolinewidth": 2
          },
          "yaxis": {
           "automargin": true,
           "gridcolor": "white",
           "linecolor": "white",
           "ticks": "",
           "title": {
            "standoff": 15
           },
           "zerolinecolor": "white",
           "zerolinewidth": 2
          }
         }
        },
        "title": {
         "text": "log(m) for Non-Vacuous Bound by Degree, Width"
        },
        "width": 1200,
        "xaxis": {
         "anchor": "y",
         "domain": [
          0,
          0.45
         ],
         "title": {
          "text": "Degree"
         }
        },
        "xaxis2": {
         "anchor": "y2",
         "domain": [
          0.55,
          1
         ],
         "title": {
          "text": "Degree"
         }
        },
        "xaxis3": {
         "anchor": "y3",
         "domain": [
          0,
          0.45
         ],
         "title": {
          "text": "Degree"
         }
        },
        "xaxis4": {
         "anchor": "y4",
         "domain": [
          0.55,
          1
         ],
         "title": {
          "text": "Degree"
         }
        },
        "xaxis5": {
         "anchor": "y5",
         "domain": [
          0,
          0.45
         ],
         "title": {
          "text": "Degree"
         }
        },
        "xaxis6": {
         "anchor": "y6",
         "domain": [
          0.55,
          1
         ],
         "title": {
          "text": "Degree"
         }
        },
        "xaxis7": {
         "anchor": "y7",
         "domain": [
          0,
          0.45
         ]
        },
        "xaxis8": {
         "anchor": "y8",
         "domain": [
          0.55,
          1
         ]
        },
        "yaxis": {
         "anchor": "x",
         "domain": [
          0.825,
          1
         ],
         "title": {
          "text": "Generalzation Gap"
         }
        },
        "yaxis2": {
         "anchor": "x2",
         "domain": [
          0.825,
          1
         ],
         "title": {
          "text": "Generalzation Gap"
         }
        },
        "yaxis3": {
         "anchor": "x3",
         "domain": [
          0.55,
          0.7250000000000001
         ],
         "title": {
          "text": "Generalzation Gap"
         }
        },
        "yaxis4": {
         "anchor": "x4",
         "domain": [
          0.55,
          0.7250000000000001
         ],
         "title": {
          "text": "Generalzation Gap"
         }
        },
        "yaxis5": {
         "anchor": "x5",
         "domain": [
          0.275,
          0.45
         ],
         "title": {
          "text": "Generalzation Gap"
         }
        },
        "yaxis6": {
         "anchor": "x6",
         "domain": [
          0.275,
          0.45
         ],
         "title": {
          "text": "Generalzation Gap"
         }
        },
        "yaxis7": {
         "anchor": "x7",
         "domain": [
          0,
          0.175
         ]
        },
        "yaxis8": {
         "anchor": "x8",
         "domain": [
          0,
          0.175
         ]
        }
       }
      }
     },
     "metadata": {},
     "output_type": "display_data"
    }
   ],
   "source": [
    "import plotly.express as px\n",
    "import plotly.graph_objects as go\n",
    "from plotly.subplots import make_subplots\n",
    "unique_widths_all = non_vacuous[\"omega\"].unique()\n",
    "non_vacuous['logm'] = np.log(non_vacuous['m_min'].astype(float))\n",
    "non_vacuous\n",
    "\n",
    "fig = make_subplots(\n",
    "    rows=num_rows, cols=2,\n",
    "    specs=[\n",
    "        [{\"type\": \"xy\"}]*2\n",
    "    ]*num_rows,\n",
    "    horizontal_spacing=0.10,\n",
    "    vertical_spacing=0.10,\n",
    "    subplot_titles=(unique_T_all)\n",
    ")\n",
    "for l, T in enumerate(unique_T_all):\n",
    "    row = l//2+1\n",
    "    col = l%2+1\n",
    "    print(\"index: \" + str(l) + \", row: \"  + str(row) + \", col: \" + str(col) + \", T: \" + str(T))\n",
    "    # Plot theo_gen_gap for each width\n",
    "    for k, width in enumerate(unique_widths_all):\n",
    "        #print(\"width: \" + str(width))\n",
    "        #print(\"non_vacuous: \" + str(non_vacuous))\n",
    "        subset = non_vacuous[non_vacuous[\"omega\"] == width  ]\n",
    "        #subset = sigma_data[(sigma_data[\"omega\"] == width) &(sigma_data[\"m\"]==max_m) ]\n",
    "        \n",
    "        #print(\"subset1: \" + str(subset))\n",
    "        subset = subset[subset[\"T\"]==T]\n",
    "        #print(\"subset: \" + (str(subset)))\n",
    "        fig.add_trace(\n",
    "            #go.Scatter(x=subset[\"deg\"], y=subset[\"theo_gen_gap\"], mode='lines+markers', line=dict(color=colors[k]), showlegend=False),\n",
    "            go.Scatter(x=subset[\"D_f\"], y=subset[\"logm\"], mode='lines+markers', showlegend=True),\n",
    "            row=row, col=col            \n",
    "        )\n",
    "    \n",
    "    fig.update_layout(\n",
    "        title=\"log(m) for Non-Vacuous Bound by Degree, Width\",\n",
    "        height=750,\n",
    "        width=1200,\n",
    "        margin=dict(t=50, b=50, l=50, r=50)\n",
    "    )\n",
    "    \n",
    "    fig.update_xaxes(title_text=\"Degree\", row=row, col=col)\n",
    "    fig.update_yaxes(title_text=\"Generalzation Gap\", row=row, col=col)\n",
    "\n",
    "fig.show()"
   ]
  },
  {
   "cell_type": "code",
   "execution_count": 11,
   "metadata": {},
   "outputs": [
    {
     "name": "stdout",
     "output_type": "stream",
     "text": [
      "         T  D_f  omega                                          m     d  \\\n",
      "4649  20.0  2.0    1.0  10000000000000000303786028427003666890752  20.0   \n",
      "4659  20.0  2.0    7.0  10000000000000000303786028427003666890752  20.0   \n",
      "4699  20.0  3.0    7.0  10000000000000000303786028427003666890752  20.0   \n",
      "4709  20.0  3.0   14.0  10000000000000000303786028427003666890752  20.0   \n",
      "\n",
      "      delta  Sigma         sigma     bound  \n",
      "4649    0.2   0.01  6.770935e-07  0.000524  \n",
      "4659    0.2   0.01  2.864343e-08  0.002243  \n",
      "4699    0.2   0.01  1.960676e-08  0.005321  \n",
      "4709    0.2   0.01  1.220669e-08  0.032998  \n",
      "sigma shape: (20,)\n",
      "D_f mesh shape: (4, 5), omega mesh shape: (4, 5)\n"
     ]
    },
    {
     "data": {
      "image/png": "[encoded data removed]",
      "text/plain": [
       "<Figure size 640x480 with 1 Axes>"
      ]
     },
     "metadata": {},
     "output_type": "display_data"
    }
   ],
   "source": [
    "import pandas as pd\n",
    "import matplotlib.pyplot as plt\n",
    "import numpy as np\n",
    "import seaborn as sns\n",
    "from mpl_toolkits.mplot3d import Axes3D\n",
    "\n",
    "T_fixed = 20\n",
    "df = sigma_data[sigma_data[\"m\"]==max_m]\n",
    "#df = df[df[\"D_f\"]<=5]\n",
    "\n",
    "#df = non_vacuous\n",
    "# Filter the DataFrame for the fixed T\n",
    "df_fixed = df[df['T'] == T_fixed]\n",
    "#print(\"df_fixed shape: \" + ))\n",
    "# Extract D_f, omega, and sigma values for the plot\n",
    "print(df_fixed[((df_fixed['D_f']==2)&(df_fixed['omega']==1))|\n",
    "      ((df_fixed['D_f']==2)&(df_fixed['omega']==7)) |\n",
    "      ((df_fixed['D_f']==3)&(df_fixed['omega']==7))  |\n",
    "      ((df_fixed['D_f']==3)&(df_fixed['omega']==14))])\n",
    "\n",
    "D_f = df_fixed['D_f']\n",
    "omega = df_fixed['omega']\n",
    "sigma = df_fixed['sigma']\n",
    "print(\"sigma shape: \" + str(sigma.shape))\n",
    "# Create a 3D plot\n",
    "fig = plt.figure()\n",
    "ax = fig.add_subplot(111, projection='3d')\n",
    "\n",
    "# Create a meshgrid for the surface plot\n",
    "D_f_mesh, omega_mesh = np.meshgrid(np.unique(D_f), np.unique(omega))\n",
    "print(\"D_f mesh shape: \" + str(D_f_mesh.shape)+\", omega mesh shape: \" + str(omega_mesh.shape))\n",
    "# Plot the surface\n",
    "ax.plot_surface(D_f_mesh, omega_mesh, np.reshape(np.log10(sigma), (D_f_mesh.shape)), cmap='viridis')\n",
    "\n",
    "# Set labels and title\n",
    "ax.set_xlabel('$D_f$')\n",
    "ax.set_ylabel('$\\omega$')\n",
    "ax.set_zlabel('$log(\\sigma)$')\n",
    "ax.set_title(f'Optimal $\\sigma$ over $D_f$ and $\\omega$ (T = {T_fixed})')\n",
    "ax.view_init(elev=10, azim=130, roll=0)\n",
    "\n",
    "# Display the plot\n",
    "\n",
    "plt.savefig(\"surface_plot.png\")\n"
   ]
  },
  {
   "cell_type": "code",
   "execution_count": 12,
   "metadata": {},
   "outputs": [
    {
     "name": "stderr",
     "output_type": "stream",
     "text": [
      "/var/folders/4c/b9h5j0n54y3d2236vqx5sqv40000gn/T/ipykernel_93520/3956606771.py:1: SettingWithCopyWarning:\n",
      "\n",
      "\n",
      "A value is trying to be set on a copy of a slice from a DataFrame.\n",
      "Try using .loc[row_indexer,col_indexer] = value instead\n",
      "\n",
      "See the caveats in the documentation: https://pandas.pydata.org/pandas-docs/stable/user_guide/indexing.html#returning-a-view-versus-a-copy\n",
      "\n"
     ]
    },
    {
     "data": {
      "image/png": "[encoded data removed]",
      "text/plain": [
       "<Figure size 800x600 with 2 Axes>"
      ]
     },
     "metadata": {},
     "output_type": "display_data"
    }
   ],
   "source": [
    "df_fixed[\"log_sigma\"] = np.log10(df_fixed[\"sigma\"])\n",
    "# assume your DataFrame is called df, with columns [\"omega\",\"D_f\",\"sigma\",…]\n",
    "pivot = df_fixed.pivot(index=\"omega\", columns=\"D_f\", values=\"log_sigma\")\n",
    "\n",
    "plt.figure(figsize=(8,6))\n",
    "sns.heatmap(\n",
    "    pivot,\n",
    "    annot=True,        # show the numbers in each cell\n",
    "    fmt=\".2f\",         # format for the numbers\n",
    "    cmap=\"viridis\",    # or any other seaborn/matplotlib colormap\n",
    "    cbar_kws={\"label\":\"optimal σ\"}\n",
    ")\n",
    "plt.title(\"Optimal σ for each (ω, D_f)\")\n",
    "plt.xlabel(\"D_f\")\n",
    "plt.ylabel(\"ω\")\n",
    "plt.tight_layout()\n",
    "plt.show()"
   ]
  },
  {
   "cell_type": "code",
   "execution_count": null,
   "metadata": {},
   "outputs": [],
   "source": []
  },
  {
   "cell_type": "code",
   "execution_count": null,
   "metadata": {},
   "outputs": [],
   "source": []
  },
  {
   "cell_type": "code",
   "execution_count": 13,
   "metadata": {},
   "outputs": [
    {
     "data": {
      "text/plain": [
       "array([ 1,  7, 14, 20])"
      ]
     },
     "execution_count": 13,
     "metadata": {},
     "output_type": "execute_result"
    }
   ],
   "source": [
    "filtered_data[\"width\"].unique()"
   ]
  },
  {
   "cell_type": "code",
   "execution_count": 469,
   "metadata": {},
   "outputs": [
    {
     "data": {
      "text/html": [
       "<div>\n",
       "<style scoped>\n",
       "    .dataframe tbody tr th:only-of-type {\n",
       "        vertical-align: middle;\n",
       "    }\n",
       "\n",
       "    .dataframe tbody tr th {\n",
       "        vertical-align: top;\n",
       "    }\n",
       "\n",
       "    .dataframe thead th {\n",
       "        text-align: right;\n",
       "    }\n",
       "</style>\n",
       "<table border=\"1\" class=\"dataframe\">\n",
       "  <thead>\n",
       "    <tr style=\"text-align: right;\">\n",
       "      <th></th>\n",
       "      <th>T</th>\n",
       "      <th>D_f</th>\n",
       "      <th>omega</th>\n",
       "      <th>d</th>\n",
       "      <th>delta</th>\n",
       "      <th>Sigma</th>\n",
       "      <th>sigma</th>\n",
       "      <th>bound</th>\n",
       "      <th>m_min</th>\n",
       "      <th>logm</th>\n",
       "    </tr>\n",
       "  </thead>\n",
       "  <tbody>\n",
       "    <tr>\n",
       "      <th>0</th>\n",
       "      <td>10.0</td>\n",
       "      <td>2.0</td>\n",
       "      <td>2.0</td>\n",
       "      <td>10.0</td>\n",
       "      <td>0.2</td>\n",
       "      <td>0.01</td>\n",
       "      <td>5.562629e-06</td>\n",
       "      <td>0.210977</td>\n",
       "      <td>5994842503</td>\n",
       "      <td>22.514165</td>\n",
       "    </tr>\n",
       "    <tr>\n",
       "      <th>9</th>\n",
       "      <td>10.0</td>\n",
       "      <td>2.0</td>\n",
       "      <td>3.0</td>\n",
       "      <td>10.0</td>\n",
       "      <td>0.2</td>\n",
       "      <td>0.01</td>\n",
       "      <td>5.562629e-06</td>\n",
       "      <td>0.616172</td>\n",
       "      <td>5994842503</td>\n",
       "      <td>22.514165</td>\n",
       "    </tr>\n",
       "    <tr>\n",
       "      <th>17</th>\n",
       "      <td>10.0</td>\n",
       "      <td>2.0</td>\n",
       "      <td>4.0</td>\n",
       "      <td>10.0</td>\n",
       "      <td>0.2</td>\n",
       "      <td>0.01</td>\n",
       "      <td>4.219902e-06</td>\n",
       "      <td>0.913316</td>\n",
       "      <td>278255940220711437037622788096000</td>\n",
       "      <td>74.706094</td>\n",
       "    </tr>\n",
       "    <tr>\n",
       "      <th>20</th>\n",
       "      <td>10.0</td>\n",
       "      <td>2.0</td>\n",
       "      <td>5.0</td>\n",
       "      <td>10.0</td>\n",
       "      <td>0.2</td>\n",
       "      <td>0.01</td>\n",
       "      <td>2.540161e-07</td>\n",
       "      <td>0.008077</td>\n",
       "      <td>10000000000000000303786028427003666890752</td>\n",
       "      <td>92.103404</td>\n",
       "    </tr>\n",
       "    <tr>\n",
       "      <th>21</th>\n",
       "      <td>10.0</td>\n",
       "      <td>2.0</td>\n",
       "      <td>7.0</td>\n",
       "      <td>10.0</td>\n",
       "      <td>0.2</td>\n",
       "      <td>0.01</td>\n",
       "      <td>1.171398e-06</td>\n",
       "      <td>0.659665</td>\n",
       "      <td>1668100537200055593339245812959412224</td>\n",
       "      <td>83.404749</td>\n",
       "    </tr>\n",
       "    <tr>\n",
       "      <th>...</th>\n",
       "      <td>...</td>\n",
       "      <td>...</td>\n",
       "      <td>...</td>\n",
       "      <td>...</td>\n",
       "      <td>...</td>\n",
       "      <td>...</td>\n",
       "      <td>...</td>\n",
       "      <td>...</td>\n",
       "      <td>...</td>\n",
       "      <td>...</td>\n",
       "    </tr>\n",
       "    <tr>\n",
       "      <th>370</th>\n",
       "      <td>20.0</td>\n",
       "      <td>4.0</td>\n",
       "      <td>20.0</td>\n",
       "      <td>20.0</td>\n",
       "      <td>0.2</td>\n",
       "      <td>0.01</td>\n",
       "      <td>1.000000e-20</td>\n",
       "      <td>0.083797</td>\n",
       "      <td>10000000000000000303786028427003666890752</td>\n",
       "      <td>92.103404</td>\n",
       "    </tr>\n",
       "    <tr>\n",
       "      <th>371</th>\n",
       "      <td>20.0</td>\n",
       "      <td>5.0</td>\n",
       "      <td>1.0</td>\n",
       "      <td>20.0</td>\n",
       "      <td>0.2</td>\n",
       "      <td>0.01</td>\n",
       "      <td>3.458272e-06</td>\n",
       "      <td>0.532977</td>\n",
       "      <td>7742636826811277720420352</td>\n",
       "      <td>57.308785</td>\n",
       "    </tr>\n",
       "    <tr>\n",
       "      <th>375</th>\n",
       "      <td>20.0</td>\n",
       "      <td>5.0</td>\n",
       "      <td>7.0</td>\n",
       "      <td>20.0</td>\n",
       "      <td>0.2</td>\n",
       "      <td>0.01</td>\n",
       "      <td>1.368671e-08</td>\n",
       "      <td>0.020007</td>\n",
       "      <td>10000000000000000303786028427003666890752</td>\n",
       "      <td>92.103404</td>\n",
       "    </tr>\n",
       "    <tr>\n",
       "      <th>376</th>\n",
       "      <td>20.0</td>\n",
       "      <td>5.0</td>\n",
       "      <td>14.0</td>\n",
       "      <td>20.0</td>\n",
       "      <td>0.2</td>\n",
       "      <td>0.01</td>\n",
       "      <td>1.000000e-20</td>\n",
       "      <td>0.086889</td>\n",
       "      <td>10000000000000000303786028427003666890752</td>\n",
       "      <td>92.103404</td>\n",
       "    </tr>\n",
       "    <tr>\n",
       "      <th>377</th>\n",
       "      <td>20.0</td>\n",
       "      <td>5.0</td>\n",
       "      <td>20.0</td>\n",
       "      <td>20.0</td>\n",
       "      <td>0.2</td>\n",
       "      <td>0.01</td>\n",
       "      <td>1.000000e-20</td>\n",
       "      <td>0.090731</td>\n",
       "      <td>10000000000000000303786028427003666890752</td>\n",
       "      <td>92.103404</td>\n",
       "    </tr>\n",
       "  </tbody>\n",
       "</table>\n",
       "<p>265 rows × 10 columns</p>\n",
       "</div>"
      ],
      "text/plain": [
       "        T  D_f  omega     d  delta  Sigma         sigma     bound  \\\n",
       "0    10.0  2.0    2.0  10.0    0.2   0.01  5.562629e-06  0.210977   \n",
       "9    10.0  2.0    3.0  10.0    0.2   0.01  5.562629e-06  0.616172   \n",
       "17   10.0  2.0    4.0  10.0    0.2   0.01  4.219902e-06  0.913316   \n",
       "20   10.0  2.0    5.0  10.0    0.2   0.01  2.540161e-07  0.008077   \n",
       "21   10.0  2.0    7.0  10.0    0.2   0.01  1.171398e-06  0.659665   \n",
       "..    ...  ...    ...   ...    ...    ...           ...       ...   \n",
       "370  20.0  4.0   20.0  20.0    0.2   0.01  1.000000e-20  0.083797   \n",
       "371  20.0  5.0    1.0  20.0    0.2   0.01  3.458272e-06  0.532977   \n",
       "375  20.0  5.0    7.0  20.0    0.2   0.01  1.368671e-08  0.020007   \n",
       "376  20.0  5.0   14.0  20.0    0.2   0.01  1.000000e-20  0.086889   \n",
       "377  20.0  5.0   20.0  20.0    0.2   0.01  1.000000e-20  0.090731   \n",
       "\n",
       "                                         m_min       logm  \n",
       "0                                   5994842503  22.514165  \n",
       "9                                   5994842503  22.514165  \n",
       "17           278255940220711437037622788096000  74.706094  \n",
       "20   10000000000000000303786028427003666890752  92.103404  \n",
       "21       1668100537200055593339245812959412224  83.404749  \n",
       "..                                         ...        ...  \n",
       "370  10000000000000000303786028427003666890752  92.103404  \n",
       "371                  7742636826811277720420352  57.308785  \n",
       "375  10000000000000000303786028427003666890752  92.103404  \n",
       "376  10000000000000000303786028427003666890752  92.103404  \n",
       "377  10000000000000000303786028427003666890752  92.103404  \n",
       "\n",
       "[265 rows x 10 columns]"
      ]
     },
     "execution_count": 469,
     "metadata": {},
     "output_type": "execute_result"
    }
   ],
   "source": [
    "non_vacuous"
   ]
  },
  {
   "cell_type": "code",
   "execution_count": 499,
   "metadata": {},
   "outputs": [
    {
     "data": {
      "text/html": [
       "<div>\n",
       "<style scoped>\n",
       "    .dataframe tbody tr th:only-of-type {\n",
       "        vertical-align: middle;\n",
       "    }\n",
       "\n",
       "    .dataframe tbody tr th {\n",
       "        vertical-align: top;\n",
       "    }\n",
       "\n",
       "    .dataframe thead th {\n",
       "        text-align: right;\n",
       "    }\n",
       "</style>\n",
       "<table border=\"1\" class=\"dataframe\">\n",
       "  <thead>\n",
       "    <tr style=\"text-align: right;\">\n",
       "      <th></th>\n",
       "      <th>deg</th>\n",
       "      <th>width</th>\n",
       "      <th>func</th>\n",
       "      <th>epoch</th>\n",
       "      <th>train_loss</th>\n",
       "      <th>val_loss</th>\n",
       "      <th>batch_size</th>\n",
       "      <th>lr</th>\n",
       "      <th>n_samples</th>\n",
       "      <th>func_val_test</th>\n",
       "      <th>...</th>\n",
       "      <th>d</th>\n",
       "      <th>f</th>\n",
       "      <th>h</th>\n",
       "      <th>dropout</th>\n",
       "      <th>wd</th>\n",
       "      <th>actual_gen_gap</th>\n",
       "      <th>theo_gen_gap</th>\n",
       "      <th>unperturbed_gradient_term</th>\n",
       "      <th>perturbed_hessian_term</th>\n",
       "      <th>sigma</th>\n",
       "    </tr>\n",
       "  </thead>\n",
       "  <tbody>\n",
       "    <tr>\n",
       "      <th>1403</th>\n",
       "      <td>2</td>\n",
       "      <td>1</td>\n",
       "      <td>1</td>\n",
       "      <td>91</td>\n",
       "      <td>0.0049</td>\n",
       "      <td>0.0050</td>\n",
       "      <td>64</td>\n",
       "      <td>0.0004</td>\n",
       "      <td>8192</td>\n",
       "      <td>tensor([0.])</td>\n",
       "      <td>...</td>\n",
       "      <td>200</td>\n",
       "      <td>128</td>\n",
       "      <td>1</td>\n",
       "      <td>0.2</td>\n",
       "      <td>0.01</td>\n",
       "      <td>0.0001</td>\n",
       "      <td>1.607154e+04</td>\n",
       "      <td>1556</td>\n",
       "      <td>1.142471e+09</td>\n",
       "      <td>2.842348e-06</td>\n",
       "    </tr>\n",
       "    <tr>\n",
       "      <th>3184</th>\n",
       "      <td>2</td>\n",
       "      <td>1</td>\n",
       "      <td>2</td>\n",
       "      <td>96</td>\n",
       "      <td>0.0049</td>\n",
       "      <td>0.0046</td>\n",
       "      <td>64</td>\n",
       "      <td>0.0004</td>\n",
       "      <td>8192</td>\n",
       "      <td>tensor([0.])</td>\n",
       "      <td>...</td>\n",
       "      <td>200</td>\n",
       "      <td>128</td>\n",
       "      <td>1</td>\n",
       "      <td>0.2</td>\n",
       "      <td>0.01</td>\n",
       "      <td>-0.0003</td>\n",
       "      <td>1.607154e+04</td>\n",
       "      <td>1556</td>\n",
       "      <td>1.142471e+09</td>\n",
       "      <td>2.842348e-06</td>\n",
       "    </tr>\n",
       "    <tr>\n",
       "      <th>3620</th>\n",
       "      <td>2</td>\n",
       "      <td>1</td>\n",
       "      <td>3</td>\n",
       "      <td>125</td>\n",
       "      <td>0.0032</td>\n",
       "      <td>0.0029</td>\n",
       "      <td>64</td>\n",
       "      <td>0.0004</td>\n",
       "      <td>8192</td>\n",
       "      <td>tensor([0.])</td>\n",
       "      <td>...</td>\n",
       "      <td>200</td>\n",
       "      <td>128</td>\n",
       "      <td>1</td>\n",
       "      <td>0.2</td>\n",
       "      <td>0.01</td>\n",
       "      <td>-0.0003</td>\n",
       "      <td>1.607154e+04</td>\n",
       "      <td>1556</td>\n",
       "      <td>1.142471e+09</td>\n",
       "      <td>2.842348e-06</td>\n",
       "    </tr>\n",
       "    <tr>\n",
       "      <th>5995</th>\n",
       "      <td>2</td>\n",
       "      <td>1</td>\n",
       "      <td>4</td>\n",
       "      <td>120</td>\n",
       "      <td>0.0043</td>\n",
       "      <td>0.0046</td>\n",
       "      <td>64</td>\n",
       "      <td>0.0004</td>\n",
       "      <td>8192</td>\n",
       "      <td>tensor([0.])</td>\n",
       "      <td>...</td>\n",
       "      <td>200</td>\n",
       "      <td>128</td>\n",
       "      <td>1</td>\n",
       "      <td>0.2</td>\n",
       "      <td>0.01</td>\n",
       "      <td>0.0003</td>\n",
       "      <td>1.607154e+04</td>\n",
       "      <td>1556</td>\n",
       "      <td>1.142471e+09</td>\n",
       "      <td>2.842348e-06</td>\n",
       "    </tr>\n",
       "    <tr>\n",
       "      <th>6567</th>\n",
       "      <td>2</td>\n",
       "      <td>1</td>\n",
       "      <td>5</td>\n",
       "      <td>103</td>\n",
       "      <td>0.0044</td>\n",
       "      <td>0.0039</td>\n",
       "      <td>64</td>\n",
       "      <td>0.0004</td>\n",
       "      <td>8192</td>\n",
       "      <td>tensor([0.])</td>\n",
       "      <td>...</td>\n",
       "      <td>200</td>\n",
       "      <td>128</td>\n",
       "      <td>1</td>\n",
       "      <td>0.2</td>\n",
       "      <td>0.01</td>\n",
       "      <td>-0.0005</td>\n",
       "      <td>1.607154e+04</td>\n",
       "      <td>1556</td>\n",
       "      <td>1.142471e+09</td>\n",
       "      <td>2.842348e-06</td>\n",
       "    </tr>\n",
       "    <tr>\n",
       "      <th>...</th>\n",
       "      <td>...</td>\n",
       "      <td>...</td>\n",
       "      <td>...</td>\n",
       "      <td>...</td>\n",
       "      <td>...</td>\n",
       "      <td>...</td>\n",
       "      <td>...</td>\n",
       "      <td>...</td>\n",
       "      <td>...</td>\n",
       "      <td>...</td>\n",
       "      <td>...</td>\n",
       "      <td>...</td>\n",
       "      <td>...</td>\n",
       "      <td>...</td>\n",
       "      <td>...</td>\n",
       "      <td>...</td>\n",
       "      <td>...</td>\n",
       "      <td>...</td>\n",
       "      <td>...</td>\n",
       "      <td>...</td>\n",
       "      <td>...</td>\n",
       "    </tr>\n",
       "    <tr>\n",
       "      <th>999</th>\n",
       "      <td>5</td>\n",
       "      <td>20</td>\n",
       "      <td>1</td>\n",
       "      <td>199800</td>\n",
       "      <td>0.0120</td>\n",
       "      <td>0.0459</td>\n",
       "      <td>64</td>\n",
       "      <td>0.0004</td>\n",
       "      <td>8192</td>\n",
       "      <td>tensor([-0.7434])</td>\n",
       "      <td>...</td>\n",
       "      <td>200</td>\n",
       "      <td>128</td>\n",
       "      <td>1</td>\n",
       "      <td>0.2</td>\n",
       "      <td>0.01</td>\n",
       "      <td>0.0339</td>\n",
       "      <td>8.543048e+10</td>\n",
       "      <td>384564</td>\n",
       "      <td>7.116727e+15</td>\n",
       "      <td>1.000000e-20</td>\n",
       "    </tr>\n",
       "    <tr>\n",
       "      <th>1799</th>\n",
       "      <td>5</td>\n",
       "      <td>20</td>\n",
       "      <td>2</td>\n",
       "      <td>77384</td>\n",
       "      <td>0.0049</td>\n",
       "      <td>0.0228</td>\n",
       "      <td>64</td>\n",
       "      <td>0.0004</td>\n",
       "      <td>8192</td>\n",
       "      <td>tensor([-0.6261])</td>\n",
       "      <td>...</td>\n",
       "      <td>200</td>\n",
       "      <td>128</td>\n",
       "      <td>1</td>\n",
       "      <td>0.2</td>\n",
       "      <td>0.01</td>\n",
       "      <td>0.0179</td>\n",
       "      <td>8.543048e+10</td>\n",
       "      <td>384564</td>\n",
       "      <td>7.116727e+15</td>\n",
       "      <td>1.000000e-20</td>\n",
       "    </tr>\n",
       "    <tr>\n",
       "      <th>3358</th>\n",
       "      <td>5</td>\n",
       "      <td>20</td>\n",
       "      <td>3</td>\n",
       "      <td>32953</td>\n",
       "      <td>0.0049</td>\n",
       "      <td>0.0256</td>\n",
       "      <td>64</td>\n",
       "      <td>0.0004</td>\n",
       "      <td>8192</td>\n",
       "      <td>tensor([0.4538])</td>\n",
       "      <td>...</td>\n",
       "      <td>200</td>\n",
       "      <td>128</td>\n",
       "      <td>1</td>\n",
       "      <td>0.2</td>\n",
       "      <td>0.01</td>\n",
       "      <td>0.0207</td>\n",
       "      <td>8.543048e+10</td>\n",
       "      <td>384564</td>\n",
       "      <td>7.116727e+15</td>\n",
       "      <td>1.000000e-20</td>\n",
       "    </tr>\n",
       "    <tr>\n",
       "      <th>4628</th>\n",
       "      <td>5</td>\n",
       "      <td>20</td>\n",
       "      <td>4</td>\n",
       "      <td>199800</td>\n",
       "      <td>0.0083</td>\n",
       "      <td>0.0343</td>\n",
       "      <td>64</td>\n",
       "      <td>0.0004</td>\n",
       "      <td>8192</td>\n",
       "      <td>tensor([-0.4846])</td>\n",
       "      <td>...</td>\n",
       "      <td>200</td>\n",
       "      <td>128</td>\n",
       "      <td>1</td>\n",
       "      <td>0.2</td>\n",
       "      <td>0.01</td>\n",
       "      <td>0.0260</td>\n",
       "      <td>8.543048e+10</td>\n",
       "      <td>384564</td>\n",
       "      <td>7.116727e+15</td>\n",
       "      <td>1.000000e-20</td>\n",
       "    </tr>\n",
       "    <tr>\n",
       "      <th>6368</th>\n",
       "      <td>5</td>\n",
       "      <td>20</td>\n",
       "      <td>5</td>\n",
       "      <td>72740</td>\n",
       "      <td>0.0050</td>\n",
       "      <td>0.0218</td>\n",
       "      <td>64</td>\n",
       "      <td>0.0004</td>\n",
       "      <td>8192</td>\n",
       "      <td>tensor([-0.1229])</td>\n",
       "      <td>...</td>\n",
       "      <td>200</td>\n",
       "      <td>128</td>\n",
       "      <td>1</td>\n",
       "      <td>0.2</td>\n",
       "      <td>0.01</td>\n",
       "      <td>0.0168</td>\n",
       "      <td>8.543048e+10</td>\n",
       "      <td>384564</td>\n",
       "      <td>7.116727e+15</td>\n",
       "      <td>1.000000e-20</td>\n",
       "    </tr>\n",
       "  </tbody>\n",
       "</table>\n",
       "<p>80 rows × 29 columns</p>\n",
       "</div>"
      ],
      "text/plain": [
       "      deg  width  func   epoch  train_loss  val_loss  batch_size      lr  \\\n",
       "1403    2      1     1      91      0.0049    0.0050          64  0.0004   \n",
       "3184    2      1     2      96      0.0049    0.0046          64  0.0004   \n",
       "3620    2      1     3     125      0.0032    0.0029          64  0.0004   \n",
       "5995    2      1     4     120      0.0043    0.0046          64  0.0004   \n",
       "6567    2      1     5     103      0.0044    0.0039          64  0.0004   \n",
       "...   ...    ...   ...     ...         ...       ...         ...     ...   \n",
       "999     5     20     1  199800      0.0120    0.0459          64  0.0004   \n",
       "1799    5     20     2   77384      0.0049    0.0228          64  0.0004   \n",
       "3358    5     20     3   32953      0.0049    0.0256          64  0.0004   \n",
       "4628    5     20     4  199800      0.0083    0.0343          64  0.0004   \n",
       "6368    5     20     5   72740      0.0050    0.0218          64  0.0004   \n",
       "\n",
       "      n_samples      func_val_test  ...    d    f  h dropout    wd  \\\n",
       "1403       8192       tensor([0.])  ...  200  128  1     0.2  0.01   \n",
       "3184       8192       tensor([0.])  ...  200  128  1     0.2  0.01   \n",
       "3620       8192       tensor([0.])  ...  200  128  1     0.2  0.01   \n",
       "5995       8192       tensor([0.])  ...  200  128  1     0.2  0.01   \n",
       "6567       8192       tensor([0.])  ...  200  128  1     0.2  0.01   \n",
       "...         ...                ...  ...  ...  ... ..     ...   ...   \n",
       "999        8192  tensor([-0.7434])  ...  200  128  1     0.2  0.01   \n",
       "1799       8192  tensor([-0.6261])  ...  200  128  1     0.2  0.01   \n",
       "3358       8192   tensor([0.4538])  ...  200  128  1     0.2  0.01   \n",
       "4628       8192  tensor([-0.4846])  ...  200  128  1     0.2  0.01   \n",
       "6368       8192  tensor([-0.1229])  ...  200  128  1     0.2  0.01   \n",
       "\n",
       "      actual_gen_gap  theo_gen_gap  unperturbed_gradient_term  \\\n",
       "1403          0.0001  1.607154e+04                       1556   \n",
       "3184         -0.0003  1.607154e+04                       1556   \n",
       "3620         -0.0003  1.607154e+04                       1556   \n",
       "5995          0.0003  1.607154e+04                       1556   \n",
       "6567         -0.0005  1.607154e+04                       1556   \n",
       "...              ...           ...                        ...   \n",
       "999           0.0339  8.543048e+10                     384564   \n",
       "1799          0.0179  8.543048e+10                     384564   \n",
       "3358          0.0207  8.543048e+10                     384564   \n",
       "4628          0.0260  8.543048e+10                     384564   \n",
       "6368          0.0168  8.543048e+10                     384564   \n",
       "\n",
       "      perturbed_hessian_term         sigma  \n",
       "1403            1.142471e+09  2.842348e-06  \n",
       "3184            1.142471e+09  2.842348e-06  \n",
       "3620            1.142471e+09  2.842348e-06  \n",
       "5995            1.142471e+09  2.842348e-06  \n",
       "6567            1.142471e+09  2.842348e-06  \n",
       "...                      ...           ...  \n",
       "999             7.116727e+15  1.000000e-20  \n",
       "1799            7.116727e+15  1.000000e-20  \n",
       "3358            7.116727e+15  1.000000e-20  \n",
       "4628            7.116727e+15  1.000000e-20  \n",
       "6368            7.116727e+15  1.000000e-20  \n",
       "\n",
       "[80 rows x 29 columns]"
      ]
     },
     "execution_count": 499,
     "metadata": {},
     "output_type": "execute_result"
    }
   ],
   "source": [
    "filtered_data"
   ]
  },
  {
   "cell_type": "code",
   "execution_count": 14,
   "metadata": {
    "scrolled": true
   },
   "outputs": [
    {
     "name": "stdout",
     "output_type": "stream",
     "text": [
      "unique_widths: [ 1.  7. 14. 20.]\n",
      "max_m: 10000000000000000303786028427003666890752\n"
     ]
    },
    {
     "ename": "NameError",
     "evalue": "name 'sigma_sub' is not defined",
     "output_type": "error",
     "traceback": [
      "\u001b[0;31m---------------------------------------------------------------------------\u001b[0m",
      "\u001b[0;31mNameError\u001b[0m                                 Traceback (most recent call last)",
      "Cell \u001b[0;32mIn[14], line 64\u001b[0m\n\u001b[1;32m     58\u001b[0m     filtered_data[\u001b[38;5;124m\"\u001b[39m\u001b[38;5;124msigma\u001b[39m\u001b[38;5;124m\"\u001b[39m]\u001b[38;5;241m=\u001b[39m filtered_data\u001b[38;5;241m.\u001b[39mapply(\n\u001b[1;32m     59\u001b[0m         \u001b[38;5;28;01mlambda\u001b[39;00m row: fetch_optimal_sigma(row), axis\u001b[38;5;241m=\u001b[39m\u001b[38;5;241m1\u001b[39m)\n\u001b[1;32m     60\u001b[0m \u001b[38;5;28;01melse\u001b[39;00m:    \n\u001b[1;32m     61\u001b[0m     \n\u001b[1;32m     62\u001b[0m     \u001b[38;5;66;03m# get the last (i.e. optimal) sigma for each (omega, D_f)\u001b[39;00m\n\u001b[1;32m     63\u001b[0m     last_per_combo \u001b[38;5;241m=\u001b[39m (\n\u001b[0;32m---> 64\u001b[0m         \u001b[43msigma_sub\u001b[49m\n\u001b[1;32m     65\u001b[0m         \u001b[38;5;241m.\u001b[39mgroupby([\u001b[38;5;124m\"\u001b[39m\u001b[38;5;124momega\u001b[39m\u001b[38;5;124m\"\u001b[39m, \u001b[38;5;124m\"\u001b[39m\u001b[38;5;124mD_f\u001b[39m\u001b[38;5;124m\"\u001b[39m], observed\u001b[38;5;241m=\u001b[39m\u001b[38;5;28;01mTrue\u001b[39;00m)[\u001b[38;5;124m\"\u001b[39m\u001b[38;5;124msigma\u001b[39m\u001b[38;5;124m\"\u001b[39m]\n\u001b[1;32m     66\u001b[0m         \u001b[38;5;241m.\u001b[39mlast()\n\u001b[1;32m     67\u001b[0m     )\n\u001b[1;32m     68\u001b[0m     \u001b[38;5;28mprint\u001b[39m(\u001b[38;5;124m\"\u001b[39m\u001b[38;5;124mlast_per_combo: \u001b[39m\u001b[38;5;124m\"\u001b[39m \u001b[38;5;241m+\u001b[39m \u001b[38;5;28mstr\u001b[39m(last_per_combo))\n\u001b[1;32m     69\u001b[0m     \u001b[38;5;66;03m# compute the overall average of those optimal sigmas\u001b[39;00m\n\u001b[1;32m     70\u001b[0m     \u001b[38;5;66;03m#mean_sigma = last_per_combo.min()\u001b[39;00m\n\u001b[1;32m     71\u001b[0m     \u001b[38;5;66;03m#print(\"mean sigma: \" + str(mean_sigma))\u001b[39;00m\n",
      "\u001b[0;31mNameError\u001b[0m: name 'sigma_sub' is not defined"
     ]
    }
   ],
   "source": [
    "filtered_data = filtered_data[filtered_data[\"deg\"]!=1]\n",
    "\n",
    "fig = make_subplots(\n",
    "    rows=1, cols=2,\n",
    "    specs=[\n",
    "        [{\"type\": \"xy\"}, {\"type\": \"xy\"}]\n",
    "    ],\n",
    "    horizontal_spacing=0.10,\n",
    "    vertical_spacing=0.10,\n",
    "    subplot_titles=(\"Theoretical\", \"Empirical\")\n",
    ")\n",
    "T = 20\n",
    "\n",
    "# Get unique widths\n",
    "#unique_widths = filtered_data[\"width\"].unique()\n",
    "unique_widths = sigma_data[sigma_data[\"T\"]==T][\"omega\"].unique()\n",
    "print(\"unique_widths: \" + str(unique_widths))\n",
    "colors = [\"red\", \"brown\", \"green\", \"purple\"]\n",
    "\n",
    "max_m = non_vacuous[non_vacuous[\"T\"]==20][\"m_min\"].max()\n",
    "print(\"max_m: \" + str(max_m))\n",
    "sigma_data[\"T\"].unique()\n",
    "\n",
    "delta = 0.2\n",
    "Sigma = 0.01\n",
    "eps = 0.1\n",
    "d = min(T,8*math.log(T)/eps**2)\n",
    "optimize_each_sigma = False\n",
    "\n",
    "max_m=1e15\n",
    "max_m = float(max_m)\n",
    "def fetch_optimal_sigma(row):\n",
    "    # Fetch optimal sigma for each width\n",
    "    print(\"omega: \" + str(row[\"width\"]) + \", D_f: \" + str(row[\"deg\"]) + \", T: \" + str(T))\n",
    "\n",
    "    return sigma_data[(sigma_data[\"T\"] == T) & \n",
    "                      (sigma_data[\"omega\"] == row[\"width\"]) & \n",
    "                      (sigma_data[\"D_f\"] == row[\"deg\"])][\"sigma\"].values[-1]\n",
    "\n",
    "    \n",
    "if optimize_each_sigma:\n",
    "# Fetch optimal theo_gen_gap for each width\n",
    "    filtered_data[\"theo_gen_gap\"] = filtered_data.apply(\n",
    "        lambda row: theoretical_gen_gap(\n",
    "            sigma=fetch_optimal_sigma(row),\n",
    "            omega=row[\"width\"],\n",
    "            D_f=row[\"deg\"],\n",
    "            T=T,\n",
    "            Sigma=Sigma,\n",
    "            m = max_m,\n",
    "            delta=delta,\n",
    "            d = d\n",
    "        ), axis=1)\n",
    "    filtered_data[\"unperturbed_gradient_term\"]= filtered_data.apply(\n",
    "        lambda row: G_u(omega=row[\"width\"],D_f = row[\"deg\"]), axis=1)\n",
    "    filtered_data[\"perturbed_hessian_term\"]= filtered_data.apply(\n",
    "        lambda row: P(sigma = fetch_optimal_sigma(row), omega=row[\"width\"],D_f = row[\"deg\"],T=T,d=d), axis=1)\n",
    "    filtered_data[\"sigma\"]= filtered_data.apply(\n",
    "        lambda row: fetch_optimal_sigma(row), axis=1)\n",
    "else:    \n",
    "    \n",
    "    # get the last (i.e. optimal) sigma for each (omega, D_f)\n",
    "    last_per_combo = (\n",
    "        sigma_sub\n",
    "        .groupby([\"omega\", \"D_f\"], observed=True)[\"sigma\"]\n",
    "        .last()\n",
    "    )\n",
    "    print(\"last_per_combo: \" + str(last_per_combo))\n",
    "    # compute the overall average of those optimal sigmas\n",
    "    #mean_sigma = last_per_combo.min()\n",
    "    #print(\"mean sigma: \" + str(mean_sigma))\n",
    "    mean_sigma = 1e-8\n",
    "\n",
    "    \n",
    "    # now plug this constant mean_sigma into your theo_gen_gap computation:\n",
    "    filtered_data[\"theo_gen_gap\"] = filtered_data.apply(\n",
    "        lambda row: theoretical_gen_gap(\n",
    "            sigma = mean_sigma,\n",
    "            omega = row[\"width\"],\n",
    "            D_f   = row[\"deg\"],\n",
    "            T     = T,\n",
    "            Sigma = Sigma,\n",
    "            m     = max_m,\n",
    "            delta = delta,\n",
    "            d     = d\n",
    "        ),\n",
    "        axis=1\n",
    "    )\n",
    "\n",
    "# Plot theo_gen_gap for each width\n",
    "for k, width in enumerate(unique_widths):\n",
    "    #print(\"width: \" + str(width))\n",
    "    subset = filtered_data[filtered_data[\"width\"] == width]\n",
    "    #print(\"subset: \" + (str(subset)))\n",
    "    fig.add_trace(\n",
    "        #go.Scatter(x=subset[\"deg\"], y=(subset[\"sigma\"]**2)*(subset[\"perturbed_hessian_term\"]+subset[\"unperturbed_gradient_term\"]), mode='lines+markers', line=dict(color=colors[k]), showlegend=False),\n",
    "        go.Scatter(x=subset[\"deg\"], y=subset[\"theo_gen_gap\"], mode='lines+markers', line=dict(color=colors[k]), showlegend=False),\n",
    "        #go.Scatter(x=subset[\"deg\"], y=subset[\"theo_gen_gap\"], mode='lines+markers', showlegend=False),\n",
    "\n",
    "        row=1, col=1\n",
    "    )\n",
    "\n",
    "# Plot actual_gen_gap for each width, averaging over func\n",
    "for k, width in enumerate(unique_widths):\n",
    "    subset = filtered_data[filtered_data[\"width\"] == width]\n",
    "    avg_actual_gen_gap = subset.groupby(\"deg\")[\"actual_gen_gap\"].mean()\n",
    "    fig.add_trace(\n",
    "        go.Scatter(x=avg_actual_gen_gap.index, y=avg_actual_gen_gap.values, mode='lines+markers', line=dict(color=colors[k]), name=f\"Width={width}\"),\n",
    "        #go.Scatter(x=avg_actual_gen_gap.index, y=avg_actual_gen_gap.values, mode='lines+markers', name=f\"Width={width}\"),\n",
    "        row=1, col=2\n",
    "    )\n",
    "fig.update_layout(\n",
    "    title={\n",
    "            'text' : f'Comparison of Empirical and Theoretical Generalization Gap by Degree, width (m={\"{:.1e}\".format(max_m)})',\n",
    "            'x':0.5,\n",
    "            'xanchor': 'center'\n",
    "        },\n",
    "    height=750,\n",
    "    width=1200,\n",
    "    margin=dict(t=50, b=50, l=50, r=50)\n",
    ")\n",
    "fig.update_xaxes(title_text=\"Degree\", row=1, col=3)\n",
    "fig.update_xaxes(title_text=\"Degree\", row=2, col=1)\n",
    "fig.update_xaxes(title_text=\"Degree\", row=2, col=2)\n",
    "fig.update_yaxes(title_text=\"Generalzation Gap\", row=1, col=1)\n",
    "fig.update_yaxes(title_text=\"Generalzation Gap\", row=1, col=3)\n",
    "fig.update_yaxes(title_text=\"Generalzation Gap\", row=2, col=1)\n",
    "fig.show()\n",
    "fig.write_image(\"plots/unperturbed vary over sigma.png\", width=1200, height=750)"
   ]
  },
  {
   "cell_type": "code",
   "execution_count": null,
   "metadata": {},
   "outputs": [],
   "source": []
  },
  {
   "cell_type": "code",
   "execution_count": 473,
   "metadata": {},
   "outputs": [
    {
     "data": {
      "text/html": [
       "<div>\n",
       "<style scoped>\n",
       "    .dataframe tbody tr th:only-of-type {\n",
       "        vertical-align: middle;\n",
       "    }\n",
       "\n",
       "    .dataframe tbody tr th {\n",
       "        vertical-align: top;\n",
       "    }\n",
       "\n",
       "    .dataframe thead th {\n",
       "        text-align: right;\n",
       "    }\n",
       "</style>\n",
       "<table border=\"1\" class=\"dataframe\">\n",
       "  <thead>\n",
       "    <tr style=\"text-align: right;\">\n",
       "      <th></th>\n",
       "      <th>T</th>\n",
       "      <th>D_f</th>\n",
       "      <th>omega</th>\n",
       "      <th>m</th>\n",
       "      <th>d</th>\n",
       "      <th>delta</th>\n",
       "      <th>Sigma</th>\n",
       "      <th>sigma</th>\n",
       "      <th>bound</th>\n",
       "    </tr>\n",
       "  </thead>\n",
       "  <tbody>\n",
       "    <tr>\n",
       "      <th>1000</th>\n",
       "      <td>56.0</td>\n",
       "      <td>2.0</td>\n",
       "      <td>2.0</td>\n",
       "      <td>1000000</td>\n",
       "      <td>56.0</td>\n",
       "      <td>0.2</td>\n",
       "      <td>0.01</td>\n",
       "      <td>5.595516e-06</td>\n",
       "      <td>21.484104</td>\n",
       "    </tr>\n",
       "    <tr>\n",
       "      <th>1001</th>\n",
       "      <td>56.0</td>\n",
       "      <td>2.0</td>\n",
       "      <td>2.0</td>\n",
       "      <td>5994842503</td>\n",
       "      <td>56.0</td>\n",
       "      <td>0.2</td>\n",
       "      <td>0.01</td>\n",
       "      <td>5.570965e-06</td>\n",
       "      <td>7.284084</td>\n",
       "    </tr>\n",
       "    <tr>\n",
       "      <th>1002</th>\n",
       "      <td>56.0</td>\n",
       "      <td>2.0</td>\n",
       "      <td>2.0</td>\n",
       "      <td>35938136638046</td>\n",
       "      <td>56.0</td>\n",
       "      <td>0.2</td>\n",
       "      <td>0.01</td>\n",
       "      <td>5.579312e-06</td>\n",
       "      <td>7.121964</td>\n",
       "    </tr>\n",
       "    <tr>\n",
       "      <th>1003</th>\n",
       "      <td>56.0</td>\n",
       "      <td>2.0</td>\n",
       "      <td>2.0</td>\n",
       "      <td>215443469003187776</td>\n",
       "      <td>56.0</td>\n",
       "      <td>0.2</td>\n",
       "      <td>0.01</td>\n",
       "      <td>5.587667e-06</td>\n",
       "      <td>7.140938</td>\n",
       "    </tr>\n",
       "    <tr>\n",
       "      <th>1004</th>\n",
       "      <td>56.0</td>\n",
       "      <td>2.0</td>\n",
       "      <td>2.0</td>\n",
       "      <td>1291549665014882762752</td>\n",
       "      <td>56.0</td>\n",
       "      <td>0.2</td>\n",
       "      <td>0.01</td>\n",
       "      <td>5.604105e-06</td>\n",
       "      <td>7.182986</td>\n",
       "    </tr>\n",
       "    <tr>\n",
       "      <th>...</th>\n",
       "      <td>...</td>\n",
       "      <td>...</td>\n",
       "      <td>...</td>\n",
       "      <td>...</td>\n",
       "      <td>...</td>\n",
       "      <td>...</td>\n",
       "      <td>...</td>\n",
       "      <td>...</td>\n",
       "      <td>...</td>\n",
       "    </tr>\n",
       "    <tr>\n",
       "      <th>1095</th>\n",
       "      <td>56.0</td>\n",
       "      <td>2.0</td>\n",
       "      <td>10.0</td>\n",
       "      <td>7742636826811277720420352</td>\n",
       "      <td>56.0</td>\n",
       "      <td>0.2</td>\n",
       "      <td>0.01</td>\n",
       "      <td>4.582356e-06</td>\n",
       "      <td>3000.606808</td>\n",
       "    </tr>\n",
       "    <tr>\n",
       "      <th>1096</th>\n",
       "      <td>56.0</td>\n",
       "      <td>2.0</td>\n",
       "      <td>10.0</td>\n",
       "      <td>46415888336127532003175170048</td>\n",
       "      <td>56.0</td>\n",
       "      <td>0.2</td>\n",
       "      <td>0.01</td>\n",
       "      <td>5.248541e-06</td>\n",
       "      <td>3936.506219</td>\n",
       "    </tr>\n",
       "    <tr>\n",
       "      <th>1097</th>\n",
       "      <td>56.0</td>\n",
       "      <td>2.0</td>\n",
       "      <td>10.0</td>\n",
       "      <td>278255940220711437037622788096000</td>\n",
       "      <td>56.0</td>\n",
       "      <td>0.2</td>\n",
       "      <td>0.01</td>\n",
       "      <td>1.198497e-06</td>\n",
       "      <td>205.255123</td>\n",
       "    </tr>\n",
       "    <tr>\n",
       "      <th>1098</th>\n",
       "      <td>56.0</td>\n",
       "      <td>2.0</td>\n",
       "      <td>10.0</td>\n",
       "      <td>1668100537200055593339245812959412224</td>\n",
       "      <td>56.0</td>\n",
       "      <td>0.2</td>\n",
       "      <td>0.01</td>\n",
       "      <td>1.652508e-07</td>\n",
       "      <td>3.902151</td>\n",
       "    </tr>\n",
       "    <tr>\n",
       "      <th>1099</th>\n",
       "      <td>56.0</td>\n",
       "      <td>2.0</td>\n",
       "      <td>10.0</td>\n",
       "      <td>10000000000000000303786028427003666890752</td>\n",
       "      <td>56.0</td>\n",
       "      <td>0.2</td>\n",
       "      <td>0.01</td>\n",
       "      <td>1.243890e-08</td>\n",
       "      <td>0.022110</td>\n",
       "    </tr>\n",
       "  </tbody>\n",
       "</table>\n",
       "<p>70 rows × 9 columns</p>\n",
       "</div>"
      ],
      "text/plain": [
       "         T  D_f  omega                                          m     d  \\\n",
       "1000  56.0  2.0    2.0                                    1000000  56.0   \n",
       "1001  56.0  2.0    2.0                                 5994842503  56.0   \n",
       "1002  56.0  2.0    2.0                             35938136638046  56.0   \n",
       "1003  56.0  2.0    2.0                         215443469003187776  56.0   \n",
       "1004  56.0  2.0    2.0                     1291549665014882762752  56.0   \n",
       "...    ...  ...    ...                                        ...   ...   \n",
       "1095  56.0  2.0   10.0                  7742636826811277720420352  56.0   \n",
       "1096  56.0  2.0   10.0              46415888336127532003175170048  56.0   \n",
       "1097  56.0  2.0   10.0          278255940220711437037622788096000  56.0   \n",
       "1098  56.0  2.0   10.0      1668100537200055593339245812959412224  56.0   \n",
       "1099  56.0  2.0   10.0  10000000000000000303786028427003666890752  56.0   \n",
       "\n",
       "      delta  Sigma         sigma        bound  \n",
       "1000    0.2   0.01  5.595516e-06    21.484104  \n",
       "1001    0.2   0.01  5.570965e-06     7.284084  \n",
       "1002    0.2   0.01  5.579312e-06     7.121964  \n",
       "1003    0.2   0.01  5.587667e-06     7.140938  \n",
       "1004    0.2   0.01  5.604105e-06     7.182986  \n",
       "...     ...    ...           ...          ...  \n",
       "1095    0.2   0.01  4.582356e-06  3000.606808  \n",
       "1096    0.2   0.01  5.248541e-06  3936.506219  \n",
       "1097    0.2   0.01  1.198497e-06   205.255123  \n",
       "1098    0.2   0.01  1.652508e-07     3.902151  \n",
       "1099    0.2   0.01  1.243890e-08     0.022110  \n",
       "\n",
       "[70 rows x 9 columns]"
      ]
     },
     "execution_count": 473,
     "metadata": {},
     "output_type": "execute_result"
    }
   ],
   "source": [
    "sigma_data[(sigma_data[\"T\"] == 56) &  (sigma_data[\"omega\"] == 1) & (sigma_data[\"D_f\"] == 2)][\"sigma\"]"
   ]
  },
  {
   "cell_type": "code",
   "execution_count": 27,
   "metadata": {},
   "outputs": [
    {
     "data": {
      "application/vnd.plotly.v1+json": {
       "config": {
        "plotlyServerURL": "https://plot.ly"
       },
       "data": [
        {
         "line": {
          "color": "red"
         },
         "mode": "lines+markers",
         "showlegend": false,
         "type": "scatter",
         "x": [
          2,
          2,
          2,
          2,
          2,
          3,
          3,
          3,
          3,
          3,
          4,
          4,
          4,
          4,
          4,
          5,
          5,
          5,
          5,
          5
         ],
         "xaxis": "x",
         "y": [
          0.17900545641686055,
          0.17900545641686055,
          0.17900545641686055,
          0.17900545641686055,
          0.17900545641686055,
          0.19529476695179485,
          0.19529476695179485,
          0.19529476695179485,
          0.19529476695179485,
          0.19529476695179485,
          0.21663807377198346,
          0.21663807377198346,
          0.21663807377198346,
          0.21663807377198346,
          0.21663807377198346,
          0.24088002751374024,
          0.24088002751374024,
          0.24088002751374024,
          0.24088002751374024,
          0.24088002751374024
         ],
         "yaxis": "y"
        },
        {
         "line": {
          "color": "brown"
         },
         "mode": "lines+markers",
         "showlegend": false,
         "type": "scatter",
         "x": [
          2,
          2,
          2,
          2,
          2,
          3,
          3,
          3,
          3,
          3,
          4,
          4,
          4,
          4,
          4,
          5,
          5,
          5,
          5,
          5
         ],
         "xaxis": "x",
         "y": [
          0.19566402358834306,
          0.19566402358834306,
          0.19566402358834306,
          0.19566402358834306,
          0.19566402358834306,
          0.21547421823191923,
          0.21547421823191923,
          0.21547421823191923,
          0.21547421823191923,
          0.21547421823191923,
          0.2396494757214059,
          0.2396494757214059,
          0.2396494757214059,
          0.2396494757214059,
          0.2396494757214059,
          0.2688636825968899,
          0.2688636825968899,
          0.2688636825968899,
          0.2688636825968899,
          0.2688636825968899
         ],
         "yaxis": "y"
        },
        {
         "line": {
          "color": "green"
         },
         "mode": "lines+markers",
         "showlegend": false,
         "type": "scatter",
         "x": [
          2,
          2,
          2,
          2,
          2,
          3,
          3,
          3,
          3,
          3,
          4,
          4,
          4,
          4,
          4,
          5,
          5,
          5,
          5,
          5
         ],
         "xaxis": "x",
         "y": [
          0.21478571849420444,
          0.21478571849420444,
          0.21478571849420444,
          0.21478571849420444,
          0.21478571849420444,
          0.2532927647738063,
          0.2532927647738063,
          0.2532927647738063,
          0.2532927647738063,
          0.2532927647738063,
          0.3225585220170376,
          0.3225585220170376,
          0.3225585220170376,
          0.3225585220170376,
          0.3225585220170376,
          0.44564222006906695,
          0.44564222006906695,
          0.44564222006906695,
          0.44564222006906695,
          0.44564222006906695
         ],
         "yaxis": "y"
        },
        {
         "line": {
          "color": "purple"
         },
         "mode": "lines+markers",
         "showlegend": false,
         "type": "scatter",
         "x": [
          2,
          2,
          2,
          2,
          2,
          3,
          3,
          3,
          3,
          3,
          4,
          4,
          4,
          4,
          4,
          5,
          5,
          5,
          5,
          5
         ],
         "xaxis": "x",
         "y": [
          0.23934444194397064,
          0.23934444194397064,
          0.23934444194397064,
          0.23934444194397064,
          0.23934444194397064,
          0.3354775184371512,
          0.3354775184371512,
          0.3354775184371512,
          0.3354775184371512,
          0.3354775184371512,
          0.5564914724876617,
          0.5564914724876617,
          0.5564914724876617,
          0.5564914724876617,
          0.5564914724876617,
          0.9985888436875793,
          0.9985888436875793,
          0.9985888436875793,
          0.9985888436875793,
          0.9985888436875793
         ],
         "yaxis": "y"
        },
        {
         "line": {
          "color": "red"
         },
         "mode": "lines+markers",
         "showlegend": false,
         "type": "scatter",
         "x": [
          2,
          2,
          2,
          2,
          2,
          3,
          3,
          3,
          3,
          3,
          4,
          4,
          4,
          4,
          4,
          5,
          5,
          5,
          5,
          5
         ],
         "xaxis": "x2",
         "y": [
          0.017911958427218242,
          0.017911958427218242,
          0.017911958427218242,
          0.017911958427218242,
          0.017911958427218242,
          0.019587209491535588,
          0.019587209491535588,
          0.019587209491535588,
          0.019587209491535588,
          0.019587209491535588,
          0.021846196523920922,
          0.021846196523920922,
          0.021846196523920922,
          0.021846196523920922,
          0.021846196523920922,
          0.02453317171908709,
          0.02453317171908709,
          0.02453317171908709,
          0.02453317171908709,
          0.02453317171908709
         ],
         "yaxis": "y2"
        },
        {
         "line": {
          "color": "brown"
         },
         "mode": "lines+markers",
         "showlegend": false,
         "type": "scatter",
         "x": [
          2,
          2,
          2,
          2,
          2,
          3,
          3,
          3,
          3,
          3,
          4,
          4,
          4,
          4,
          4,
          5,
          5,
          5,
          5,
          5
         ],
         "xaxis": "x2",
         "y": [
          0.0468830041404483,
          0.0468830041404483,
          0.0468830041404483,
          0.0468830041404483,
          0.0468830041404483,
          0.1598319885686545,
          0.1598319885686545,
          0.1598319885686545,
          0.1598319885686545,
          0.1598319885686545,
          0.4610028051256704,
          0.4610028051256704,
          0.4610028051256704,
          0.4610028051256704,
          0.4610028051256704,
          1.093858298804767,
          1.093858298804767,
          1.093858298804767,
          1.093858298804767,
          1.093858298804767
         ],
         "yaxis": "y2"
        },
        {
         "line": {
          "color": "green"
         },
         "mode": "lines+markers",
         "showlegend": false,
         "type": "scatter",
         "x": [
          2,
          2,
          2,
          2,
          2,
          3,
          3,
          3,
          3,
          3,
          4,
          4,
          4,
          4,
          4,
          5,
          5,
          5,
          5,
          5
         ],
         "xaxis": "x2",
         "y": [
          0.4584938040322809,
          0.4584938040322809,
          0.4584938040322809,
          0.4584938040322809,
          0.4584938040322809,
          2.2376864910432994,
          2.2376864910432994,
          2.2376864910432994,
          2.2376864910432994,
          2.2376864910432994,
          7.024342780584017,
          7.024342780584017,
          7.024342780584017,
          7.024342780584017,
          7.024342780584017,
          17.11500483090429,
          17.11500483090429,
          17.11500483090429,
          17.11500483090429,
          17.11500483090429
         ],
         "yaxis": "y2"
        },
        {
         "line": {
          "color": "purple"
         },
         "mode": "lines+markers",
         "showlegend": false,
         "type": "scatter",
         "x": [
          2,
          2,
          2,
          2,
          2,
          3,
          3,
          3,
          3,
          3,
          4,
          4,
          4,
          4,
          4,
          5,
          5,
          5,
          5,
          5
         ],
         "xaxis": "x2",
         "y": [
          1.8440252857857704,
          1.8440252857857704,
          1.8440252857857704,
          1.8440252857857704,
          1.8440252857857704,
          9.247678585068643,
          9.247678585068643,
          9.247678585068643,
          9.247678585068643,
          9.247678585068643,
          29.17672062901869,
          29.17672062901869,
          29.17672062901869,
          29.17672062901869,
          29.17672062901869,
          71.19602153235246,
          71.19602153235246,
          71.19602153235246,
          71.19602153235246,
          71.19602153235246
         ],
         "yaxis": "y2"
        },
        {
         "line": {
          "color": "red"
         },
         "mode": "lines+markers",
         "showlegend": false,
         "type": "scatter",
         "x": [
          2,
          2,
          2,
          2,
          2,
          3,
          3,
          3,
          3,
          3,
          4,
          4,
          4,
          4,
          4,
          5,
          5,
          5,
          5,
          5
         ],
         "xaxis": "x4",
         "y": [
          0.0029324913927227707,
          0.0029324913927227707,
          0.0029324913927227707,
          0.0029324913927227707,
          0.0029324913927227707,
          0.007732085959880955,
          0.007732085959880955,
          0.007732085959880955,
          0.007732085959880955,
          0.007732085959880955,
          0.0204238342153442,
          0.0204238342153442,
          0.0204238342153442,
          0.0204238342153442,
          0.0204238342153442,
          0.04697105757582602,
          0.04697105757582602,
          0.04697105757582602,
          0.04697105757582602,
          0.04697105757582602
         ],
         "yaxis": "y4"
        },
        {
         "line": {
          "color": "brown"
         },
         "mode": "lines+markers",
         "showlegend": false,
         "type": "scatter",
         "x": [
          2,
          2,
          2,
          2,
          2,
          3,
          3,
          3,
          3,
          3,
          4,
          4,
          4,
          4,
          4,
          5,
          5,
          5,
          5,
          5
         ],
         "xaxis": "x4",
         "y": [
          2.736365475415801,
          2.736365475415801,
          2.736365475415801,
          2.736365475415801,
          2.736365475415801,
          13.84453131516644,
          13.84453131516644,
          13.84453131516644,
          13.84453131516644,
          13.84453131516644,
          43.750216707990916,
          43.750216707990916,
          43.750216707990916,
          43.750216707990916,
          43.750216707990916,
          106.80751615066336,
          106.80751615066336,
          106.80751615066336,
          106.80751615066336,
          106.80751615066336
         ],
         "yaxis": "y4"
        },
        {
         "line": {
          "color": "green"
         },
         "mode": "lines+markers",
         "showlegend": false,
         "type": "scatter",
         "x": [
          2,
          2,
          2,
          2,
          2,
          3,
          3,
          3,
          3,
          3,
          4,
          4,
          4,
          4,
          4,
          5,
          5,
          5,
          5,
          5
         ],
         "xaxis": "x4",
         "y": [
          43.74763050031477,
          43.74763050031477,
          43.74763050031477,
          43.74763050031477,
          43.74763050031477,
          221.460829703353,
          221.460829703353,
          221.460829703353,
          221.460829703353,
          221.460829703353,
          699.9158284959815,
          699.9158284959815,
          699.9158284959815,
          699.9158284959815,
          699.9158284959815,
          1708.768564261947,
          1708.768564261947,
          1708.768564261947,
          1708.768564261947,
          1708.768564261947
         ],
         "yaxis": "y4"
        },
        {
         "line": {
          "color": "purple"
         },
         "mode": "lines+markers",
         "showlegend": false,
         "type": "scatter",
         "x": [
          2,
          2,
          2,
          2,
          2,
          3,
          3,
          3,
          3,
          3,
          4,
          4,
          4,
          4,
          4,
          5,
          5,
          5,
          5,
          5
         ],
         "xaxis": "x4",
         "y": [
          182.1945391677573,
          182.1945391677573,
          182.1945391677573,
          182.1945391677573,
          182.1945391677573,
          922.3432332383925,
          922.3432332383925,
          922.3432332383925,
          922.3432332383925,
          922.3432332383925,
          2915.0434481339184,
          2915.0434481339184,
          2915.0434481339184,
          2915.0434481339184,
          2915.0434481339184,
          7116.786782225697,
          7116.786782225697,
          7116.786782225697,
          7116.786782225697,
          7116.786782225697
         ],
         "yaxis": "y4"
        },
        {
         "line": {
          "color": "red"
         },
         "mode": "lines+markers",
         "showlegend": false,
         "type": "scatter",
         "x": [
          2,
          2,
          2,
          2,
          2,
          3,
          3,
          3,
          3,
          3,
          4,
          4,
          4,
          4,
          4,
          5,
          5,
          5,
          5,
          5
         ],
         "xaxis": "x5",
         "y": [
          0.11443996451310762,
          0.11443996451310762,
          0.11443996451310762,
          0.11443996451310762,
          0.11443996451310762,
          0.5781961649218174,
          0.5781961649218174,
          0.5781961649218174,
          0.5781961649218174,
          0.5781961649218174,
          1.8262680817440309,
          1.8262680817440309,
          1.8262680817440309,
          1.8262680817440309,
          1.8262680817440309,
          4.457328019593439,
          4.457328019593439,
          4.457328019593439,
          4.457328019593439,
          4.457328019593439
         ],
         "yaxis": "y5"
        },
        {
         "line": {
          "color": "brown"
         },
         "mode": "lines+markers",
         "showlegend": false,
         "type": "scatter",
         "x": [
          2,
          2,
          2,
          2,
          2,
          3,
          3,
          3,
          3,
          3,
          4,
          4,
          4,
          4,
          4,
          5,
          5,
          5,
          5,
          5
         ],
         "xaxis": "x5",
         "y": [
          273.458396992582,
          273.458396992582,
          273.458396992582,
          273.458396992582,
          273.458396992582,
          1384.33104662732,
          1384.33104662732,
          1384.33104662732,
          1384.33104662732,
          1384.33104662732,
          4375.118844224906,
          4375.118844224906,
          4375.118844224906,
          4375.118844224906,
          4375.118844224906,
          10681.436022460734,
          10681.436022460734,
          10681.436022460734,
          10681.436022460734,
          10681.436022460734
         ],
         "yaxis": "y5"
        },
        {
         "line": {
          "color": "green"
         },
         "mode": "lines+markers",
         "showlegend": false,
         "type": "scatter",
         "x": [
          2,
          2,
          2,
          2,
          2,
          3,
          3,
          3,
          3,
          3,
          4,
          4,
          4,
          4,
          4,
          5,
          5,
          5,
          5,
          5
         ],
         "xaxis": "x5",
         "y": [
          4374.811204430524,
          4374.811204430524,
          4374.811204430524,
          4374.811204430524,
          4374.811204430524,
          22147.19504618604,
          22147.19504618604,
          22147.19504618604,
          22147.19504618604,
          22147.19504618604,
          69996.04719023914,
          69996.04719023914,
          69996.04719023914,
          69996.04719023914,
          69996.04719023914,
          170889.63584793112,
          170889.63584793112,
          170889.63584793112,
          170889.63584793112,
          170889.63584793112
         ],
         "yaxis": "y5"
        },
        {
         "line": {
          "color": "purple"
         },
         "mode": "lines+markers",
         "showlegend": false,
         "type": "scatter",
         "x": [
          2,
          2,
          2,
          2,
          2,
          3,
          3,
          3,
          3,
          3,
          4,
          4,
          4,
          4,
          4,
          5,
          5,
          5,
          5,
          5
         ],
         "xaxis": "x5",
         "y": [
          18220.286990709952,
          18220.286990709952,
          18220.286990709952,
          18220.286990709952,
          18220.286990709952,
          92239.47366553232,
          92239.47366553232,
          92239.47366553232,
          92239.47366553232,
          92239.47366553232,
          291522.7590807714,
          291522.7590807714,
          291522.7590807714,
          291522.7590807714,
          291522.7590807714,
          711729.4783646122,
          711729.4783646122,
          711729.4783646122,
          711729.4783646122,
          711729.4783646122
         ],
         "yaxis": "y5"
        },
        {
         "error_y": {
          "array": [
           0.00032863353450309987,
           0.0008648699324175862,
           0.0010246950765959596,
           0.0007536577472566706
          ]
         },
         "line": {
          "color": "red"
         },
         "mode": "lines+markers",
         "name": "Width=1",
         "type": "scatter",
         "x": [
          2,
          3,
          4,
          5
         ],
         "xaxis": "x3",
         "y": [
          -0.0001400000000000001,
          0.0001400000000000001,
          0.0006000000000000002,
          0.0004400000000000001
         ],
         "yaxis": "y3"
        },
        {
         "error_y": {
          "array": [
           0.0003807886552931956,
           0.0007314369419163895,
           0.0007700649323271381,
           0.003615660382281499
          ]
         },
         "line": {
          "color": "brown"
         },
         "mode": "lines+markers",
         "name": "Width=7",
         "type": "scatter",
         "x": [
          2,
          3,
          4,
          5
         ],
         "xaxis": "x3",
         "y": [
          -0.0003999999999999999,
          -0.00009999999999999991,
          0.0021400000000000004,
          0.00784
         ],
         "yaxis": "y3"
        },
        {
         "error_y": {
          "array": [
           0.000572712842531054,
           0.0013,
           0.0014686728703152386,
           0.020266918858080032
          ]
         },
         "line": {
          "color": "green"
         },
         "mode": "lines+markers",
         "name": "Width=14",
         "type": "scatter",
         "x": [
          2,
          3,
          4,
          5
         ],
         "xaxis": "x3",
         "y": [
          0.00033999999999999986,
          0.001,
          0.0050799999999999994,
          0.02536
         ],
         "yaxis": "y3"
        },
        {
         "error_y": {
          "array": [
           0.0006308724118235005,
           0.0006655824516917496,
           0.0032614413991362778,
           0.007027303892674628
          ]
         },
         "line": {
          "color": "purple"
         },
         "mode": "lines+markers",
         "name": "Width=20",
         "type": "scatter",
         "x": [
          2,
          3,
          4,
          5
         ],
         "xaxis": "x3",
         "y": [
          0.0005400000000000002,
          0.00146,
          0.00622,
          0.02306
         ],
         "yaxis": "y3"
        }
       ],
       "layout": {
        "annotations": [
         {
          "font": {
           "size": 16
          },
          "showarrow": false,
          "text": "σ = 1e-08",
          "x": 0.1,
          "xanchor": "center",
          "xref": "paper",
          "y": 1,
          "yanchor": "bottom",
          "yref": "paper"
         },
         {
          "font": {
           "size": 16
          },
          "showarrow": false,
          "text": "σ = 1e-07",
          "x": 0.4,
          "xanchor": "center",
          "xref": "paper",
          "y": 1,
          "yanchor": "bottom",
          "yref": "paper"
         },
         {
          "font": {
           "size": 16
          },
          "showarrow": false,
          "text": "Empirical Generalization Gap",
          "x": 0.8,
          "xanchor": "center",
          "xref": "paper",
          "y": 1,
          "yanchor": "bottom",
          "yref": "paper"
         },
         {
          "font": {
           "size": 16
          },
          "showarrow": false,
          "text": "σ = 1e-06",
          "x": 0.1,
          "xanchor": "center",
          "xref": "paper",
          "y": 0.45,
          "yanchor": "bottom",
          "yref": "paper"
         },
         {
          "font": {
           "size": 16
          },
          "showarrow": false,
          "text": "σ = 1e-05",
          "x": 0.4,
          "xanchor": "center",
          "xref": "paper",
          "y": 0.45,
          "yanchor": "bottom",
          "yref": "paper"
         }
        ],
        "height": 750,
        "margin": {
         "b": 50,
         "l": 50,
         "r": 50,
         "t": 50
        },
        "template": {
         "data": {
          "bar": [
           {
            "error_x": {
             "color": "#2a3f5f"
            },
            "error_y": {
             "color": "#2a3f5f"
            },
            "marker": {
             "line": {
              "color": "#E5ECF6",
              "width": 0.5
             },
             "pattern": {
              "fillmode": "overlay",
              "size": 10,
              "solidity": 0.2
             }
            },
            "type": "bar"
           }
          ],
          "barpolar": [
           {
            "marker": {
             "line": {
              "color": "#E5ECF6",
              "width": 0.5
             },
             "pattern": {
              "fillmode": "overlay",
              "size": 10,
              "solidity": 0.2
             }
            },
            "type": "barpolar"
           }
          ],
          "carpet": [
           {
            "aaxis": {
             "endlinecolor": "#2a3f5f",
             "gridcolor": "white",
             "linecolor": "white",
             "minorgridcolor": "white",
             "startlinecolor": "#2a3f5f"
            },
            "baxis": {
             "endlinecolor": "#2a3f5f",
             "gridcolor": "white",
             "linecolor": "white",
             "minorgridcolor": "white",
             "startlinecolor": "#2a3f5f"
            },
            "type": "carpet"
           }
          ],
          "choropleth": [
           {
            "colorbar": {
             "outlinewidth": 0,
             "ticks": ""
            },
            "type": "choropleth"
           }
          ],
          "contour": [
           {
            "colorbar": {
             "outlinewidth": 0,
             "ticks": ""
            },
            "colorscale": [
             [
              0,
              "#0d0887"
             ],
             [
              0.1111111111111111,
              "#46039f"
             ],
             [
              0.2222222222222222,
              "#7201a8"
             ],
             [
              0.3333333333333333,
              "#9c179e"
             ],
             [
              0.4444444444444444,
              "#bd3786"
             ],
             [
              0.5555555555555556,
              "#d8576b"
             ],
             [
              0.6666666666666666,
              "#ed7953"
             ],
             [
              0.7777777777777778,
              "#fb9f3a"
             ],
             [
              0.8888888888888888,
              "#fdca26"
             ],
             [
              1,
              "#f0f921"
             ]
            ],
            "type": "contour"
           }
          ],
          "contourcarpet": [
           {
            "colorbar": {
             "outlinewidth": 0,
             "ticks": ""
            },
            "type": "contourcarpet"
           }
          ],
          "heatmap": [
           {
            "colorbar": {
             "outlinewidth": 0,
             "ticks": ""
            },
            "colorscale": [
             [
              0,
              "#0d0887"
             ],
             [
              0.1111111111111111,
              "#46039f"
             ],
             [
              0.2222222222222222,
              "#7201a8"
             ],
             [
              0.3333333333333333,
              "#9c179e"
             ],
             [
              0.4444444444444444,
              "#bd3786"
             ],
             [
              0.5555555555555556,
              "#d8576b"
             ],
             [
              0.6666666666666666,
              "#ed7953"
             ],
             [
              0.7777777777777778,
              "#fb9f3a"
             ],
             [
              0.8888888888888888,
              "#fdca26"
             ],
             [
              1,
              "#f0f921"
             ]
            ],
            "type": "heatmap"
           }
          ],
          "heatmapgl": [
           {
            "colorbar": {
             "outlinewidth": 0,
             "ticks": ""
            },
            "colorscale": [
             [
              0,
              "#0d0887"
             ],
             [
              0.1111111111111111,
              "#46039f"
             ],
             [
              0.2222222222222222,
              "#7201a8"
             ],
             [
              0.3333333333333333,
              "#9c179e"
             ],
             [
              0.4444444444444444,
              "#bd3786"
             ],
             [
              0.5555555555555556,
              "#d8576b"
             ],
             [
              0.6666666666666666,
              "#ed7953"
             ],
             [
              0.7777777777777778,
              "#fb9f3a"
             ],
             [
              0.8888888888888888,
              "#fdca26"
             ],
             [
              1,
              "#f0f921"
             ]
            ],
            "type": "heatmapgl"
           }
          ],
          "histogram": [
           {
            "marker": {
             "pattern": {
              "fillmode": "overlay",
              "size": 10,
              "solidity": 0.2
             }
            },
            "type": "histogram"
           }
          ],
          "histogram2d": [
           {
            "colorbar": {
             "outlinewidth": 0,
             "ticks": ""
            },
            "colorscale": [
             [
              0,
              "#0d0887"
             ],
             [
              0.1111111111111111,
              "#46039f"
             ],
             [
              0.2222222222222222,
              "#7201a8"
             ],
             [
              0.3333333333333333,
              "#9c179e"
             ],
             [
              0.4444444444444444,
              "#bd3786"
             ],
             [
              0.5555555555555556,
              "#d8576b"
             ],
             [
              0.6666666666666666,
              "#ed7953"
             ],
             [
              0.7777777777777778,
              "#fb9f3a"
             ],
             [
              0.8888888888888888,
              "#fdca26"
             ],
             [
              1,
              "#f0f921"
             ]
            ],
            "type": "histogram2d"
           }
          ],
          "histogram2dcontour": [
           {
            "colorbar": {
             "outlinewidth": 0,
             "ticks": ""
            },
            "colorscale": [
             [
              0,
              "#0d0887"
             ],
             [
              0.1111111111111111,
              "#46039f"
             ],
             [
              0.2222222222222222,
              "#7201a8"
             ],
             [
              0.3333333333333333,
              "#9c179e"
             ],
             [
              0.4444444444444444,
              "#bd3786"
             ],
             [
              0.5555555555555556,
              "#d8576b"
             ],
             [
              0.6666666666666666,
              "#ed7953"
             ],
             [
              0.7777777777777778,
              "#fb9f3a"
             ],
             [
              0.8888888888888888,
              "#fdca26"
             ],
             [
              1,
              "#f0f921"
             ]
            ],
            "type": "histogram2dcontour"
           }
          ],
          "mesh3d": [
           {
            "colorbar": {
             "outlinewidth": 0,
             "ticks": ""
            },
            "type": "mesh3d"
           }
          ],
          "parcoords": [
           {
            "line": {
             "colorbar": {
              "outlinewidth": 0,
              "ticks": ""
             }
            },
            "type": "parcoords"
           }
          ],
          "pie": [
           {
            "automargin": true,
            "type": "pie"
           }
          ],
          "scatter": [
           {
            "fillpattern": {
             "fillmode": "overlay",
             "size": 10,
             "solidity": 0.2
            },
            "type": "scatter"
           }
          ],
          "scatter3d": [
           {
            "line": {
             "colorbar": {
              "outlinewidth": 0,
              "ticks": ""
             }
            },
            "marker": {
             "colorbar": {
              "outlinewidth": 0,
              "ticks": ""
             }
            },
            "type": "scatter3d"
           }
          ],
          "scattercarpet": [
           {
            "marker": {
             "colorbar": {
              "outlinewidth": 0,
              "ticks": ""
             }
            },
            "type": "scattercarpet"
           }
          ],
          "scattergeo": [
           {
            "marker": {
             "colorbar": {
              "outlinewidth": 0,
              "ticks": ""
             }
            },
            "type": "scattergeo"
           }
          ],
          "scattergl": [
           {
            "marker": {
             "colorbar": {
              "outlinewidth": 0,
              "ticks": ""
             }
            },
            "type": "scattergl"
           }
          ],
          "scattermapbox": [
           {
            "marker": {
             "colorbar": {
              "outlinewidth": 0,
              "ticks": ""
             }
            },
            "type": "scattermapbox"
           }
          ],
          "scatterpolar": [
           {
            "marker": {
             "colorbar": {
              "outlinewidth": 0,
              "ticks": ""
             }
            },
            "type": "scatterpolar"
           }
          ],
          "scatterpolargl": [
           {
            "marker": {
             "colorbar": {
              "outlinewidth": 0,
              "ticks": ""
             }
            },
            "type": "scatterpolargl"
           }
          ],
          "scatterternary": [
           {
            "marker": {
             "colorbar": {
              "outlinewidth": 0,
              "ticks": ""
             }
            },
            "type": "scatterternary"
           }
          ],
          "surface": [
           {
            "colorbar": {
             "outlinewidth": 0,
             "ticks": ""
            },
            "colorscale": [
             [
              0,
              "#0d0887"
             ],
             [
              0.1111111111111111,
              "#46039f"
             ],
             [
              0.2222222222222222,
              "#7201a8"
             ],
             [
              0.3333333333333333,
              "#9c179e"
             ],
             [
              0.4444444444444444,
              "#bd3786"
             ],
             [
              0.5555555555555556,
              "#d8576b"
             ],
             [
              0.6666666666666666,
              "#ed7953"
             ],
             [
              0.7777777777777778,
              "#fb9f3a"
             ],
             [
              0.8888888888888888,
              "#fdca26"
             ],
             [
              1,
              "#f0f921"
             ]
            ],
            "type": "surface"
           }
          ],
          "table": [
           {
            "cells": {
             "fill": {
              "color": "#EBF0F8"
             },
             "line": {
              "color": "white"
             }
            },
            "header": {
             "fill": {
              "color": "#C8D4E3"
             },
             "line": {
              "color": "white"
             }
            },
            "type": "table"
           }
          ]
         },
         "layout": {
          "annotationdefaults": {
           "arrowcolor": "#2a3f5f",
           "arrowhead": 0,
           "arrowwidth": 1
          },
          "autotypenumbers": "strict",
          "coloraxis": {
           "colorbar": {
            "outlinewidth": 0,
            "ticks": ""
           }
          },
          "colorscale": {
           "diverging": [
            [
             0,
             "#8e0152"
            ],
            [
             0.1,
             "#c51b7d"
            ],
            [
             0.2,
             "#de77ae"
            ],
            [
             0.3,
             "#f1b6da"
            ],
            [
             0.4,
             "#fde0ef"
            ],
            [
             0.5,
             "#f7f7f7"
            ],
            [
             0.6,
             "#e6f5d0"
            ],
            [
             0.7,
             "#b8e186"
            ],
            [
             0.8,
             "#7fbc41"
            ],
            [
             0.9,
             "#4d9221"
            ],
            [
             1,
             "#276419"
            ]
           ],
           "sequential": [
            [
             0,
             "#0d0887"
            ],
            [
             0.1111111111111111,
             "#46039f"
            ],
            [
             0.2222222222222222,
             "#7201a8"
            ],
            [
             0.3333333333333333,
             "#9c179e"
            ],
            [
             0.4444444444444444,
             "#bd3786"
            ],
            [
             0.5555555555555556,
             "#d8576b"
            ],
            [
             0.6666666666666666,
             "#ed7953"
            ],
            [
             0.7777777777777778,
             "#fb9f3a"
            ],
            [
             0.8888888888888888,
             "#fdca26"
            ],
            [
             1,
             "#f0f921"
            ]
           ],
           "sequentialminus": [
            [
             0,
             "#0d0887"
            ],
            [
             0.1111111111111111,
             "#46039f"
            ],
            [
             0.2222222222222222,
             "#7201a8"
            ],
            [
             0.3333333333333333,
             "#9c179e"
            ],
            [
             0.4444444444444444,
             "#bd3786"
            ],
            [
             0.5555555555555556,
             "#d8576b"
            ],
            [
             0.6666666666666666,
             "#ed7953"
            ],
            [
             0.7777777777777778,
             "#fb9f3a"
            ],
            [
             0.8888888888888888,
             "#fdca26"
            ],
            [
             1,
             "#f0f921"
            ]
           ]
          },
          "colorway": [
           "#636efa",
           "#EF553B",
           "#00cc96",
           "#ab63fa",
           "#FFA15A",
           "#19d3f3",
           "#FF6692",
           "#B6E880",
           "#FF97FF",
           "#FECB52"
          ],
          "font": {
           "color": "#2a3f5f"
          },
          "geo": {
           "bgcolor": "white",
           "lakecolor": "white",
           "landcolor": "#E5ECF6",
           "showlakes": true,
           "showland": true,
           "subunitcolor": "white"
          },
          "hoverlabel": {
           "align": "left"
          },
          "hovermode": "closest",
          "mapbox": {
           "style": "light"
          },
          "paper_bgcolor": "white",
          "plot_bgcolor": "#E5ECF6",
          "polar": {
           "angularaxis": {
            "gridcolor": "white",
            "linecolor": "white",
            "ticks": ""
           },
           "bgcolor": "#E5ECF6",
           "radialaxis": {
            "gridcolor": "white",
            "linecolor": "white",
            "ticks": ""
           }
          },
          "scene": {
           "xaxis": {
            "backgroundcolor": "#E5ECF6",
            "gridcolor": "white",
            "gridwidth": 2,
            "linecolor": "white",
            "showbackground": true,
            "ticks": "",
            "zerolinecolor": "white"
           },
           "yaxis": {
            "backgroundcolor": "#E5ECF6",
            "gridcolor": "white",
            "gridwidth": 2,
            "linecolor": "white",
            "showbackground": true,
            "ticks": "",
            "zerolinecolor": "white"
           },
           "zaxis": {
            "backgroundcolor": "#E5ECF6",
            "gridcolor": "white",
            "gridwidth": 2,
            "linecolor": "white",
            "showbackground": true,
            "ticks": "",
            "zerolinecolor": "white"
           }
          },
          "shapedefaults": {
           "line": {
            "color": "#2a3f5f"
           }
          },
          "ternary": {
           "aaxis": {
            "gridcolor": "white",
            "linecolor": "white",
            "ticks": ""
           },
           "baxis": {
            "gridcolor": "white",
            "linecolor": "white",
            "ticks": ""
           },
           "bgcolor": "#E5ECF6",
           "caxis": {
            "gridcolor": "white",
            "linecolor": "white",
            "ticks": ""
           }
          },
          "title": {
           "x": 0.05
          },
          "xaxis": {
           "automargin": true,
           "gridcolor": "white",
           "linecolor": "white",
           "ticks": "",
           "title": {
            "standoff": 15
           },
           "zerolinecolor": "white",
           "zerolinewidth": 2
          },
          "yaxis": {
           "automargin": true,
           "gridcolor": "white",
           "linecolor": "white",
           "ticks": "",
           "title": {
            "standoff": 15
           },
           "zerolinecolor": "white",
           "zerolinewidth": 2
          }
         }
        },
        "title": {
         "text": "Comparison of Empirical and Theoretical Generalization Gap by Degree, width (m=1.0e+15)",
         "x": 0.5,
         "xanchor": "center"
        },
        "width": 1200,
        "xaxis": {
         "anchor": "y",
         "domain": [
          0,
          0.2
         ]
        },
        "xaxis2": {
         "anchor": "y2",
         "domain": [
          0.30000000000000004,
          0.5
         ]
        },
        "xaxis3": {
         "anchor": "y3",
         "domain": [
          0.6000000000000001,
          1
         ],
         "title": {
          "text": "Degree"
         }
        },
        "xaxis4": {
         "anchor": "y4",
         "domain": [
          0,
          0.2
         ],
         "title": {
          "text": "Degree"
         }
        },
        "xaxis5": {
         "anchor": "y5",
         "domain": [
          0.30000000000000004,
          0.5
         ],
         "title": {
          "text": "Degree"
         }
        },
        "yaxis": {
         "anchor": "x",
         "domain": [
          0.55,
          1
         ],
         "title": {
          "text": "Generalzation Gap"
         }
        },
        "yaxis2": {
         "anchor": "x2",
         "domain": [
          0.55,
          1
         ]
        },
        "yaxis3": {
         "anchor": "x3",
         "domain": [
          0,
          1
         ],
         "title": {
          "text": "Generalzation Gap"
         }
        },
        "yaxis4": {
         "anchor": "x4",
         "domain": [
          0,
          0.45
         ],
         "title": {
          "text": "Generalzation Gap"
         }
        },
        "yaxis5": {
         "anchor": "x5",
         "domain": [
          0,
          0.45
         ]
        }
       }
      }
     },
     "metadata": {},
     "output_type": "display_data"
    }
   ],
   "source": [
    "import plotly.express as px\n",
    "import plotly.graph_objects as go\n",
    "from plotly.subplots import make_subplots\n",
    "\n",
    "sigmas = [ 1e-8, 1e-7, 1e-6,  1e-5]\n",
    "pos = [(1, 1), (1, 2), (2, 1), (2, 2)]\n",
    "fig = make_subplots(\n",
    "    rows=2, cols=3,\n",
    "    specs=[\n",
    "        [{\"type\": \"xy\"}, {\"type\": \"xy\"}, {\"rowspan\": 2, \"colspan\": 1}],  # First row\n",
    "        [{\"type\": \"xy\"}, {\"type\": \"xy\"}, None]                           # Second row\n",
    "    ],\n",
    "    column_widths=[0.25, 0.25, 0.5],  # Left half = 0.25+0.25, Right = 0.5\n",
    "    row_heights=[0.5, 0.5],\n",
    "    horizontal_spacing=0.10,\n",
    "    vertical_spacing=0.10,\n",
    "    subplot_titles=(f\"σ = {sigmas[0]}\", f\"σ = {sigmas[1]}\", \"Empirical Generalization Gap\", f\"σ = {sigmas[2]}\", f\"σ = {sigmas[3]}\")\n",
    ")\n",
    "\n",
    "# Get unique widths\n",
    "unique_widths = filtered_data[\"width\"].unique()\n",
    "colors = [\"red\", \"brown\", \"green\", \"purple\"]\n",
    "\n",
    "T = 20\n",
    "delta = 0.2\n",
    "Sigma = 0.01\n",
    "d = min(T,8*np.log(T)/(eps**2))\n",
    "# eps = 0.01\n",
    "# d = 8*math.log(T)/eps**2\n",
    "\n",
    "# T, D_f, m, omega \n",
    "\n",
    "for i, sigma in enumerate(sigmas): \n",
    "    # Plot theo_gen_gap for each width\n",
    "    filtered_data[\"theo_gen_gap\"] = filtered_data.apply(\n",
    "    lambda row: theoretical_gen_gap(\n",
    "        sigma=sigma,\n",
    "        omega=row[\"width\"],\n",
    "        D_f=row[\"deg\"],\n",
    "        T=T,\n",
    "        Sigma=Sigma,\n",
    "        m=max_m,\n",
    "        delta=delta,\n",
    "        d=d\n",
    "    ),\n",
    "    axis=1)\n",
    "    for k, width in enumerate(unique_widths):\n",
    "        subset = filtered_data[filtered_data[\"width\"] == width]\n",
    "        fig.add_trace(\n",
    "            go.Scatter(x=subset[\"deg\"], y=subset[\"theo_gen_gap\"], mode='lines+markers', line=dict(color=colors[k]), showlegend=False),\n",
    "            row=pos[i][0], col=pos[i][1]\n",
    "        )\n",
    "\n",
    "# Plot actual_gen_gap for each width, averaging over func\n",
    "for k, width in enumerate(unique_widths):\n",
    "    subset = filtered_data[filtered_data[\"width\"] == width]\n",
    "    avg_actual_gen_gap_mean = subset.groupby(\"deg\")[\"actual_gen_gap\"].mean()\n",
    "    avg_actual_gen_gap_std = subset.groupby(\"deg\")[\"actual_gen_gap\"].std()\n",
    "\n",
    "    fig.add_trace(\n",
    "        go.Scatter(x=avg_actual_gen_gap.index, y=avg_actual_gen_gap_mean.values, error_y=dict(\n",
    "            array = avg_actual_gen_gap_std.values,),\n",
    "            mode='lines+markers', line=dict(color=colors[k]), name=f\"Width={width}\"),\n",
    "        row=1, col=3\n",
    "    )\n",
    "\n",
    "fig.update_layout(\n",
    "    title={\n",
    "            'text' : f'Comparison of Empirical and Theoretical Generalization Gap by Degree, width (m={\"{:.1e}\".format(max_m)})',\n",
    "            'x':0.5,\n",
    "            'xanchor': 'center'\n",
    "        },\n",
    "    height=750,\n",
    "    width=1200,\n",
    "    margin=dict(t=50, b=50, l=50, r=50)\n",
    ")\n",
    "fig.update_xaxes(title_text=\"Degree\", row=1, col=3)\n",
    "fig.update_xaxes(title_text=\"Degree\", row=2, col=1)\n",
    "fig.update_xaxes(title_text=\"Degree\", row=2, col=2)\n",
    "fig.update_yaxes(title_text=\"Generalzation Gap\", row=1, col=1)\n",
    "fig.update_yaxes(title_text=\"Generalzation Gap\", row=1, col=3)\n",
    "fig.update_yaxes(title_text=\"Generalzation Gap\", row=2, col=1)\n",
    "fig.show()\n",
    "fig.write_image(\"plots/unpretrubed vary over sigma.png\", width=1200, height=750)\n",
    "\n"
   ]
  },
  {
   "cell_type": "code",
   "execution_count": 32,
   "metadata": {},
   "outputs": [
    {
     "name": "stdout",
     "output_type": "stream",
     "text": [
      "Requirement already satisfied: seaborn in /dartfs/rc/lab/C/CybenkoG/Miniconda3/envs/gpuq/lib/python3.10/site-packages (0.13.2)\n",
      "Requirement already satisfied: numpy!=1.24.0,>=1.20 in /dartfs/rc/lab/C/CybenkoG/Miniconda3/envs/gpuq/lib/python3.10/site-packages (from seaborn) (1.24.3)\n",
      "Requirement already satisfied: pandas>=1.2 in /dartfs/rc/lab/C/CybenkoG/Miniconda3/envs/gpuq/lib/python3.10/site-packages (from seaborn) (2.2.3)\n",
      "Requirement already satisfied: matplotlib!=3.6.1,>=3.4 in /dartfs/rc/lab/C/CybenkoG/Miniconda3/envs/gpuq/lib/python3.10/site-packages (from seaborn) (3.9.0)\n",
      "Requirement already satisfied: contourpy>=1.0.1 in /dartfs/rc/lab/C/CybenkoG/Miniconda3/envs/gpuq/lib/python3.10/site-packages (from matplotlib!=3.6.1,>=3.4->seaborn) (1.2.1)\n",
      "Requirement already satisfied: cycler>=0.10 in /dartfs/rc/lab/C/CybenkoG/Miniconda3/envs/gpuq/lib/python3.10/site-packages (from matplotlib!=3.6.1,>=3.4->seaborn) (0.12.1)\n",
      "Requirement already satisfied: fonttools>=4.22.0 in /dartfs/rc/lab/C/CybenkoG/Miniconda3/envs/gpuq/lib/python3.10/site-packages (from matplotlib!=3.6.1,>=3.4->seaborn) (4.53.0)\n",
      "Requirement already satisfied: kiwisolver>=1.3.1 in /dartfs/rc/lab/C/CybenkoG/Miniconda3/envs/gpuq/lib/python3.10/site-packages (from matplotlib!=3.6.1,>=3.4->seaborn) (1.4.5)\n",
      "Requirement already satisfied: packaging>=20.0 in /dartfs/rc/lab/C/CybenkoG/Miniconda3/envs/gpuq/lib/python3.10/site-packages (from matplotlib!=3.6.1,>=3.4->seaborn) (24.1)\n",
      "Requirement already satisfied: pillow>=8 in /dartfs/rc/lab/C/CybenkoG/Miniconda3/envs/gpuq/lib/python3.10/site-packages (from matplotlib!=3.6.1,>=3.4->seaborn) (10.3.0)\n",
      "Requirement already satisfied: pyparsing>=2.3.1 in /dartfs/rc/lab/C/CybenkoG/Miniconda3/envs/gpuq/lib/python3.10/site-packages (from matplotlib!=3.6.1,>=3.4->seaborn) (3.1.2)\n",
      "Requirement already satisfied: python-dateutil>=2.7 in /dartfs/rc/lab/C/CybenkoG/Miniconda3/envs/gpuq/lib/python3.10/site-packages (from matplotlib!=3.6.1,>=3.4->seaborn) (2.9.0.post0)\n",
      "Requirement already satisfied: pytz>=2020.1 in /dartfs/rc/lab/C/CybenkoG/Miniconda3/envs/gpuq/lib/python3.10/site-packages (from pandas>=1.2->seaborn) (2024.2)\n",
      "Requirement already satisfied: tzdata>=2022.7 in /dartfs/rc/lab/C/CybenkoG/Miniconda3/envs/gpuq/lib/python3.10/site-packages (from pandas>=1.2->seaborn) (2024.2)\n",
      "Requirement already satisfied: six>=1.5 in /dartfs/rc/lab/C/CybenkoG/Miniconda3/envs/gpuq/lib/python3.10/site-packages (from python-dateutil>=2.7->matplotlib!=3.6.1,>=3.4->seaborn) (1.16.0)\n"
     ]
    }
   ],
   "source": [
    "filtered_data = filtered_data[filtered_data[\"deg\"]!=1]\n",
    "\n",
    "fig = make_subplots(\n",
    "    rows=1, cols=2,\n",
    "    specs=[\n",
    "        [{\"type\": \"xy\"}, {\"type\": \"xy\"}]\n",
    "    ],\n",
    "    horizontal_spacing=0.10,\n",
    "    vertical_spacing=0.10,\n",
    "    subplot_titles=(\"Theoretical\", \"Empirical\")\n",
    ")\n",
    "T = 56\n",
    "\n",
    "# Get unique widths\n",
    "#unique_widths = filtered_data[\"width\"].unique()\n",
    "unique_widths = sigma_data[sigma_data[\"T\"]==T][\"omega\"].unique()\n",
    "print(\"unique_widths: \" + str(unique_widths))\n",
    "colors = [\"red\", \"brown\", \"green\", \"purple\"]\n",
    "\n",
    "delta = 0.2\n",
    "Sigma = 0.01\n",
    "eps = 0.1\n",
    "d = min(T,8*math.log(T)/eps**2)\n",
    "optimize_each_sigma = True\n",
    "\n",
    "\n",
    "def fetch_optimal_sigma(row):\n",
    "    # Fetch optimal sigma for each width\n",
    "    print(\"omega: \" + str(row[\"width\"]) + \", D_f: \" + str(row[\"deg\"]) + \", T: \" + str(T))\n",
    "\n",
    "    return sigma_data[(sigma_data[\"T\"] == T) & \n",
    "                      (sigma_data[\"omega\"] == row[\"width\"]) & \n",
    "                      (sigma_data[\"D_f\"] == row[\"deg\"])][\"sigma\"].values[-1]\n",
    "\n",
    "    \n",
    "if optimize_each_sigma:\n",
    "# Fetch optimal theo_gen_gap for each width\n",
    "    sigma_data[\"theo_gen_gap\"] = filtered_data.apply(\n",
    "        lambda row: theoretical_gen_gap(\n",
    "            sigma=fetch_optimal_sigma(row),\n",
    "            omega=row[\"width\"],\n",
    "            D_f=row[\"deg\"],\n",
    "            T=T,\n",
    "            Sigma=Sigma,\n",
    "            m = max_m,\n",
    "            delta=delta,\n",
    "            d = d\n",
    "        ), axis=1)\n",
    "    filtered_data[\"unperturbed_gradient_term\"]= filtered_data.apply(\n",
    "        lambda row: G_u(omega=row[\"width\"],D_f = row[\"deg\"]), axis=1)\n",
    "    filtered_data[\"perturbed_hessian_term\"]= filtered_data.apply(\n",
    "        lambda row: P(sigma = fetch_optimal_sigma(row), omega=row[\"width\"],D_f = row[\"deg\"],T=T,d=d), axis=1)\n",
    "    filtered_data[\"sigma\"]= filtered_data.apply(\n",
    "        lambda row: fetch_optimal_sigma(row), axis=1)\n",
    "else:    \n",
    "    \n",
    "    # get the last (i.e. optimal) sigma for each (omega, D_f)\n",
    "    last_per_combo = (\n",
    "        sigma_sub\n",
    "        .groupby([\"omega\", \"D_f\"], observed=True)[\"sigma\"]\n",
    "        .last()\n",
    "    )\n",
    "    print(\"last_per_combo: \" + str(last_per_combo))\n",
    "    # compute the overall average of those optimal sigmas\n",
    "    mean_sigma = last_per_combo.min()\n",
    "\n",
    "    \n",
    "    # now plug this constant mean_sigma into your theo_gen_gap computation:\n",
    "    filtered_data[\"theo_gen_gap\"] = filtered_data.apply(\n",
    "        lambda row: theoretical_gen_gap(\n",
    "            sigma = mean_sigma,\n",
    "            omega = row[\"width\"],\n",
    "            D_f   = row[\"deg\"],\n",
    "            T     = T,\n",
    "            Sigma = Sigma,\n",
    "            m     = max_m,\n",
    "            delta = delta,\n",
    "            d     = d\n",
    "        ),\n",
    "        axis=1\n",
    "    )\n",
    "\n",
    "# Plot theo_gen_gap for each width\n",
    "for k, width in enumerate(unique_widths):\n",
    "    #print(\"width: \" + str(width))\n",
    "    subset = filtered_data[filtered_data[\"width\"] == width]\n",
    "    #print(\"subset: \" + (str(subset)))\n",
    "    fig.add_trace(\n",
    "        #go.Scatter(x=subset[\"deg\"], y=(subset[\"sigma\"]**2)*(subset[\"perturbed_hessian_term\"]+subset[\"unperturbed_gradient_term\"]), mode='lines+markers', line=dict(color=colors[k]), showlegend=False),\n",
    "        go.Scatter(x=subset[\"deg\"], y=subset[\"theo_gen_gap\"], mode='lines+markers', line=dict(color=colors[k]), showlegend=False),\n",
    "        #go.Scatter(x=subset[\"deg\"], y=subset[\"theo_gen_gap\"], mode='lines+markers', showlegend=False),\n",
    "\n",
    "        row=1, col=1\n",
    "    )\n",
    "\n",
    "# Plot actual_gen_gap for each width, averaging over func\n",
    "for k, width in enumerate(unique_widths):\n",
    "    subset = filtered_data[filtered_data[\"width\"] == width]\n",
    "    avg_actual_gen_gap = subset.groupby(\"deg\")[\"actual_gen_gap\"].mean()\n",
    "    fig.add_trace(\n",
    "        go.Scatter(x=avg_actual_gen_gap.index, y=avg_actual_gen_gap.values, mode='lines+markers', line=dict(color=colors[k]), name=f\"Width={width}\"),\n",
    "        #go.Scatter(x=avg_actual_gen_gap.index, y=avg_actual_gen_gap.values, mode='lines+markers', name=f\"Width={width}\"),\n",
    "        row=1, col=2\n",
    "    )\n",
    "fig.update_layout(\n",
    "    title=\"Comparison of Empirical and Theoretical Generalization Gap by Degree, Width\",\n",
    "    height=750,\n",
    "    width=1200,\n",
    "    margin=dict(t=50, b=50, l=50, r=50)\n",
    ")\n",
    "fig.update_xaxes(title_text=\"Degree\", row=1, col=3)\n",
    "fig.update_xaxes(title_text=\"Degree\", row=2, col=1)\n",
    "fig.update_xaxes(title_text=\"Degree\", row=2, col=2)\n",
    "fig.update_yaxes(title_text=\"Generalzation Gap\", row=1, col=1)\n",
    "fig.update_yaxes(title_text=\"Generalzation Gap\", row=1, col=3)\n",
    "fig.update_yaxes(title_text=\"Generalzation Gap\", row=2, col=1)\n",
    "fig.show()\n",
    "fig.write_image(\"plots/unperturbed vary over sigma.png\", width=1200, height=750)"
   ]
  }
 ],
 "metadata": {
  "kernelspec": {
   "display_name": "clam",
   "language": "python",
   "name": "python3"
  },
  "language_info": {
   "codemirror_mode": {
    "name": "ipython",
    "version": 3
   },
   "file_extension": ".py",
   "mimetype": "text/x-python",
   "name": "python",
   "nbconvert_exporter": "python",
   "pygments_lexer": "ipython3",
   "version": "3.11.8"
  }
 },
 "nbformat": 4,
 "nbformat_minor": 4
}
